{
 "cells": [
  {
   "attachments": {},
   "cell_type": "markdown",
   "metadata": {},
   "source": [
    "### In this notebook we want just to make sure that we are sampling properly from ESM"
   ]
  },
  {
   "cell_type": "code",
   "execution_count": 2,
   "metadata": {},
   "outputs": [],
   "source": [
    "import torch\n",
    "import numpy as np\n",
    "import scipy\n",
    "import biotite.structure\n",
    "from biotite.structure.io import pdbx, pdb\n",
    "from biotite.structure.residues import get_residues\n",
    "from biotite.structure import filter_backbone\n",
    "from biotite.structure import get_chains\n",
    "from biotite.sequence import ProteinSequence\n",
    "from typing import Sequence, Tuple, List\n",
    "from Bio import SeqIO\n",
    "\n",
    "import sys\n",
    "sys.path.insert(1, \"/home/luchinoprince/Dropbox/Old_OneDrive/Phd/Second_year/research/Feinauer/esm/\")\n",
    "import esm\n",
    "#from esm.inverse_folding import util\n",
    "import esm.pretrained as pretrained\n",
    "\n",
    "## I import this to try to get deeper on the sampling perplexity\n",
    "from esm.inverse_folding.features import DihedralFeatures\n",
    "from esm.inverse_folding.gvp_encoder import GVPEncoder\n",
    "from esm.inverse_folding.gvp_utils import unflatten_graph\n",
    "from esm.inverse_folding.gvp_transformer_encoder import GVPTransformerEncoder\n",
    "from esm.inverse_folding.transformer_decoder import TransformerDecoder\n",
    "from esm.inverse_folding.util import rotate, CoordBatchConverter \n",
    "\n",
    "\n",
    "from torch.nn.utils.rnn import pad_sequence\n",
    "import torch.nn.functional as F\n",
    "from torch.nn.functional import one_hot\n",
    "\n",
    "from collections import defaultdict\n",
    "\n",
    "import matplotlib.pyplot as plt\n",
    "\n"
   ]
  },
  {
   "cell_type": "code",
   "execution_count": 3,
   "metadata": {},
   "outputs": [
    {
     "name": "stdout",
     "output_type": "stream",
     "text": [
      "--2023-05-23 17:10:22--  https://files.rcsb.org/download/5YH2.cif\n",
      "Resolving files.rcsb.org (files.rcsb.org)... 128.6.158.49\n",
      "Connecting to files.rcsb.org (files.rcsb.org)|128.6.158.49|:443... connected.\n",
      "HTTP request sent, awaiting response... 200 OK\n",
      "Length: unspecified [application/octet-stream]\n",
      "Saving to: ‘./5YH2.cif’\n",
      "\n",
      "5YH2.cif                [    <=>             ]   1,39M  1,99MB/s    in 0,7s    \n",
      "\n",
      "2023-05-23 17:10:23 (1,99 MB/s) - ‘./5YH2.cif’ saved [1456779]\n",
      "\n"
     ]
    }
   ],
   "source": [
    "!wget https://files.rcsb.org/download/5YH2.cif -P .    # save this to the data folder in colab"
   ]
  },
  {
   "cell_type": "code",
   "execution_count": 5,
   "metadata": {},
   "outputs": [
    {
     "name": "stderr",
     "output_type": "stream",
     "text": [
      "/home/luchinoprince/Dropbox/Old_OneDrive/Phd/Second_year/research/Feinauer/esm/esm/pretrained.py:174: UserWarning: Regression weights not found, predicting contacts will not produce correct results.\n",
      "  warnings.warn(\n"
     ]
    }
   ],
   "source": [
    "model, alphabet = esm.pretrained.esm_if1_gvp4_t16_142M_UR50()\n",
    "model = model.eval()"
   ]
  },
  {
   "cell_type": "code",
   "execution_count": 16,
   "metadata": {},
   "outputs": [
    {
     "name": "stdout",
     "output_type": "stream",
     "text": [
      "Found 4 chains: ['A' 'C' 'B' 'D'] \n",
      "\n",
      "Loaded chain C\n",
      "\n",
      "Native sequence:\n",
      "SVLQSLFEHPLYRTVLPDLTEEDTLFNLNAEIRLYPKAASESYPNWLRFHIGINRYELYSRHNPVIAALLRDLLSQKISSVGMKSGGTQLKLIMSFQNYGQALFKPMKQTREQETPPDFFYFSDFERHNAEIAAFHLDRILDFRRVPPVAGRLVNMTREIRDVTRDKKLWRTFFVSPANNICFYGECSYYCSTEHALCGKPDQIEGSLAAFLPDLALAKRKTWRNPWRRSYHKRKKAEWEVDPDYCDEVKQTPPYDRGTRLLDIMDMTIFDFLMGNMDRHHYETFEKFGNDTFIIHLDNGRGFGKHSHDEMSILVPLTQCCRVKRSTYLRLQLLAKEEYKLSSLMEESLLQDRLVPVLIKPHLEALDRRLRLVLKVLSDCVEKDGFSAVVENDLD\n",
      "395\n"
     ]
    }
   ],
   "source": [
    "fpath = '5YH2.cif' # .pdb format is also acceptable\n",
    "chain_id = 'C'\n",
    "structure = esm.inverse_folding.util.load_structure(fpath, chain_id)\n",
    "coords, native_seq = esm.inverse_folding.util.extract_coords_from_structure(structure)\n",
    "print('Native sequence:')\n",
    "print(native_seq)\n",
    "print(len(native_seq))"
   ]
  },
  {
   "cell_type": "code",
   "execution_count": 6,
   "metadata": {},
   "outputs": [
    {
     "name": "stdout",
     "output_type": "stream",
     "text": [
      "Sampled sequence: AGLDQWRSTLLTRTSDPLLSKEDDLFDLSEVKKMVPRTMPDQDASWLKFHLEIKKFRMYRRNSPTVSKLREELKRRKVMRVEQKTGGRTLTLRFKFEDFGEAWFKPRMARYAEETPIAFFNWERRADSRAVVAAYKLDKLMDLNRTPPCSARRFDMISEIRDVTDDEELRSTFFIRPTRQTAFYGKSEFLSSQEHAITGTPDVMFGAVTAMLPDLSIATRDEWQCPWRESDSKDVLSAWKIDPNYFNMIKLMPHLATGAALLNQADAWIFDHLMGNCDRHHFITFERFGKNTSFIIFDNGSGFGRSYHLNMDILEPLLQGCSMREVLYKRLVQLSQTRYSLERLLKDILGKDSGYPVLHEPFLKQLDVRLAEAVQVVKDCVKKVGEKKCLLKDTL\n",
      "Sequence recovery: 0.389873417721519\n"
     ]
    }
   ],
   "source": [
    "import numpy as np\n",
    "\n",
    "sampled_seq = model.sample(coords, temperature=1)\n",
    "print('Sampled sequence:', sampled_seq)\n",
    "\n",
    "recovery = np.mean([(a==b) for a, b in zip(native_seq, sampled_seq)])\n",
    "print('Sequence recovery:', recovery)"
   ]
  },
  {
   "cell_type": "code",
   "execution_count": 8,
   "metadata": {},
   "outputs": [
    {
     "name": "stdout",
     "output_type": "stream",
     "text": [
      "Sampled sequence: ERLRAWWASPLTQLPDPGLSEEDLLFDPEELLALLPEEEEEELPAWLRFWTGIRRRRLYERESPDVEELLRRLRTARVRRVGQKSGGRSLVLRFEFEDLGSAGFKPRVAELDEETPPEWGFWEVLQRARAVVAAYRLDRLLDLRQVPPAAGRRLDLVTELRDVTDDEELRSTFFVTPEEELCFYGRCEFRCDREHALCGRPDVVEGALVAELPDERIAPRGVYLNPWAHARERDVEALWEVDPDYCEYVRRLPPFREGRLLLELANAYVFDFLMGNADRHTFSTFERFGLDTFLLLLDNGFGFGRADYLDERILRPLEQCCLLSERLYRRLLALSEEEFSLEELMEEELGRDELWPVLARPFLRQLDRRLRRVLEVLEECEEECGREEVLVREEG\n",
      "Sequence recovery: 0.4582278481012658\n"
     ]
    }
   ],
   "source": [
    "sampled_seq = model.sample(coords, temperature=1e-6)\n",
    "print('Sampled sequence:', sampled_seq)\n",
    "\n",
    "recovery = np.mean([(a==b) for a, b in zip(native_seq, sampled_seq)])\n",
    "print('Sequence recovery:', recovery)"
   ]
  }
 ],
 "metadata": {
  "kernelspec": {
   "display_name": "IF",
   "language": "python",
   "name": "python3"
  },
  "language_info": {
   "codemirror_mode": {
    "name": "ipython",
    "version": 3
   },
   "file_extension": ".py",
   "mimetype": "text/x-python",
   "name": "python",
   "nbconvert_exporter": "python",
   "pygments_lexer": "ipython3",
   "version": "3.9.16"
  },
  "orig_nbformat": 4
 },
 "nbformat": 4,
 "nbformat_minor": 2
}
