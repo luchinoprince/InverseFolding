{
 "cells": [
  {
   "attachments": {},
   "cell_type": "markdown",
   "metadata": {},
   "source": [
    "### This notebook only serves to test if I can load using a JLD file"
   ]
  },
  {
   "cell_type": "code",
   "execution_count": 50,
   "metadata": {},
   "outputs": [],
   "source": [
    "using HDF5\n",
    "# Open the HDF5 file\n",
    "file = h5open(\"tensor_data_2cq4A01.h5\", \"r\");\n",
    "\n",
    "# Access the tensor dataset\n",
    "dataset = file[\"tensor\"];\n",
    "\n",
    "# Read the tensor data\n",
    "tensor_data = read(dataset);"
   ]
  },
  {
   "attachments": {},
   "cell_type": "markdown",
   "metadata": {},
   "source": [
    "#### Need to add $1$ since for _DCA_utils_ numbers go from $1-21$, for our implmenetation in Python from $0-20$."
   ]
  },
  {
   "cell_type": "code",
   "execution_count": 51,
   "metadata": {},
   "outputs": [
    {
     "data": {
      "text/plain": [
       "97×11439 Matrix{Int64}:\n",
       " 21  21  21  21  21  21  21  21  10  …  21  21  21  21  21  21  21  21  21\n",
       " 21  21  21  21  21  21  21  21  16     21  21  17  21  21  21  21  21  21\n",
       " 21  21  21  21  21  21  21  13   4     21  21   9  21  13  21  21  13  21\n",
       " 21  21  21  21  21  21   4  16  10     21   4   4  21  15  21  21   4  21\n",
       " 21  21  21  21  21  21   7  16   4     21   3  17  21   4  21  21   4  21\n",
       " 21  21  21  21  21  21  13   4  21  …  21   3   3  21   4  21  21   7  21\n",
       " 21  21  21  21  21  21  12  18  21     21   3   8  21  14   3  21  16  21\n",
       " 21   1  21  21  21  21  15   1  14     21  12  16  21   3  12  21  13  21\n",
       " 21   9  21   9  21  21  15  15  15     21   9   9  21   9  15  21  16  21\n",
       " 21  15   9   9  21  17  17  15   9     21   9  17  21  17  21  16  17  21\n",
       "  ⋮                   ⋮              ⋱   ⋮                   ⋮          \n",
       "  3   4  21  12  21  21  21  21  21     12  21  15  21  12  21  21  21  21\n",
       " 15  15  21   1  21  21  21  21  21     15  21  15  21   1  21  21  21  21\n",
       " 16  21  21   4  21  21  21  21  21  …  13  21  17  21  18  21  21  21  21\n",
       " 16  21  21   6  21  21  21  21  21     13  21  15  21   1  21  21  21  21\n",
       "  6  21  21   6  21  21  21  21  21     17  21   1  21   6  21  21  21  21\n",
       "  6  13  21  13  21  21  21  21  21     13  21   5  21  13  21  21  21  21\n",
       " 15  20  21   6  21  21  21  21  21     14  21  16  21  16  21  21  21  21\n",
       "  3  16  21   6  21  21  21  21  21  …  10  21  16  21   7  21  21  21  21\n",
       "  6  21  21   6  21  21  21  21  21      6  21  21  21   6  21  21  21  21"
      ]
     },
     "metadata": {},
     "output_type": "display_data"
    }
   ],
   "source": [
    "tensor_data = tensor_data .+ Int(1)  "
   ]
  },
  {
   "cell_type": "code",
   "execution_count": 52,
   "metadata": {},
   "outputs": [
    {
     "data": {
      "text/plain": [
       "(97, 11439)"
      ]
     },
     "metadata": {},
     "output_type": "display_data"
    }
   ],
   "source": [
    "N, M = size(tensor_data)"
   ]
  },
  {
   "cell_type": "code",
   "execution_count": 54,
   "metadata": {},
   "outputs": [],
   "source": [
    "W = 1/M .* ones(M);"
   ]
  },
  {
   "cell_type": "code",
   "execution_count": 55,
   "metadata": {},
   "outputs": [
    {
     "name": "stderr",
     "output_type": "stream",
     "text": [
      "WARNING: replacing module PlmDCA.\n"
     ]
    },
    {
     "data": {
      "text/plain": [
       "Main.PlmDCA"
      ]
     },
     "metadata": {},
     "output_type": "display_data"
    }
   ],
   "source": [
    "include(\"/home/luchinoprince/Dropbox/Old_OneDrive/Desktop/WSL_files/PlmDCA/src/PlmDCA.jl\")"
   ]
  },
  {
   "cell_type": "code",
   "execution_count": 58,
   "metadata": {},
   "outputs": [
    {
     "name": "stdout",
     "output_type": "stream",
     "text": [
      "site = 1\t pl = 0.1611\t time = 0.7565\texit status = FTOL_REACHED\n",
      "site = 2\t pl = 0.2920\t time = 0.8840\t"
     ]
    },
    {
     "name": "stdout",
     "output_type": "stream",
     "text": [
      "exit status = FTOL_REACHED\n"
     ]
    },
    {
     "name": "stdout",
     "output_type": "stream",
     "text": [
      "site = 3\t pl = 0.3739\t time = 0.8001\texit status = FTOL_REACHED\n",
      "site = 4\t pl = 0.5593\t time = 1.1543\t"
     ]
    },
    {
     "name": "stdout",
     "output_type": "stream",
     "text": [
      "exit status = FTOL_REACHED\n"
     ]
    },
    {
     "name": "stdout",
     "output_type": "stream",
     "text": [
      "site = 5\t pl = 0.5648\t time = 1.1465\texit status = FTOL_REACHED\n",
      "site = 6\t pl = 0.7034\t time = 1.2883\t"
     ]
    },
    {
     "name": "stdout",
     "output_type": "stream",
     "text": [
      "exit status = FTOL_REACHED\n"
     ]
    },
    {
     "name": "stdout",
     "output_type": "stream",
     "text": [
      "site = 7\t pl = 0.5759\t time = 1.2411\texit status = FTOL_REACHED\n",
      "site = 8\t pl = 0.8534\t time = 1.4201\t"
     ]
    },
    {
     "name": "stdout",
     "output_type": "stream",
     "text": [
      "exit status = FTOL_REACHED\n"
     ]
    },
    {
     "name": "stdout",
     "output_type": "stream",
     "text": [
      "site = 9\t pl = 0.7089\t time = 1.3730\texit status = FTOL_REACHED\n",
      "site = 10\t pl = 0.6032\t time = 1.2432\t"
     ]
    },
    {
     "name": "stdout",
     "output_type": "stream",
     "text": [
      "exit status = FTOL_REACHED\n"
     ]
    },
    {
     "name": "stdout",
     "output_type": "stream",
     "text": [
      "site = 11\t pl = 0.6683\t time = 1.4224\texit status = FTOL_REACHED\n",
      "site = 12\t pl = 0.4119\t time = 1.0536\t"
     ]
    },
    {
     "name": "stdout",
     "output_type": "stream",
     "text": [
      "exit status = FTOL_REACHED\n"
     ]
    },
    {
     "name": "stdout",
     "output_type": "stream",
     "text": [
      "site = 13\t pl = 0.4970\t time = 1.0725\texit status = FTOL_REACHED\n",
      "site = 14\t pl = 0.4548\t time = 1.0780\t"
     ]
    },
    {
     "name": "stdout",
     "output_type": "stream",
     "text": [
      "exit status = FTOL_REACHED\n"
     ]
    },
    {
     "name": "stdout",
     "output_type": "stream",
     "text": [
      "site = 15\t pl = 0.4387\t time = 1.1698\texit status = FTOL_REACHED\n",
      "site = 16\t pl = 0.4171\t time = 1.1086\t"
     ]
    },
    {
     "name": "stdout",
     "output_type": "stream",
     "text": [
      "exit status = FTOL_REACHED\n"
     ]
    },
    {
     "name": "stdout",
     "output_type": "stream",
     "text": [
      "site = 17\t pl = 0.8711\t time = 1.4257\texit status = FTOL_REACHED\n",
      "site = 18\t pl = 1.0405\t time = 1.4677\t"
     ]
    },
    {
     "name": "stdout",
     "output_type": "stream",
     "text": [
      "exit status = FTOL_REACHED\n"
     ]
    },
    {
     "name": "stdout",
     "output_type": "stream",
     "text": [
      "site = 19\t pl = 1.2995\t time = 1.6258\texit status = FTOL_REACHED\n",
      "site = 20\t pl = 0.9054\t time = 1.3742\t"
     ]
    },
    {
     "name": "stdout",
     "output_type": "stream",
     "text": [
      "exit status = FTOL_REACHED\n"
     ]
    },
    {
     "name": "stdout",
     "output_type": "stream",
     "text": [
      "site = 21\t pl = 1.0487\t time = 1.4116\texit status = FTOL_REACHED\n",
      "site = 22\t pl = 0.8911\t time = 1.4963\t"
     ]
    },
    {
     "name": "stdout",
     "output_type": "stream",
     "text": [
      "exit status = FTOL_REACHED\n"
     ]
    },
    {
     "name": "stdout",
     "output_type": "stream",
     "text": [
      "site = 23\t pl = 1.2879\t time = 1.5068\texit status = FTOL_REACHED\n",
      "site = 24\t pl = 1.1447\t time = 1.5247\t"
     ]
    },
    {
     "name": "stdout",
     "output_type": "stream",
     "text": [
      "exit status = FTOL_REACHED\n"
     ]
    },
    {
     "name": "stdout",
     "output_type": "stream",
     "text": [
      "site = 25\t pl = 0.4519\t time = 1.0919\texit status = FTOL_REACHED\n",
      "site = 26\t pl = 1.2579\t time = 1.5512\t"
     ]
    },
    {
     "name": "stdout",
     "output_type": "stream",
     "text": [
      "exit status = FTOL_REACHED\n"
     ]
    },
    {
     "name": "stdout",
     "output_type": "stream",
     "text": [
      "site = 27\t pl = 1.4883\t time = 1.6507\texit status = FTOL_REACHED\n",
      "site = 28\t pl = 1.0062\t time = 1.6443\t"
     ]
    },
    {
     "name": "stdout",
     "output_type": "stream",
     "text": [
      "exit status = FTOL_REACHED\n"
     ]
    },
    {
     "name": "stdout",
     "output_type": "stream",
     "text": [
      "site = 29\t pl = 0.1635\t time = 0.8264\texit status = FTOL_REACHED\n",
      "site = 30\t pl = 1.2595\t time = 1.4930\t"
     ]
    },
    {
     "name": "stdout",
     "output_type": "stream",
     "text": [
      "exit status = FTOL_REACHED\n"
     ]
    },
    {
     "name": "stdout",
     "output_type": "stream",
     "text": [
      "site = 31\t pl = 1.4130\t time = 1.7200\texit status = FTOL_REACHED\n",
      "site = 32\t pl = 0.8331\t time = 1.4452\t"
     ]
    },
    {
     "name": "stdout",
     "output_type": "stream",
     "text": [
      "exit status = FTOL_REACHED\n"
     ]
    },
    {
     "name": "stdout",
     "output_type": "stream",
     "text": [
      "site = 33\t pl = 0.1173\t time = 0.8993\texit status = FTOL_REACHED\n",
      "site = 34\t pl = 1.3906\t time = 1.6542\t"
     ]
    },
    {
     "name": "stdout",
     "output_type": "stream",
     "text": [
      "exit status = FTOL_REACHED\n"
     ]
    },
    {
     "name": "stdout",
     "output_type": "stream",
     "text": [
      "site = 35\t pl = 0.5666\t time = 1.2407\texit status = FTOL_REACHED\n",
      "site = 36\t pl = 1.3904\t time = 1.7610\t"
     ]
    },
    {
     "name": "stdout",
     "output_type": "stream",
     "text": [
      "exit status = FTOL_REACHED\n"
     ]
    },
    {
     "name": "stdout",
     "output_type": "stream",
     "text": [
      "site = 37\t pl = 0.9803\t time = 1.5120\texit status = FTOL_REACHED\n",
      "site = 38\t pl = 0.7741\t time = 1.3723\t"
     ]
    },
    {
     "name": "stdout",
     "output_type": "stream",
     "text": [
      "exit status = FTOL_REACHED\n"
     ]
    },
    {
     "name": "stdout",
     "output_type": "stream",
     "text": [
      "site = 39\t pl = 0.9801\t time = 1.6210\texit status = FTOL_REACHED\n",
      "site = 40\t pl = 0.7029\t time = 1.2853\t"
     ]
    },
    {
     "name": "stdout",
     "output_type": "stream",
     "text": [
      "exit status = FTOL_REACHED\n"
     ]
    },
    {
     "name": "stdout",
     "output_type": "stream",
     "text": [
      "site = 41\t pl = 0.7956\t time = 1.5068\texit status = FTOL_REACHED\n",
      "site = 42\t pl = 1.2465\t time = 1.6058\t"
     ]
    },
    {
     "name": "stdout",
     "output_type": "stream",
     "text": [
      "exit status = FTOL_REACHED\n"
     ]
    },
    {
     "name": "stdout",
     "output_type": "stream",
     "text": [
      "site = 43\t pl = 0.4062\t time = 1.0874\texit status = FTOL_REACHED\n",
      "site = 44\t pl = 1.0616\t time = 1.4552\t"
     ]
    },
    {
     "name": "stdout",
     "output_type": "stream",
     "text": [
      "exit status = FTOL_REACHED\n"
     ]
    },
    {
     "name": "stdout",
     "output_type": "stream",
     "text": [
      "site = 45\t pl = 1.5014\t time = 1.6667\texit status = FTOL_REACHED\n",
      "site = 46\t pl = 0.5761\t time = 1.3238\t"
     ]
    },
    {
     "name": "stdout",
     "output_type": "stream",
     "text": [
      "exit status = FTOL_REACHED\n"
     ]
    },
    {
     "name": "stdout",
     "output_type": "stream",
     "text": [
      "site = 47\t pl = 0.7561\t time = 1.3778\texit status = FTOL_REACHED\n",
      "site = 48\t pl = 1.0049\t time = 1.3926\t"
     ]
    },
    {
     "name": "stdout",
     "output_type": "stream",
     "text": [
      "exit status = FTOL_REACHED\n"
     ]
    },
    {
     "name": "stdout",
     "output_type": "stream",
     "text": [
      "site = 49\t pl = 0.6173\t time = 1.2086\texit status = FTOL_REACHED\n",
      "site = 50\t pl = 0.4301\t time = 1.2898\t"
     ]
    },
    {
     "name": "stdout",
     "output_type": "stream",
     "text": [
      "exit status = FTOL_REACHED\n"
     ]
    },
    {
     "name": "stdout",
     "output_type": "stream",
     "text": [
      "site = 51\t pl = 0.1126\t time = 0.8431\texit status = FTOL_REACHED\n",
      "site = 52\t pl = 0.4253\t time = 1.0149\t"
     ]
    },
    {
     "name": "stdout",
     "output_type": "stream",
     "text": [
      "exit status = FTOL_REACHED\n"
     ]
    },
    {
     "name": "stdout",
     "output_type": "stream",
     "text": [
      "site = 53\t pl = 0.4094\t time = 1.2578\texit status = FTOL_REACHED\n",
      "site = 54\t pl = 0.2235\t time = 0.8282\t"
     ]
    },
    {
     "name": "stdout",
     "output_type": "stream",
     "text": [
      "exit status = FTOL_REACHED\n"
     ]
    },
    {
     "name": "stdout",
     "output_type": "stream",
     "text": [
      "site = 55\t pl = 0.4648\t time = 1.0719\texit status = FTOL_REACHED\n",
      "site = 56\t pl = 0.8037\t time = 1.4775\t"
     ]
    },
    {
     "name": "stdout",
     "output_type": "stream",
     "text": [
      "exit status = FTOL_REACHED\n"
     ]
    },
    {
     "name": "stdout",
     "output_type": "stream",
     "text": [
      "site = 57\t pl = 0.3912\t time = 0.9567\texit status = FTOL_REACHED\n",
      "site = 58\t pl = 1.3846\t time = 1.5515\t"
     ]
    },
    {
     "name": "stdout",
     "output_type": "stream",
     "text": [
      "exit status = FTOL_REACHED\n"
     ]
    },
    {
     "name": "stdout",
     "output_type": "stream",
     "text": [
      "site = 59\t pl = 1.2077\t time = 1.6142\texit status = FTOL_REACHED\n",
      "site = 60\t pl = 1.4505\t time = 1.8589\t"
     ]
    },
    {
     "name": "stdout",
     "output_type": "stream",
     "text": [
      "exit status = FTOL_REACHED\n"
     ]
    },
    {
     "name": "stdout",
     "output_type": "stream",
     "text": [
      "site = 61\t pl = 1.2929\t time = 1.4323\texit status = FTOL_REACHED\n",
      "site = 62\t pl = 1.0324\t time = 1.5654\t"
     ]
    },
    {
     "name": "stdout",
     "output_type": "stream",
     "text": [
      "exit status = FTOL_REACHED\n"
     ]
    },
    {
     "name": "stdout",
     "output_type": "stream",
     "text": [
      "site = 63\t pl = 0.5669\t time = 1.2288\texit status = FTOL_REACHED\n",
      "site = 64\t pl = 1.4440\t time = 1.6837\t"
     ]
    },
    {
     "name": "stdout",
     "output_type": "stream",
     "text": [
      "exit status = FTOL_REACHED\n"
     ]
    },
    {
     "name": "stdout",
     "output_type": "stream",
     "text": [
      "site = 65\t pl = 1.2915\t time = 1.6480\texit status = FTOL_REACHED\n",
      "site = 66\t pl = 0.3572\t time = 1.0177\t"
     ]
    },
    {
     "name": "stdout",
     "output_type": "stream",
     "text": [
      "exit status = FTOL_REACHED\n"
     ]
    },
    {
     "name": "stdout",
     "output_type": "stream",
     "text": [
      "site = 67\t pl = 0.9509\t time = 1.4819\texit status = FTOL_REACHED\n",
      "site = 68\t pl = 1.3143\t time = 1.6181\t"
     ]
    },
    {
     "name": "stdout",
     "output_type": "stream",
     "text": [
      "exit status = FTOL_REACHED\n"
     ]
    },
    {
     "name": "stdout",
     "output_type": "stream",
     "text": [
      "site = 69\t pl = 0.9779\t time = 1.4562\texit status = FTOL_REACHED\n",
      "site = 70\t pl = 0.9988\t time = 1.4931\t"
     ]
    },
    {
     "name": "stdout",
     "output_type": "stream",
     "text": [
      "exit status = FTOL_REACHED\n"
     ]
    },
    {
     "name": "stdout",
     "output_type": "stream",
     "text": [
      "site = 71\t pl = 0.9252\t time = 1.4715\texit status = FTOL_REACHED\n",
      "site = 72\t pl = 1.1632\t time = 1.6646\t"
     ]
    },
    {
     "name": "stdout",
     "output_type": "stream",
     "text": [
      "exit status = FTOL_REACHED\n"
     ]
    },
    {
     "name": "stdout",
     "output_type": "stream",
     "text": [
      "site = 73\t pl = 1.4103\t time = 1.6324\texit status = FTOL_REACHED\n",
      "site = 74\t pl = 0.8541\t time = 1.5145\t"
     ]
    },
    {
     "name": "stdout",
     "output_type": "stream",
     "text": [
      "exit status = FTOL_REACHED\n"
     ]
    },
    {
     "name": "stdout",
     "output_type": "stream",
     "text": [
      "site = 75\t pl = 1.1211\t time = 1.5696\texit status = FTOL_REACHED\n",
      "site = 76\t pl = 0.5192\t time = 1.0888\t"
     ]
    },
    {
     "name": "stdout",
     "output_type": "stream",
     "text": [
      "exit status = FTOL_REACHED\n"
     ]
    },
    {
     "name": "stdout",
     "output_type": "stream",
     "text": [
      "site = 77\t pl = 0.5027\t time = 1.1425\texit status = FTOL_REACHED\n",
      "site = 78\t pl = 1.3247\t time = 1.7404\t"
     ]
    },
    {
     "name": "stdout",
     "output_type": "stream",
     "text": [
      "exit status = FTOL_REACHED\n"
     ]
    },
    {
     "name": "stdout",
     "output_type": "stream",
     "text": [
      "site = 79\t pl = 0.6676\t time = 1.2871\texit status = FTOL_REACHED\n",
      "site = 80\t pl = 0.8889\t time = 1.4419\t"
     ]
    },
    {
     "name": "stdout",
     "output_type": "stream",
     "text": [
      "exit status = FTOL_REACHED\n"
     ]
    },
    {
     "name": "stdout",
     "output_type": "stream",
     "text": [
      "site = 81\t pl = 0.4593\t time = 1.1650\texit status = FTOL_REACHED\n",
      "site = 82\t pl = 0.8019\t time = 1.4637\t"
     ]
    },
    {
     "name": "stdout",
     "output_type": "stream",
     "text": [
      "exit status = FTOL_REACHED\n"
     ]
    },
    {
     "name": "stdout",
     "output_type": "stream",
     "text": [
      "site = 83\t pl = 1.0171\t time = 1.5960\texit status = FTOL_REACHED\n",
      "site = 84\t pl = 0.5649\t time = 1.0470\t"
     ]
    },
    {
     "name": "stdout",
     "output_type": "stream",
     "text": [
      "exit status = FTOL_REACHED\n"
     ]
    },
    {
     "name": "stdout",
     "output_type": "stream",
     "text": [
      "site = 85\t pl = 1.0490\t time = 1.5307\texit status = FTOL_REACHED\n",
      "site = 86\t pl = 0.8761\t time = 1.3663\t"
     ]
    },
    {
     "name": "stdout",
     "output_type": "stream",
     "text": [
      "exit status = FTOL_REACHED\n"
     ]
    },
    {
     "name": "stdout",
     "output_type": "stream",
     "text": [
      "site = 87\t pl = 0.8512\t time = 1.4584\texit status = FTOL_REACHED\n",
      "site = 88\t pl = 0.8547\t time = 1.4456\t"
     ]
    },
    {
     "name": "stdout",
     "output_type": "stream",
     "text": [
      "exit status = FTOL_REACHED\n"
     ]
    },
    {
     "name": "stdout",
     "output_type": "stream",
     "text": [
      "site = 89\t pl = 0.8381\t time = 1.4533\texit status = FTOL_REACHED\n",
      "site = 90\t pl = 0.6368\t time = 1.2174\t"
     ]
    },
    {
     "name": "stdout",
     "output_type": "stream",
     "text": [
      "exit status = FTOL_REACHED\n"
     ]
    },
    {
     "name": "stdout",
     "output_type": "stream",
     "text": [
      "site = 91\t pl = 0.7776\t time = 1.3368\texit status = FTOL_REACHED\n",
      "site = 92\t pl = 0.6570\t time = 1.2080\t"
     ]
    },
    {
     "name": "stdout",
     "output_type": "stream",
     "text": [
      "exit status = FTOL_REACHED\n"
     ]
    },
    {
     "name": "stdout",
     "output_type": "stream",
     "text": [
      "site = 93\t pl = 0.4811\t time = 1.1142\texit status = FTOL_REACHED\n",
      "site = 94\t pl = 0.4241\t time = 1.0428\t"
     ]
    },
    {
     "name": "stdout",
     "output_type": "stream",
     "text": [
      "exit status = FTOL_REACHED\n"
     ]
    },
    {
     "name": "stdout",
     "output_type": "stream",
     "text": [
      "site = 95\t pl = 0.4705\t time = 1.1303\texit status = FTOL_REACHED\n",
      "site = 96\t pl = 0.3829\t time = 1.0282\t"
     ]
    },
    {
     "name": "stdout",
     "output_type": "stream",
     "text": [
      "exit status = FTOL_REACHED\n"
     ]
    },
    {
     "name": "stdout",
     "output_type": "stream",
     "text": [
      "site = 97\t pl = 0.0949\t time = 0.5811\texit status = FTOL_REACHED\n"
     ]
    }
   ],
   "source": [
    "res = PlmDCA.plmdca_asym(tensor_data, W; lambdaJ=1e-3, lambdaH=1e-3)\n"
   ]
  },
  {
   "attachments": {},
   "cell_type": "markdown",
   "metadata": {},
   "source": [
    "Interestingly, this statistical consistency remains valid if the SP LM (i) are minimized independently. While\n",
    "this allows for a parallel and efficient implementation, it leads for finite data to asymmetric couplings $J_{ij} (a, b) \\neq J_{ji} (b, a)$. In practice, we infer each coupling as the mean of the asymmetric estimates $[J_{ij}(a,b)+J_{ji}(b,a)]/2$. Extract from paper [Inverse Statistical Physics of Protein Sequences](https://arxiv.org/pdf/1703.01222.pdf). This explains the output of the plmDCA output!"
   ]
  },
  {
   "cell_type": "code",
   "execution_count": 8,
   "metadata": {},
   "outputs": [],
   "source": [
    "#sum(res.pslike)/N"
   ]
  },
  {
   "cell_type": "code",
   "execution_count": 19,
   "metadata": {},
   "outputs": [
    {
     "data": {
      "text/plain": [
       "1653"
      ]
     },
     "execution_count": 19,
     "metadata": {},
     "output_type": "execute_result"
    }
   ],
   "source": [
    "#length(res.score)"
   ]
  },
  {
   "attachments": {},
   "cell_type": "markdown",
   "metadata": {},
   "source": [
    "Their vocabilary is [dict][https://github.com/pagnani/ArDCA.jl/blob/master/python-notebook/arDCA_sklearn.ipynb]:\n",
    "def letter2number(a): \n",
    "    #to convert the amino acids letters into integer numbers from 0 to 20\n",
    "    switcher = {\n",
    "        '-': 20,\n",
    "        'A': 0,\n",
    "        'C': 1,\n",
    "        'D':2,\n",
    "        'E':3,\n",
    "        'F':4,\n",
    "        'G':5,\n",
    "        'H':6,\n",
    "        'I':7,\n",
    "        'K':8,\n",
    "        'L':9,\n",
    "        'M':10,\n",
    "        'N':11,\n",
    "        'P':12,\n",
    "        'Q':13,\n",
    "        'R':14,\n",
    "        'S':15,\n",
    "        'T':16,\n",
    "        'V':17,\n",
    "        'W':18,\n",
    "        'Y':19,     \n",
    "    }\n",
    "    return switcher.get(a,0)"
   ]
  },
  {
   "attachments": {},
   "cell_type": "markdown",
   "metadata": {},
   "source": [
    "## Let us now try to train the ARDCA model"
   ]
  },
  {
   "cell_type": "code",
   "execution_count": 37,
   "metadata": {},
   "outputs": [],
   "source": [
    "using ArDCA"
   ]
  },
  {
   "cell_type": "code",
   "execution_count": 94,
   "metadata": {},
   "outputs": [
    {
     "name": "stdout",
     "output_type": "stream",
     "text": [
      "site = 2\tpl = 0.5864\ttime = 0.0662\tstatus = FTOL_REACHED\n",
      "site = 3\tpl = 0.7720\ttime = 0.0980\tstatus = FTOL_REACHED\n"
     ]
    },
    {
     "name": "stdout",
     "output_type": "stream",
     "text": [
      "site = 4\tpl = 0.9178\ttime = 0.1231\tstatus = FTOL_REACHED\n",
      "site = 5\tpl = 1.0208\ttime = 0.1210\t"
     ]
    },
    {
     "name": "stdout",
     "output_type": "stream",
     "text": [
      "status = FTOL_REACHED\n"
     ]
    },
    {
     "name": "stdout",
     "output_type": "stream",
     "text": [
      "site = 6\tpl = 1.1460\ttime = 0.1392\tstatus = FTOL_REACHED\n",
      "site = 7\tpl = 0.9862\ttime = 0.1795\t"
     ]
    },
    {
     "name": "stdout",
     "output_type": "stream",
     "text": [
      "status = FTOL_REACHED\n"
     ]
    },
    {
     "name": "stdout",
     "output_type": "stream",
     "text": [
      "site = 8\tpl = 1.3223\ttime = 0.1911\tstatus = FTOL_REACHED\n",
      "site = 9\tpl = 1.1926\ttime = 0.1990\t"
     ]
    },
    {
     "name": "stdout",
     "output_type": "stream",
     "text": [
      "status = FTOL_REACHED\n"
     ]
    },
    {
     "name": "stdout",
     "output_type": "stream",
     "text": [
      "site = 10\tpl = 1.2027\ttime = 0.2292\tstatus = FTOL_REACHED\n",
      "site = 11\tpl = 1.1412\ttime = 0.2231\t"
     ]
    },
    {
     "name": "stdout",
     "output_type": "stream",
     "text": [
      "status = FTOL_REACHED\n"
     ]
    },
    {
     "name": "stdout",
     "output_type": "stream",
     "text": [
      "site = 12\tpl = 0.7859\ttime = 0.2361\tstatus = FTOL_REACHED\n",
      "site = 13\tpl = 0.6962\ttime = 0.2551\t"
     ]
    },
    {
     "name": "stdout",
     "output_type": "stream",
     "text": [
      "status = FTOL_REACHED\n"
     ]
    },
    {
     "name": "stdout",
     "output_type": "stream",
     "text": [
      "site = 14\tpl = 0.8227\ttime = 0.2984\tstatus = FTOL_REACHED\n",
      "site = 15\tpl = 0.8410\ttime = 0.3206\t"
     ]
    },
    {
     "name": "stdout",
     "output_type": "stream",
     "text": [
      "status = FTOL_REACHED\n"
     ]
    },
    {
     "name": "stdout",
     "output_type": "stream",
     "text": [
      "site = 16\tpl = 0.6437\ttime = 0.3036\tstatus = FTOL_REACHED\n",
      "site = 17\tpl = 1.3551\ttime = 0.3975\t"
     ]
    },
    {
     "name": "stdout",
     "output_type": "stream",
     "text": [
      "status = FTOL_REACHED\n"
     ]
    },
    {
     "name": "stdout",
     "output_type": "stream",
     "text": [
      "site = 18\tpl = 1.5760\ttime = 0.4388\tstatus = FTOL_REACHED\n",
      "site = 19\tpl = 1.7094\ttime = 0.4324\t"
     ]
    },
    {
     "name": "stdout",
     "output_type": "stream",
     "text": [
      "status = FTOL_REACHED\n"
     ]
    },
    {
     "name": "stdout",
     "output_type": "stream",
     "text": [
      "site = 20\tpl = 1.2070\ttime = 0.4203\tstatus = FTOL_REACHED\n",
      "site = 21\tpl = 1.3700\ttime = 0.4692\t"
     ]
    },
    {
     "name": "stdout",
     "output_type": "stream",
     "text": [
      "status = FTOL_REACHED\n"
     ]
    },
    {
     "name": "stdout",
     "output_type": "stream",
     "text": [
      "site = 22\tpl = 1.2232\ttime = 0.4782\tstatus = FTOL_REACHED\n",
      "site = 23\tpl = 1.5610\ttime = 0.5429\t"
     ]
    },
    {
     "name": "stdout",
     "output_type": "stream",
     "text": [
      "status = FTOL_REACHED\n"
     ]
    },
    {
     "name": "stdout",
     "output_type": "stream",
     "text": [
      "site = 24\tpl = 1.4128\ttime = 0.5264\tstatus = FTOL_REACHED\n",
      "site = 25\tpl = 0.5775\ttime = 0.4514\t"
     ]
    },
    {
     "name": "stdout",
     "output_type": "stream",
     "text": [
      "status = FTOL_REACHED\n"
     ]
    },
    {
     "name": "stdout",
     "output_type": "stream",
     "text": [
      "site = 26\tpl = 1.5107\ttime = 0.5831\tstatus = FTOL_REACHED\n",
      "site = 27\tpl = 1.6866\ttime = 0.6091\t"
     ]
    },
    {
     "name": "stdout",
     "output_type": "stream",
     "text": [
      "status = FTOL_REACHED\n"
     ]
    },
    {
     "name": "stdout",
     "output_type": "stream",
     "text": [
      "site = 28\tpl = 1.2983\ttime = 0.6297\tstatus = FTOL_REACHED\n",
      "site = 29\tpl = 0.1734\ttime = 0.3499\t"
     ]
    },
    {
     "name": "stdout",
     "output_type": "stream",
     "text": [
      "status = FTOL_REACHED\n"
     ]
    },
    {
     "name": "stdout",
     "output_type": "stream",
     "text": [
      "site = 30\tpl = 1.3851\ttime = 0.6823\tstatus = FTOL_REACHED\n",
      "site = 31\tpl = 1.5893\ttime = 0.6518\t"
     ]
    },
    {
     "name": "stdout",
     "output_type": "stream",
     "text": [
      "status = FTOL_REACHED\n"
     ]
    },
    {
     "name": "stdout",
     "output_type": "stream",
     "text": [
      "site = 32\tpl = 0.9707\ttime = 0.7117\tstatus = FTOL_REACHED\n",
      "site = 33\tpl = 0.1005\ttime = 0.3537\t"
     ]
    },
    {
     "name": "stdout",
     "output_type": "stream",
     "text": [
      "status = FTOL_REACHED\n"
     ]
    },
    {
     "name": "stdout",
     "output_type": "stream",
     "text": [
      "site = 34\tpl = 1.5662\ttime = 0.7857\tstatus = FTOL_REACHED\n",
      "site = 35\tpl = 0.6479\ttime = 0.6651\t"
     ]
    },
    {
     "name": "stdout",
     "output_type": "stream",
     "text": [
      "status = FTOL_REACHED\n"
     ]
    },
    {
     "name": "stdout",
     "output_type": "stream",
     "text": [
      "site = 36\tpl = 1.5161\ttime = 0.8465\tstatus = FTOL_REACHED\n",
      "site = 37\tpl = 1.0774\ttime = 0.7962\t"
     ]
    },
    {
     "name": "stdout",
     "output_type": "stream",
     "text": [
      "status = FTOL_REACHED\n"
     ]
    },
    {
     "name": "stdout",
     "output_type": "stream",
     "text": [
      "site = 38\tpl = 0.8478\ttime = 0.7439\tstatus = FTOL_REACHED\n",
      "site = 39\tpl = 1.0172\ttime = 0.9804\t"
     ]
    },
    {
     "name": "stdout",
     "output_type": "stream",
     "text": [
      "status = FTOL_REACHED\n"
     ]
    },
    {
     "name": "stdout",
     "output_type": "stream",
     "text": [
      "site = 40\tpl = 0.7317\ttime = 0.7165\tstatus = FTOL_REACHED\n",
      "site = 41\tpl = 0.8348\ttime = 0.8046\t"
     ]
    },
    {
     "name": "stdout",
     "output_type": "stream",
     "text": [
      "status = FTOL_REACHED\n"
     ]
    },
    {
     "name": "stdout",
     "output_type": "stream",
     "text": [
      "site = 42\tpl = 1.2301\ttime = 1.0064\tstatus = FTOL_REACHED\n",
      "site = 43\tpl = 0.3863\ttime = 0.6981\t"
     ]
    },
    {
     "name": "stdout",
     "output_type": "stream",
     "text": [
      "status = FTOL_REACHED\n"
     ]
    },
    {
     "name": "stdout",
     "output_type": "stream",
     "text": [
      "site = 44\tpl = 1.0344\ttime = 1.0898\tstatus = FTOL_REACHED\n",
      "site = 45\tpl = 1.4354\ttime = 1.3108\t"
     ]
    },
    {
     "name": "stdout",
     "output_type": "stream",
     "text": [
      "status = FTOL_REACHED\n"
     ]
    },
    {
     "name": "stdout",
     "output_type": "stream",
     "text": [
      "site = 46\tpl = 0.5176\ttime = 0.8878\tstatus = FTOL_REACHED\n",
      "site = 47\tpl = 0.6809\ttime = 0.8854\t"
     ]
    },
    {
     "name": "stdout",
     "output_type": "stream",
     "text": [
      "status = FTOL_REACHED\n"
     ]
    },
    {
     "name": "stdout",
     "output_type": "stream",
     "text": [
      "site = 48\tpl = 0.8957\ttime = 1.1902\tstatus = FTOL_REACHED\n",
      "site = 49\tpl = 0.4926\ttime = 1.0557\t"
     ]
    },
    {
     "name": "stdout",
     "output_type": "stream",
     "text": [
      "status = FTOL_REACHED\n"
     ]
    },
    {
     "name": "stdout",
     "output_type": "stream",
     "text": [
      "site = 50\tpl = 0.4057\ttime = 0.8380\tstatus = FTOL_REACHED\n",
      "site = 51\tpl = 0.0642\ttime = 0.4994\t"
     ]
    },
    {
     "name": "stdout",
     "output_type": "stream",
     "text": [
      "status = FTOL_REACHED\n"
     ]
    },
    {
     "name": "stdout",
     "output_type": "stream",
     "text": [
      "site = 52\tpl = 0.3581\ttime = 1.1436\tstatus = FTOL_REACHED\n",
      "site = 53\tpl = 0.3793\ttime = 1.0314\t"
     ]
    },
    {
     "name": "stdout",
     "output_type": "stream",
     "text": [
      "status = FTOL_REACHED\n"
     ]
    },
    {
     "name": "stdout",
     "output_type": "stream",
     "text": [
      "site = 54\tpl = 0.1792\ttime = 0.6832\tstatus = FTOL_REACHED\n",
      "site = 55\tpl = 0.4205\ttime = 0.8564\t"
     ]
    },
    {
     "name": "stdout",
     "output_type": "stream",
     "text": [
      "status = FTOL_REACHED\n"
     ]
    },
    {
     "name": "stdout",
     "output_type": "stream",
     "text": [
      "site = 56\tpl = 0.6346\ttime = 1.5756\tstatus = FTOL_REACHED\n",
      "site = 57\tpl = 0.3613\ttime = 1.0488\t"
     ]
    },
    {
     "name": "stdout",
     "output_type": "stream",
     "text": [
      "status = FTOL_REACHED\n"
     ]
    },
    {
     "name": "stdout",
     "output_type": "stream",
     "text": [
      "site = 58\tpl = 1.2311\ttime = 1.9835\tstatus = FTOL_REACHED\n",
      "site = 59\tpl = 1.1456\ttime = 1.7613\t"
     ]
    },
    {
     "name": "stdout",
     "output_type": "stream",
     "text": [
      "status = FTOL_REACHED\n"
     ]
    },
    {
     "name": "stdout",
     "output_type": "stream",
     "text": [
      "site = 60\tpl = 1.2869\ttime = 2.0364\tstatus = FTOL_REACHED\n",
      "site = 61\tpl = 1.1441\ttime = 1.8483\t"
     ]
    },
    {
     "name": "stdout",
     "output_type": "stream",
     "text": [
      "status = FTOL_REACHED\n"
     ]
    },
    {
     "name": "stdout",
     "output_type": "stream",
     "text": [
      "site = 62\tpl = 0.8473\ttime = 1.9046\tstatus = FTOL_REACHED\n",
      "site = 63\tpl = 0.4286\ttime = 1.3951\t"
     ]
    },
    {
     "name": "stdout",
     "output_type": "stream",
     "text": [
      "status = FTOL_REACHED\n"
     ]
    },
    {
     "name": "stdout",
     "output_type": "stream",
     "text": [
      "site = 64\tpl = 1.2434\ttime = 2.2756\tstatus = FTOL_REACHED\n",
      "site = 65\tpl = 1.0862\ttime = 2.1669\t"
     ]
    },
    {
     "name": "stdout",
     "output_type": "stream",
     "text": [
      "status = FTOL_REACHED\n"
     ]
    },
    {
     "name": "stdout",
     "output_type": "stream",
     "text": [
      "site = 66\tpl = 0.2528\ttime = 1.0642\tstatus = FTOL_REACHED\n",
      "site = 67\tpl = 0.7849\ttime = 2.1153\t"
     ]
    },
    {
     "name": "stdout",
     "output_type": "stream",
     "text": [
      "status = FTOL_REACHED\n"
     ]
    },
    {
     "name": "stdout",
     "output_type": "stream",
     "text": [
      "site = 68\tpl = 1.0942\ttime = 2.4476\tstatus = FTOL_REACHED\n",
      "site = 69\tpl = 0.7594\ttime = 2.0476\t"
     ]
    },
    {
     "name": "stdout",
     "output_type": "stream",
     "text": [
      "status = FTOL_REACHED\n"
     ]
    },
    {
     "name": "stdout",
     "output_type": "stream",
     "text": [
      "site = 70\tpl = 0.7996\ttime = 2.3820\tstatus = FTOL_REACHED\n",
      "site = 71\tpl = 0.6935\ttime = 2.0641\t"
     ]
    },
    {
     "name": "stdout",
     "output_type": "stream",
     "text": [
      "status = FTOL_REACHED\n"
     ]
    },
    {
     "name": "stdout",
     "output_type": "stream",
     "text": [
      "site = 72\tpl = 0.8712\ttime = 2.5596\tstatus = FTOL_REACHED\n",
      "site = 73\tpl = 1.1077\ttime = 2.7282\t"
     ]
    },
    {
     "name": "stdout",
     "output_type": "stream",
     "text": [
      "status = FTOL_REACHED\n"
     ]
    },
    {
     "name": "stdout",
     "output_type": "stream",
     "text": [
      "site = 74\tpl = 0.6992\ttime = 2.1274\tstatus = FTOL_REACHED\n",
      "site = 75\tpl = 0.7881\ttime = 2.6715\t"
     ]
    },
    {
     "name": "stdout",
     "output_type": "stream",
     "text": [
      "status = FTOL_REACHED\n"
     ]
    },
    {
     "name": "stdout",
     "output_type": "stream",
     "text": [
      "site = 76\tpl = 0.3433\ttime = 1.6094\tstatus = FTOL_REACHED\n",
      "site = 77\tpl = 0.3109\ttime = 1.5989\t"
     ]
    },
    {
     "name": "stdout",
     "output_type": "stream",
     "text": [
      "status = FTOL_REACHED\n"
     ]
    },
    {
     "name": "stdout",
     "output_type": "stream",
     "text": [
      "site = 78\tpl = 0.9753\ttime = 3.0969\tstatus = FTOL_REACHED\n",
      "site = 79\tpl = 0.5044\ttime = 2.0659\t"
     ]
    },
    {
     "name": "stdout",
     "output_type": "stream",
     "text": [
      "status = FTOL_REACHED\n"
     ]
    },
    {
     "name": "stdout",
     "output_type": "stream",
     "text": [
      "site = 80\tpl = 0.6025\ttime = 2.6684\tstatus = FTOL_REACHED\n",
      "site = 81\tpl = 0.3002\ttime = 1.6773\t"
     ]
    },
    {
     "name": "stdout",
     "output_type": "stream",
     "text": [
      "status = FTOL_REACHED\n"
     ]
    },
    {
     "name": "stdout",
     "output_type": "stream",
     "text": [
      "site = 82\tpl = 0.5570\ttime = 2.4112\tstatus = FTOL_REACHED\n",
      "site = 83\tpl = 0.6328\ttime = 2.9579\t"
     ]
    },
    {
     "name": "stdout",
     "output_type": "stream",
     "text": [
      "status = FTOL_REACHED\n"
     ]
    },
    {
     "name": "stdout",
     "output_type": "stream",
     "text": [
      "site = 84\tpl = 0.3510\ttime = 1.9862\tstatus = FTOL_REACHED\n",
      "site = 85\tpl = 0.7531\ttime = 3.0021\t"
     ]
    },
    {
     "name": "stdout",
     "output_type": "stream",
     "text": [
      "status = FTOL_REACHED\n"
     ]
    },
    {
     "name": "stdout",
     "output_type": "stream",
     "text": [
      "site = 86\tpl = 0.6116\ttime = 2.8017\tstatus = FTOL_REACHED\n",
      "site = 87\tpl = 0.6094\ttime = 2.9170\t"
     ]
    },
    {
     "name": "stdout",
     "output_type": "stream",
     "text": [
      "status = FTOL_REACHED\n"
     ]
    },
    {
     "name": "stdout",
     "output_type": "stream",
     "text": [
      "site = 88\tpl = 0.6325\ttime = 2.9541\tstatus = FTOL_REACHED\n",
      "site = 89\tpl = 0.5940\ttime = 2.9734\t"
     ]
    },
    {
     "name": "stdout",
     "output_type": "stream",
     "text": [
      "status = FTOL_REACHED\n"
     ]
    },
    {
     "name": "stdout",
     "output_type": "stream",
     "text": [
      "site = 90\tpl = 0.4077\ttime = 2.4383\tstatus = FTOL_REACHED\n",
      "site = 91\tpl = 0.5201\ttime = 2.9328\t"
     ]
    },
    {
     "name": "stdout",
     "output_type": "stream",
     "text": [
      "status = FTOL_REACHED\n"
     ]
    },
    {
     "name": "stdout",
     "output_type": "stream",
     "text": [
      "site = 92\tpl = 0.4144\ttime = 2.7320\tstatus = FTOL_REACHED\n",
      "site = 93\tpl = 0.2935\ttime = 2.2898\t"
     ]
    },
    {
     "name": "stdout",
     "output_type": "stream",
     "text": [
      "status = FTOL_REACHED\n"
     ]
    },
    {
     "name": "stdout",
     "output_type": "stream",
     "text": [
      "site = 94\tpl = 0.2830\ttime = 2.1448\tstatus = FTOL_REACHED\n",
      "site = 95\tpl = 0.2742\ttime = 2.1978\t"
     ]
    },
    {
     "name": "stdout",
     "output_type": "stream",
     "text": [
      "status = FTOL_REACHED\n"
     ]
    },
    {
     "name": "stdout",
     "output_type": "stream",
     "text": [
      "site = 96\tpl = 0.2010\ttime = 2.0406\tstatus = FTOL_REACHED\n",
      "site = 97\tpl = 0.0446\ttime = 0.9804\t"
     ]
    },
    {
     "name": "stdout",
     "output_type": "stream",
     "text": [
      "status = FTOL_REACHED\n"
     ]
    },
    {
     "data": {
      "text/plain": [
       "(ArNet [N=97 q=21], ArVar [N=97 M=11439 q=21 λJ = 0.0001 λH = 0.0001 Z::Int64])"
      ]
     },
     "metadata": {},
     "output_type": "display_data"
    }
   ],
   "source": [
    "arnet, arvar = ardca(tensor_data, W; lambdaJ=1e-4, lambdaH=1e-4, permorder=:NATURAL)"
   ]
  },
  {
   "cell_type": "code",
   "execution_count": 85,
   "metadata": {},
   "outputs": [],
   "source": [
    "M = 1_0000;\n",
    "generated_alignment = sample(arnet,M);     \n"
   ]
  },
  {
   "cell_type": "code",
   "execution_count": 86,
   "metadata": {},
   "outputs": [
    {
     "data": {
      "text/plain": [
       "1"
      ]
     },
     "metadata": {},
     "output_type": "display_data"
    }
   ],
   "source": [
    "minimum(generated_alignment)"
   ]
  },
  {
   "cell_type": "code",
   "execution_count": 87,
   "metadata": {},
   "outputs": [],
   "source": [
    "generated_alignment = generated_alignment .- 1;"
   ]
  },
  {
   "cell_type": "code",
   "execution_count": 62,
   "metadata": {},
   "outputs": [
    {
     "data": {
      "text/plain": [
       "10000-element Vector{Int64}:\n",
       "  2\n",
       "  5\n",
       " 11\n",
       "  2\n",
       "  2\n",
       "  2\n",
       " 13\n",
       "  2\n",
       "  2\n",
       "  6\n",
       "  ⋮\n",
       "  3\n",
       "  8\n",
       "  2\n",
       "  2\n",
       "  2\n",
       "  2\n",
       "  3\n",
       " 16\n",
       "  5"
      ]
     },
     "metadata": {},
     "output_type": "display_data"
    }
   ],
   "source": [
    "generated_alignment[24, begin:end]"
   ]
  },
  {
   "cell_type": "code",
   "execution_count": 88,
   "metadata": {},
   "outputs": [],
   "source": [
    "using PyCall"
   ]
  },
  {
   "cell_type": "code",
   "execution_count": 89,
   "metadata": {},
   "outputs": [],
   "source": [
    "np=pyimport(\"numpy\");\n",
    "samples_ardca=np.asarray(generated_alignment);\n",
    "np.save(\"samples_ardca.npy\", samples_ardca);"
   ]
  },
  {
   "cell_type": "code",
   "execution_count": 80,
   "metadata": {},
   "outputs": [
    {
     "data": {
      "text/plain": [
       "21×21×3 Array{Float64, 3}:\n",
       "[:, :, 1] =\n",
       " -0.00242729  -0.0103762  -0.000870773  …  -0.000189567  -0.0314534\n",
       " -0.00242729  -0.0103762  -0.000870773     -0.000189567  -0.0314534\n",
       " -0.00242729  -0.0103762  -0.000870773     -0.000189567  -0.0314534\n",
       " -0.00242729  -0.0103762  -0.000870773     -0.000189567  -0.0314534\n",
       " -0.00242729  -0.0103762  -0.000870773     -0.000189567  -0.0314534\n",
       " -0.00242729  -0.0103762  -0.000870773  …  -0.000189567  -0.0314534\n",
       " -0.00242729  -0.0103762  -0.000870773     -0.000189567  -0.0314534\n",
       " -0.0431509    0.0711189  -0.0238232        0.35645       0.122824\n",
       " -0.00242729  -0.0103762  -0.000870773     -0.000189567  -0.0314534\n",
       " -0.206584     0.125732   -0.133621        -0.0317878     1.01531\n",
       "  ⋮                                     ⋱                 ⋮\n",
       " -0.00242729  -0.0103762  -0.000870773     -0.000189567  -0.0314534\n",
       " -0.00242729  -0.0103762  -0.000870773     -0.000189567  -0.0314534\n",
       " -0.00242729  -0.0103762  -0.000870773     -0.000189567  -0.0314534\n",
       " -0.00242729  -0.0103762  -0.000870773  …  -0.000189567  -0.0314534\n",
       " -0.00242729  -0.0103762  -0.000870773     -0.000189567  -0.0314534\n",
       " -0.0361303   -0.181534   -0.0188282       -0.00416528   -0.129763\n",
       " -0.00242729  -0.0103762  -0.000870773     -0.000189567  -0.0314534\n",
       " -0.00242729  -0.0103762  -0.000870773     -0.000189567  -0.0314534\n",
       "  0.510707     0.11452     0.311837     …  -0.288643     -0.75266\n",
       "\n",
       "[:, :, 2] =\n",
       " -0.0206544  -0.0029429  -0.00442383  -0.00411995  …  -0.00224034  -0.0407302\n",
       " -0.0206544  -0.0029429  -0.00442383  -0.00411995     -0.00224034  -0.0407302\n",
       " -0.0206544  -0.0029429  -0.00442383  -0.00411995     -0.00224034  -0.0407302\n",
       " -0.0206544  -0.0029429  -0.00442383  -0.00411995     -0.00224034  -0.0407302\n",
       " -0.0206544  -0.0029429  -0.00442383  -0.00411995     -0.00224034  -0.0407302\n",
       " -0.0206544  -0.0029429  -0.00442383  -0.00411995  …  -0.00224034  -0.0407302\n",
       " -0.0206544  -0.0029429  -0.00442383  -0.00411995     -0.00224034  -0.0407302\n",
       "  0.167697   -0.0682231  -0.0847862   -0.0888298      -0.0463168    0.296158\n",
       " -0.0206544  -0.0029429  -0.00442383  -0.00411995     -0.00224034  -0.0407302\n",
       "  0.263468    0.0489198  -0.00838825  -0.0288363      -0.182293    -0.174478\n",
       "  ⋮                                                ⋱                ⋮\n",
       " -0.0206544  -0.0029429  -0.00442383  -0.00411995     -0.00224034  -0.0407302\n",
       " -0.0206544  -0.0029429  -0.00442383  -0.00411995     -0.00224034  -0.0407302\n",
       " -0.0206544  -0.0029429  -0.00442383  -0.00411995     -0.00224034  -0.0407302\n",
       " -0.0206544  -0.0029429  -0.00442383  -0.00411995  …  -0.00224034  -0.0407302\n",
       " -0.0206544  -0.0029429  -0.00442383  -0.00411995     -0.00224034  -0.0407302\n",
       "  0.311231    0.258303   -0.101761     0.230014        0.290969    -0.311958\n",
       " -0.0206544  -0.0029429  -0.00442383  -0.00411995     -0.00224034  -0.0407302\n",
       " -0.0206544  -0.0029429  -0.00442383  -0.00411995     -0.00224034  -0.0407302\n",
       " -0.357372    0.0171544  -0.099699     0.219003    …   0.116443     0.981967\n",
       "\n",
       "[:, :, 3] =\n",
       " -0.00290042  -0.0146956  0.0  0.0  -0.334574  …  -0.0150938  -0.0312093\n",
       " -0.00290042  -0.0146956  0.0  0.0  -0.334574     -0.0150938  -0.0312093\n",
       " -0.00290042  -0.0146956  0.0  0.0  -0.334574     -0.0150938  -0.0312093\n",
       " -0.00290042  -0.0146956  0.0  0.0  -0.334574     -0.0150938  -0.0312093\n",
       " -0.00290042  -0.0146956  0.0  0.0  -0.334574     -0.0150938  -0.0312093\n",
       " -0.00290042  -0.0146956  0.0  0.0  -0.334574  …  -0.0150938  -0.0312093\n",
       " -0.00290042  -0.0146956  0.0  0.0  -0.334574     -0.0150938  -0.0312093\n",
       " -0.0951318    0.22334    0.0  0.0   0.615068     -0.378667   -0.172787\n",
       " -0.00290042  -0.0146956  0.0  0.0  -0.334574     -0.0150938  -0.0312093\n",
       "  0.102444     0.262544   0.0  0.0   1.13514       0.388299   -0.111178\n",
       "  ⋮                                            ⋱               ⋮\n",
       " -0.00290042  -0.0146956  0.0  0.0  -0.334574     -0.0150938  -0.0312093\n",
       " -0.00290042  -0.0146956  0.0  0.0  -0.334574     -0.0150938  -0.0312093\n",
       " -0.00290042  -0.0146956  0.0  0.0  -0.334574     -0.0150938  -0.0312093\n",
       " -0.00290042  -0.0146956  0.0  0.0  -0.334574  …  -0.0150938  -0.0312093\n",
       " -0.00290042  -0.0146956  0.0  0.0  -0.334574     -0.0150938  -0.0312093\n",
       " -0.0685419   -0.265469   0.0  0.0   0.980049      0.0246177  -0.0879769\n",
       " -0.00290042  -0.0146956  0.0  0.0  -0.334574     -0.0150938  -0.0312093\n",
       " -0.00290042  -0.0146956  0.0  0.0  -0.334574     -0.0150938  -0.0312093\n",
       " -0.32978      0.385564   0.0  0.0   1.48707   …  -0.0317852   0.769329"
      ]
     },
     "metadata": {},
     "output_type": "display_data"
    }
   ],
   "source": [
    "arnet.J[3]"
   ]
  },
  {
   "cell_type": "code",
   "execution_count": 95,
   "metadata": {},
   "outputs": [
    {
     "data": {
      "text/plain": [
       "21-element Vector{Float64}:\n",
       " 0.0\n",
       " 0.0\n",
       " 0.0\n",
       " 0.0\n",
       " 0.0\n",
       " 0.0\n",
       " 0.0\n",
       " 0.006031995803829006\n",
       " 0.0\n",
       " 0.050179211469533636\n",
       " ⋮\n",
       " 0.0\n",
       " 0.0\n",
       " 0.0\n",
       " 0.0\n",
       " 0.0\n",
       " 0.005682314887665006\n",
       " 0.0\n",
       " 0.0\n",
       " 0.896144767899154"
      ]
     },
     "metadata": {},
     "output_type": "display_data"
    }
   ],
   "source": [
    "arnet.p0"
   ]
  },
  {
   "cell_type": "code",
   "execution_count": 97,
   "metadata": {},
   "outputs": [],
   "source": [
    "using Distributions"
   ]
  },
  {
   "cell_type": "code",
   "execution_count": 102,
   "metadata": {},
   "outputs": [
    {
     "ename": "ErrorException",
     "evalue": "syntax: invalid identifier name \"?\"",
     "output_type": "error",
     "traceback": [
      "syntax: invalid identifier name \"?\"\n",
      "\n",
      "Stacktrace:\n",
      " [1] top-level scope\n",
      "   @ ~/Dropbox/Old_OneDrive/Phd/Second_year/research/Feinauer/Inverse_Folding/tests/aux_julia.ipynb:1"
     ]
    }
   ],
   "source": [
    "?Distributions.wsample"
   ]
  },
  {
   "cell_type": "code",
   "execution_count": 2,
   "metadata": {},
   "outputs": [
    {
     "data": {
      "text/plain": [
       "1×10 Matrix{Float64}:\n",
       " 0.1  0.1  0.1  0.1  0.1  0.1  0.1  0.1  0.1  0.1"
      ]
     },
     "metadata": {},
     "output_type": "display_data"
    }
   ],
   "source": [
    "m = 10\n",
    "w = 1/m*ones(1,m)"
   ]
  },
  {
   "cell_type": "code",
   "execution_count": 4,
   "metadata": {},
   "outputs": [
    {
     "name": "stdout",
     "output_type": "stream",
     "text": [
      "1\n",
      "2\n",
      "3\n",
      "4\n",
      "5\n",
      "6\n",
      "7\n",
      "8\n",
      "9\n",
      "10\n"
     ]
    }
   ],
   "source": [
    "for i in eachindex(w)\n",
    "    println(i)\n",
    "end\n"
   ]
  },
  {
   "attachments": {},
   "cell_type": "markdown",
   "metadata": {},
   "source": [
    "$p_0$ of the library is the marginal of the first position! We have to pass it to the function!"
   ]
  }
 ],
 "metadata": {
  "kernelspec": {
   "display_name": "Julia 1.7.2",
   "language": "julia",
   "name": "julia-1.7"
  },
  "language_info": {
   "file_extension": ".jl",
   "mimetype": "application/julia",
   "name": "julia",
   "version": "1.7.2"
  },
  "orig_nbformat": 4
 },
 "nbformat": 4,
 "nbformat_minor": 2
}
