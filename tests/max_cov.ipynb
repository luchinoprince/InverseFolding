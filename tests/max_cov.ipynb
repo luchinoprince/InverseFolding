{
 "cells": [
  {
   "attachments": {},
   "cell_type": "markdown",
   "metadata": {},
   "source": [
    "In this notebook I will train separately a Potts model fir a single MSA to get an upper bound on the covariance reconstruction we can get by the _pseudo likelihood maximisation_. The method, although very efficient, is known to be suboptimal to match single site and co-occurencies on the MSA with respect to more advanced methods like _Boltzmann Machine Learning_ [ref](https://pubmed.ncbi.nlm.nih.gov/29120346/). To do so I will try to use the library [plmDCA](https://github.com/bhedelius/Python-plmDCA), it is a very very trivial library."
   ]
  },
  {
   "cell_type": "code",
   "execution_count": 1,
   "metadata": {},
   "outputs": [],
   "source": [
    "import os, sys\n",
    "sys.path.insert(1, \"./../Python-plmDCA/scripts\")\n",
    "import plmDCA"
   ]
  },
  {
   "cell_type": "code",
   "execution_count": 3,
   "metadata": {},
   "outputs": [
    {
     "name": "stdout",
     "output_type": "stream",
     "text": [
      "### N = 36 B_with_id_seq = 8794 B = 7538 B_eff = 7538.0 q = 21\n",
      "\n",
      "Minimizing g_r for node r=0\n",
      "Minimizing g_r for node r=1\n",
      "Minimizing g_r for node r=2\n",
      "Minimizing g_r for node r=3\n",
      "Minimizing g_r for node r=4\n",
      "Minimizing g_r for node r=5\n",
      "Minimizing g_r for node r=6\n",
      "Minimizing g_r for node r=7\n",
      "Minimizing g_r for node r=8\n",
      "Minimizing g_r for node r=9\n",
      "Minimizing g_r for node r=10\n",
      "Minimizing g_r for node r=11\n",
      "Minimizing g_r for node r=12\n",
      "Minimizing g_r for node r=13\n",
      "Minimizing g_r for node r=14\n",
      "Minimizing g_r for node r=15\n",
      "Minimizing g_r for node r=16\n",
      "Minimizing g_r for node r=17\n",
      "Minimizing g_r for node r=18\n",
      "Minimizing g_r for node r=19\n",
      "Minimizing g_r for node r=20\n",
      "Minimizing g_r for node r=21\n",
      "Minimizing g_r for node r=22\n",
      "Minimizing g_r for node r=23\n",
      "Minimizing g_r for node r=24\n",
      "Minimizing g_r for node r=25\n",
      "Minimizing g_r for node r=26\n",
      "Minimizing g_r for node r=27\n",
      "Minimizing g_r for node r=28\n",
      "Minimizing g_r for node r=29\n",
      "Minimizing g_r for node r=30\n",
      "Minimizing g_r for node r=31\n",
      "Minimizing g_r for node r=32\n",
      "Minimizing g_r for node r=33\n",
      "Minimizing g_r for node r=34\n",
      "Minimizing g_r for node r=35\n"
     ]
    }
   ],
   "source": [
    "fpath = \"D:/Data/InverseFolding/Mutational_Data/alphafold_results_wildtype/YAP1_HUMAN_1_b0.5.a2m.a3m\"\n",
    "output_file = \"output_plm.DCA\"\n",
    "## I don't think we need any reweighting? Ask christoph\n",
    "reweight=0.0\n",
    "\n",
    "plmDCA.main(fpath, output_file, reweight)"
   ]
  },
  {
   "cell_type": "code",
   "execution_count": null,
   "metadata": {},
   "outputs": [],
   "source": []
  }
 ],
 "metadata": {
  "kernelspec": {
   "display_name": "IF3",
   "language": "python",
   "name": "python3"
  },
  "language_info": {
   "codemirror_mode": {
    "name": "ipython",
    "version": 3
   },
   "file_extension": ".py",
   "mimetype": "text/x-python",
   "name": "python",
   "nbconvert_exporter": "python",
   "pygments_lexer": "ipython3",
   "version": "3.10.9"
  },
  "orig_nbformat": 4,
  "vscode": {
   "interpreter": {
    "hash": "ef468693205e50fc967ab488061515ab821b0c81a84b9cd6a21a9f585a4dae20"
   }
  }
 },
 "nbformat": 4,
 "nbformat_minor": 2
}
