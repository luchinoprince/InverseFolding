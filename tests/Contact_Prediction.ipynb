{
 "cells": [
  {
   "cell_type": "markdown",
   "metadata": {},
   "source": [
    "# In this notebook I use the Potts model coupling matrices to predict contacts!"
   ]
  },
  {
   "cell_type": "code",
   "execution_count": 3,
   "metadata": {},
   "outputs": [],
   "source": [
    "import numpy as np\n",
    "import matplotlib.pyplot as plt\n",
    "from encoded_protein_dataset import EncodedProteinDataset, collate_fn, get_embedding\n",
    "#from pseudolikelihood import get_npll\n",
    "import torch\n",
    "from potts_decoder import PottsDecoder\n",
    "from torch.utils.data import DataLoader, RandomSampler\n",
    "from functools import partial\n",
    "import biotite.structure\n",
    "from biotite.structure.io import pdbx, pdb\n",
    "from biotite.structure.residues import get_residues\n",
    "from biotite.structure import filter_backbone\n",
    "from biotite.structure import get_chains\n",
    "from biotite.sequence import ProteinSequence\n",
    "from typing import Sequence, Tuple, List\n",
    "import scipy\n",
    "\n",
    "import os\n",
    "##TURIN HPC\n",
    "sys.path.insert(1, \"/Data/silva/esm/\")\n",
    "\n",
    "## EUROPA\n",
    "#sys.path.insert(1, \"/home/lucasilva/esm/\")\n",
    "import esm\n",
    "#from esm.inverse_folding import util\n",
    "import esm.pretrained as pretrained\n",
    "from ioutils import read_fasta, read_encodings\n",
    "from torch.nn.utils.rnn import pad_sequence\n",
    "from collections import defaultdict\n"
   ]
  },
  {
   "cell_type": "code",
   "execution_count": 4,
   "metadata": {},
   "outputs": [],
   "source": [
    "x=2"
   ]
  },
  {
   "cell_type": "code",
   "execution_count": 5,
   "metadata": {},
   "outputs": [],
   "source": [
    "def get_npll(msas_embedded, couplings, fields, N, q):\n",
    "    \"\"\" Get negative pseudo log likelihood (npll)\n",
    "    \"\"\"\n",
    "\n",
    "    B, M, _ = msas_embedded.shape\n",
    "\n",
    "    # (B, M, N*q) x (B, N*q, N*q) + (B, 1, N*q) -> (B, M, N*q) -> (B, M, N, q)\n",
    "    A = (msas_embedded @ couplings + fields.unsqueeze(1)).view(B, M, N, q)\n",
    "\n",
    "    # (B, M, N, q) -> (B, M, N)\n",
    "    Z = torch.logsumexp(A, dim=-1)\n",
    "\n",
    "    # (B, M, N, q) * (B, M, N, q) -> (B, M, N, q) -> (B, M, N)\n",
    "    C = torch.sum(A * msas_embedded.view(B, M, N, q), dim=-1)\n",
    "\n",
    "    # (B, M, N) - (B, M, N) -> (B, M, N)\n",
    "    pll = C - Z\n",
    "\n",
    "    return -pll\n",
    "def load_structure(fpath, chain=None):\n",
    "    \"\"\"\n",
    "    Args:\n",
    "        fpath: filepath to either pdb or cif file\n",
    "        chain: the chain id or list of chain ids to load\n",
    "    Returns:\n",
    "        biotite.structure.AtomArray\n",
    "    \"\"\"\n",
    "    with open(fpath) as fin:\n",
    "        pdbf = pdb.PDBFile.read(fin)\n",
    "    structure = pdb.get_structure(pdbf, model=1)\n",
    "    bbmask = filter_backbone(structure)\n",
    "    structure = structure[bbmask]\n",
    "    all_chains = get_chains(structure)\n",
    "    if len(all_chains) == 0:\n",
    "        raise ValueError('No chains found in the input file.')\n",
    "    if chain is None:\n",
    "        chain_ids = all_chains\n",
    "    elif isinstance(chain, list):\n",
    "        chain_ids = chain\n",
    "    else:\n",
    "        chain_ids = [chain] \n",
    "    for chain in chain_ids:\n",
    "        if chain not in all_chains:\n",
    "            raise ValueError(f'Chain {chain} not found in input file')\n",
    "    chain_filter = [a.chain_id in chain_ids for a in structure]\n",
    "    structure = structure[chain_filter]\n",
    "    return structure\n",
    "\n",
    "def extract_coords_from_structure(structure: biotite.structure.AtomArray):\n",
    "    \"\"\"\n",
    "    Args:\n",
    "        structure: An instance of biotite AtomArray\n",
    "    Returns:\n",
    "        Tuple (coords, seq)\n",
    "            - coords is an L x 3 x 3 array for N, CA, C coordinates\n",
    "            - seq is the extracted sequence\n",
    "    \"\"\"\n",
    "    coords = get_atom_coords_residuewise([\"N\", \"CA\", \"C\"], structure)\n",
    "    residue_identities = get_residues(structure)[1]\n",
    "    seq = ''.join([ProteinSequence.convert_letter_3to1(r) for r in residue_identities])\n",
    "    return coords, seq\n",
    "\n",
    "def get_atom_coords_residuewise(atoms: List[str], struct: biotite.structure.AtomArray):\n",
    "    \"\"\"\n",
    "    Example for atoms argument: [\"N\", \"CA\", \"C\"]\n",
    "    \"\"\"\n",
    "    def filterfn(s, axis=None):\n",
    "        filters = np.stack([s.atom_name == name for name in atoms], axis=1)\n",
    "        sum = filters.sum(0)\n",
    "        if not np.all(sum <= np.ones(filters.shape[1])):\n",
    "            raise RuntimeError(\"structure has multiple atoms with same name\")\n",
    "        index = filters.argmax(0)\n",
    "        coords = s[index].coord\n",
    "        coords[sum == 0] = float(\"nan\")\n",
    "        return coords\n",
    "\n",
    "    return biotite.structure.apply_residue_wise(struct, struct, filterfn)"
   ]
  },
  {
   "cell_type": "code",
   "execution_count": 6,
   "metadata": {},
   "outputs": [
    {
     "data": {
      "text/plain": [
       "True"
      ]
     },
     "execution_count": 6,
     "metadata": {},
     "output_type": "execute_result"
    }
   ],
   "source": [
    "torch.cuda.is_available()"
   ]
  },
  {
   "cell_type": "code",
   "execution_count": 4,
   "metadata": {},
   "outputs": [],
   "source": [
    "input_encoding_dim = 512\n",
    "q=21\n",
    "param_embed_dim = 512\n",
    "n_param_heads = 4\n",
    "d_model = 128\n",
    "n_heads = 2\n",
    "n_layers = 2\n",
    "device = 0\n",
    "eta = 1e-3\n",
    "dropout = 0.0\n",
    "\n",
    "\n",
    "decoder = PottsDecoder(q, n_layers, d_model, input_encoding_dim, param_embed_dim, n_heads, n_param_heads, dropout=dropout)\n",
    "\n",
    "##TURIN HPC\n",
    "##model_path = '/Data/InverseFoldingData/IntermediateModels/parameters_seed_0_batch_size_4_nheads_2_d_128_nparheads_4_dropout_0.1_eta_0.001_update_2000000_noise_0.02'\n",
    "\n",
    "model_path = '/home/lucasilva/parameters_seed_0_batch_size_4_nheads_2_d_128_nparheads_4_dropout_0.1_eta_0.001_update_3000000_noise_0.02'\n",
    "decoder.load_state_dict(torch.load(model_path, map_location='cpu'))\n",
    "decoder.eval();\n"
   ]
  },
  {
   "cell_type": "code",
   "execution_count": 7,
   "metadata": {},
   "outputs": [
    {
     "data": {
      "text/plain": [
       "device(type='cpu')"
      ]
     },
     "execution_count": 7,
     "metadata": {},
     "output_type": "execute_result"
    }
   ],
   "source": [
    "next(decoder.parameters()).device"
   ]
  },
  {
   "cell_type": "code",
   "execution_count": 7,
   "metadata": {},
   "outputs": [
    {
     "name": "stdout",
     "output_type": "stream",
     "text": [
      "11.6\n"
     ]
    }
   ],
   "source": [
    "print(torch.version.cuda)"
   ]
  },
  {
   "cell_type": "code",
   "execution_count": 4,
   "metadata": {},
   "outputs": [
    {
     "data": {
      "text/plain": [
       "<function esm.pretrained.esm_if1_gvp4_t16_142M_UR50()>"
      ]
     },
     "execution_count": 4,
     "metadata": {},
     "output_type": "execute_result"
    }
   ],
   "source": [
    "pretrained.esm_if1_gvp4_t16_142M_UR50"
   ]
  },
  {
   "cell_type": "code",
   "execution_count": 7,
   "metadata": {},
   "outputs": [
    {
     "name": "stderr",
     "output_type": "stream",
     "text": [
      "/Data/silva/esm/esm/pretrained.py:215: UserWarning: Regression weights not found, predicting contacts will not produce correct results.\n",
      "  warnings.warn(\n"
     ]
    }
   ],
   "source": [
    "model, alphabet = pretrained.esm_if1_gvp4_t16_142M_UR50() \n",
    "model.eval();"
   ]
  },
  {
   "cell_type": "code",
   "execution_count": 6,
   "metadata": {},
   "outputs": [
    {
     "name": "stdout",
     "output_type": "stream",
     "text": [
      "1.12.1\n"
     ]
    }
   ],
   "source": [
    "print(torch.__version__)"
   ]
  },
  {
   "cell_type": "code",
   "execution_count": 8,
   "metadata": {},
   "outputs": [],
   "source": [
    "fname3 = 'EEHEE_rd3_0037.pdb'\n",
    "pdb_folder3 = '/Data/InverseFoldingData/aan-designed-pdbs/rd3'\n",
    "fpath3 = os.path.join(pdb_folder3, fname3)\n",
    "\n",
    "structure =  load_structure(fpath3)\n",
    "coords, native_seq = extract_coords_from_structure(structure)\n",
    "rep = esm.inverse_folding.util.get_encoder_output(model, alphabet, coords)\n",
    "\n",
    "rep_padded = pad_sequence(rep.unsqueeze(0), batch_first=True, padding_value=0.0)\n",
    "padding_mask = torch.zeros((1, rep_padded.shape[1]), dtype=torch.bool)\n",
    "\n",
    "#couplings, fields = decoder(rep_padded, padding_mask)"
   ]
  },
  {
   "cell_type": "code",
   "execution_count": 6,
   "metadata": {},
   "outputs": [],
   "source": [
    "## Not very efficient but should work.\n",
    "N = len(native_seq)\n",
    "fields_2 = np.zeros(fields.shape[1:])\n",
    "couplings_2 = np.zeros(couplings.shape[1:])\n",
    "output = np.zeros((N, N))\n",
    "for i in range(N):\n",
    "    ## Let us force a zero-sum Gauge\n",
    "    h_i = fields[0, i*21:(i+1)*21].detach().numpy()\n",
    "    aux = np.zeros(q)\n",
    "    for j in range(N):\n",
    "        if j != i:\n",
    "            c = couplings[0, i*21:(i+1)*21, j*21:(j+1)*21].detach().numpy()\n",
    "            aux += (np.mean(c, axis=1) - np.mean(c))\n",
    "\n",
    "    h_i = h_i - np.mean(h_i) + aux \n",
    "    fields_2[i*21:(i+1)*21] = h_i\n",
    "\n",
    "    for j in range(i+1, N):\n",
    "        c = couplings[0, i*21:(i+1)*21, j*21:(j+1)*21].detach().numpy()\n",
    "        c = c - np.mean(c, axis=0).reshape((1, q)) - np.mean(c, axis=1).reshape((q, 1)) + np.mean(c)\n",
    "\n",
    "        couplings_2[i*21:(i+1)*21, j*21:(j+1)*21] = c\n",
    "        output[i,j] = np.sum(c**2)"
   ]
  },
  {
   "cell_type": "code",
   "execution_count": 7,
   "metadata": {},
   "outputs": [],
   "source": [
    "## Given coords[i] we have a 3x3 matrix in which the rows are the 3D coordinates of the atoms inside the backbone! The middle one is the C-alpha, which is the center\n",
    "## Of the backbone. We hence measure distances of amino acids as distances between alpha-carbons of different amino-acids.\n",
    "\n",
    "distances = np.zeros((N, N))\n",
    "\n",
    "for i in range(N):\n",
    "    for j in range(i+1, N):\n",
    "        distances[i,j] = np.sqrt(np.sum(coords[i][1,::]-coords[j][1,::])**2)\n",
    "        distances[j,i] = distances[i,j]"
   ]
  },
  {
   "cell_type": "code",
   "execution_count": 8,
   "metadata": {},
   "outputs": [
    {
     "data": {
      "text/plain": [
       "<matplotlib.image.AxesImage at 0x7fde227f57f0>"
      ]
     },
     "execution_count": 8,
     "metadata": {},
     "output_type": "execute_result"
    },
    {
     "data": {
      "image/png": "[encoded data removed]",
      "text/plain": [
       "<Figure size 640x480 with 1 Axes>"
      ]
     },
     "metadata": {},
     "output_type": "display_data"
    }
   ],
   "source": [
    "plt.imshow(distances)"
   ]
  },
  {
   "cell_type": "code",
   "execution_count": 9,
   "metadata": {},
   "outputs": [],
   "source": [
    "def contacts(distances, skip=4, threshold=8):\n",
    "    cont = np.zeros(distances.shape)\n",
    "    for i in range(distances.shape[0]):\n",
    "        cont[i, ::] = [(lambda j: (distances[i,j]<threshold and abs(i-j)>skip))(j) for j in range(distances.shape[0])]\n",
    "    return cont"
   ]
  },
  {
   "cell_type": "code",
   "execution_count": 10,
   "metadata": {},
   "outputs": [],
   "source": [
    "cont = contacts(distances)"
   ]
  },
  {
   "cell_type": "code",
   "execution_count": 11,
   "metadata": {},
   "outputs": [
    {
     "data": {
      "text/plain": [
       "<matplotlib.image.AxesImage at 0x7fdcfd7ea760>"
      ]
     },
     "execution_count": 11,
     "metadata": {},
     "output_type": "execute_result"
    },
    {
     "data": {
      "image/png": "[encoded data removed]",
      "text/plain": [
       "<Figure size 640x480 with 1 Axes>"
      ]
     },
     "metadata": {},
     "output_type": "display_data"
    }
   ],
   "source": [
    "plt.imshow(cont)"
   ]
  },
  {
   "cell_type": "markdown",
   "metadata": {},
   "source": [
    "We also apply the typical APC correction for contact prediction"
   ]
  },
  {
   "cell_type": "code",
   "execution_count": 12,
   "metadata": {},
   "outputs": [],
   "source": [
    "output_full = output + np.transpose(output)\n",
    "output_corrected = np.zeros(output_full.shape)\n",
    "mean_i = np.mean(output_full, axis=0).reshape((1, N))\n",
    "mean_j = np.mean(output_full, axis=1).reshape((N, 1))\n",
    "#output_corrected = output_full - np.transpose(np.dot(mean_j, mean_i))/np.mean(output_full)"
   ]
  },
  {
   "cell_type": "code",
   "execution_count": 13,
   "metadata": {},
   "outputs": [
    {
     "data": {
      "text/plain": [
       "<matplotlib.image.AxesImage at 0x7fdcfd762bb0>"
      ]
     },
     "execution_count": 13,
     "metadata": {},
     "output_type": "execute_result"
    },
    {
     "data": {
      "image/png": "[encoded data removed]",
      "text/plain": [
       "<Figure size 640x480 with 1 Axes>"
      ]
     },
     "metadata": {},
     "output_type": "display_data"
    }
   ],
   "source": [
    "plt.imshow(output_corrected)"
   ]
  },
  {
   "cell_type": "code",
   "execution_count": 15,
   "metadata": {},
   "outputs": [],
   "source": [
    "for i in range(N):\n",
    "    for j in range(i+1, N):\n",
    "        output_corrected[i,j] = output_full[i,j]- mean_i[0,i]*mean_j[j,0]/np.mean(output_full)\n",
    "        output_corrected[j,i] = output_corrected[i,j]"
   ]
  },
  {
   "cell_type": "code",
   "execution_count": 16,
   "metadata": {},
   "outputs": [
    {
     "data": {
      "text/plain": [
       "<matplotlib.image.AxesImage at 0x7fdcfd6656d0>"
      ]
     },
     "execution_count": 16,
     "metadata": {},
     "output_type": "execute_result"
    },
    {
     "data": {
      "image/png": "[encoded data removed]",
      "text/plain": [
       "<Figure size 640x480 with 1 Axes>"
      ]
     },
     "metadata": {},
     "output_type": "display_data"
    }
   ],
   "source": [
    "plt.imshow(output_corrected)"
   ]
  },
  {
   "cell_type": "code",
   "execution_count": 23,
   "metadata": {},
   "outputs": [],
   "source": [
    "contact_pred_apc =  np.zeros((N,N))\n",
    "for i in range(N):\n",
    "    indices = np.argsort(-output_corrected[i, ::])\n",
    "    n_cont = 0\n",
    "    idx = 0\n",
    "    while n_cont<5:\n",
    "        if abs(indices[idx]-i)>4:\n",
    "            contact_pred_apc[i, indices[idx]] = 1\n",
    "            contact_pred_apc[indices[idx], i] = 1\n",
    "            n_cont+=1\n",
    "        idx+=1"
   ]
  },
  {
   "cell_type": "code",
   "execution_count": 24,
   "metadata": {},
   "outputs": [],
   "source": [
    "contact_pred =  np.zeros((N,N))\n",
    "for i in range(N):\n",
    "    indices = np.argsort(-output_full[i, ::])\n",
    "    n_cont = 0\n",
    "    idx = 0\n",
    "    while n_cont<5:\n",
    "        if abs(indices[idx]-i)>4:\n",
    "            contact_pred[i, indices[idx]] = 1\n",
    "            contact_pred[indices[idx], i] = 1\n",
    "            n_cont+=1\n",
    "        idx+=1"
   ]
  },
  {
   "cell_type": "code",
   "execution_count": 25,
   "metadata": {},
   "outputs": [
    {
     "data": {
      "text/plain": [
       "<matplotlib.image.AxesImage at 0x7fdcfd4daee0>"
      ]
     },
     "execution_count": 25,
     "metadata": {},
     "output_type": "execute_result"
    },
    {
     "data": {
      "image/png": "[encoded data removed]",
      "text/plain": [
       "<Figure size 640x480 with 1 Axes>"
      ]
     },
     "metadata": {},
     "output_type": "display_data"
    }
   ],
   "source": [
    "plt.imshow(contact_pred_apc)"
   ]
  },
  {
   "cell_type": "code",
   "execution_count": 26,
   "metadata": {},
   "outputs": [
    {
     "data": {
      "text/plain": [
       "<matplotlib.image.AxesImage at 0x7fdcfd4a5400>"
      ]
     },
     "execution_count": 26,
     "metadata": {},
     "output_type": "execute_result"
    },
    {
     "data": {
      "image/png": "[encoded data removed]",
      "text/plain": [
       "<Figure size 640x480 with 1 Axes>"
      ]
     },
     "metadata": {},
     "output_type": "display_data"
    }
   ],
   "source": [
    "plt.imshow(contact_pred)"
   ]
  },
  {
   "cell_type": "code",
   "execution_count": 73,
   "metadata": {},
   "outputs": [
    {
     "data": {
      "text/plain": [
       "<matplotlib.image.AxesImage at 0x7fd7fdbd9340>"
      ]
     },
     "execution_count": 73,
     "metadata": {},
     "output_type": "execute_result"
    },
    {
     "data": {
      "image/png": "[encoded data removed]",
      "text/plain": [
       "<Figure size 640x480 with 1 Axes>"
      ]
     },
     "metadata": {},
     "output_type": "display_data"
    }
   ],
   "source": [
    "plt.imshow(cont)"
   ]
  },
  {
   "cell_type": "code",
   "execution_count": 76,
   "metadata": {},
   "outputs": [
    {
     "data": {
      "text/plain": [
       "6.6858944422792685"
      ]
     },
     "execution_count": 76,
     "metadata": {},
     "output_type": "execute_result"
    }
   ],
   "source": [
    "np.exp(1.9)"
   ]
  },
  {
   "cell_type": "markdown",
   "metadata": {},
   "source": [
    "Perplexity calculation:\n",
    "\n",
    "- We would like to compare our results with the perplexity of the paper of ESM, unfortunately we cannot calculate the likelihood of our predicted model, as that is the central problem of Potts models.\n",
    "- We would like to assess if we could calculate the pseudo likelihood for the model given by ESM and compare it with our results to get a benchmark to measure against.\n",
    "- We shall remember that our task is harder, as we don't give the model the exact native sequence, but give a batch of the MSA in which we often don't have the true sequence. "
   ]
  },
  {
   "cell_type": "code",
   "execution_count": 28,
   "metadata": {},
   "outputs": [
    {
     "name": "stdout",
     "output_type": "stream",
     "text": [
      "\u001b[0;31mSignature:\u001b[0m \u001b[0mesm\u001b[0m\u001b[0;34m.\u001b[0m\u001b[0minverse_folding\u001b[0m\u001b[0;34m.\u001b[0m\u001b[0mutil\u001b[0m\u001b[0;34m.\u001b[0m\u001b[0mget_sequence_loss\u001b[0m\u001b[0;34m(\u001b[0m\u001b[0mmodel\u001b[0m\u001b[0;34m,\u001b[0m \u001b[0malphabet\u001b[0m\u001b[0;34m,\u001b[0m \u001b[0mcoords\u001b[0m\u001b[0;34m,\u001b[0m \u001b[0mseq\u001b[0m\u001b[0;34m)\u001b[0m\u001b[0;34m\u001b[0m\u001b[0;34m\u001b[0m\u001b[0m\n",
      "\u001b[0;31mDocstring:\u001b[0m <no docstring>\n",
      "\u001b[0;31mFile:\u001b[0m      /Data/silva/esm/esm/inverse_folding/util.py\n",
      "\u001b[0;31mType:\u001b[0m      function\n"
     ]
    }
   ],
   "source": [
    "?esm.inverse_folding.util.get_sequence_loss"
   ]
  },
  {
   "cell_type": "code",
   "execution_count": 11,
   "metadata": {},
   "outputs": [],
   "source": [
    "res2 = esm.inverse_folding.util.get_sequence_loss(model, alphabet, coords, native_seq)"
   ]
  },
  {
   "cell_type": "code",
   "execution_count": 13,
   "metadata": {},
   "outputs": [
    {
     "data": {
      "text/plain": [
       "43"
      ]
     },
     "execution_count": 13,
     "metadata": {},
     "output_type": "execute_result"
    }
   ],
   "source": [
    "len(res2[0])"
   ]
  },
  {
   "cell_type": "code",
   "execution_count": 14,
   "metadata": {},
   "outputs": [
    {
     "data": {
      "text/plain": [
       "(43, 3, 3)"
      ]
     },
     "execution_count": 14,
     "metadata": {},
     "output_type": "execute_result"
    }
   ],
   "source": [
    "coords.shape"
   ]
  },
  {
   "cell_type": "code",
   "execution_count": 16,
   "metadata": {},
   "outputs": [
    {
     "data": {
      "text/plain": [
       "43"
      ]
     },
     "execution_count": 16,
     "metadata": {},
     "output_type": "execute_result"
    }
   ],
   "source": [
    "len(native_seq)"
   ]
  },
  {
   "cell_type": "code",
   "execution_count": 34,
   "metadata": {},
   "outputs": [],
   "source": [
    "likelihood = np.prod(res[0])"
   ]
  },
  {
   "cell_type": "code",
   "execution_count": 35,
   "metadata": {},
   "outputs": [
    {
     "data": {
      "text/plain": [
       "6.168716e-11"
      ]
     },
     "execution_count": 35,
     "metadata": {},
     "output_type": "execute_result"
    }
   ],
   "source": [
    "likelihood"
   ]
  },
  {
   "cell_type": "code",
   "execution_count": 17,
   "metadata": {},
   "outputs": [],
   "source": [
    "res = esm.inverse_folding.util.score_sequence(model, alphabet, coords, native_seq)"
   ]
  },
  {
   "cell_type": "code",
   "execution_count": 18,
   "metadata": {},
   "outputs": [
    {
     "data": {
      "text/plain": [
       "(-1.5181583138399346, -1.5181583138399346)"
      ]
     },
     "execution_count": 18,
     "metadata": {},
     "output_type": "execute_result"
    }
   ],
   "source": [
    "res"
   ]
  },
  {
   "cell_type": "code",
   "execution_count": 41,
   "metadata": {},
   "outputs": [
    {
     "data": {
      "text/plain": [
       "-1.5181583138399346"
      ]
     },
     "execution_count": 41,
     "metadata": {},
     "output_type": "execute_result"
    }
   ],
   "source": [
    "-np.sum(res2[0])/43"
   ]
  },
  {
   "cell_type": "markdown",
   "metadata": {},
   "source": [
    "Ok now we have everything, we can hence write a code that gives us the the pseudolikelihood of esm to get a benchmark for our model!"
   ]
  },
  {
   "cell_type": "markdown",
   "metadata": {},
   "source": [
    "The main observation is that:\n",
    "$$ p(y_i|y_{-i}) = \\frac{p(y)}{p(y_{-i})} = \\frac{p(y)}{\\sum_{a}p(y_i=a, y_{-i})}, $$\n",
    "which, since it involves marginalizing over just one position of the sequence is clearly computationally feasible!"
   ]
  },
  {
   "cell_type": "code",
   "execution_count": 76,
   "metadata": {},
   "outputs": [],
   "source": [
    "def get_sequence_loss(model, alphabet, coords, seq):\n",
    "    batch_converter = CoordBatchConverter(alphabet)\n",
    "    batch = [(coords, None, seq)]\n",
    "    coords, confidence, strs, tokens, padding_mask = batch_converter(batch)\n",
    "    \n",
    "    prev_output_tokens = tokens[:, :-1]\n",
    "    target = tokens[:, 1:]\n",
    "    target_padding_mask = (target == alphabet.padding_idx)\n",
    "    logits, _ = model.forward(coords, padding_mask, confidence, prev_output_tokens)\n",
    "    loss = F.cross_entropy(logits, target, reduction='none')\n",
    "    loss = loss[0].detach().numpy()\n",
    "    target_padding_mask = target_padding_mask[0].numpy()\n",
    "    return loss, target_padding_mask\n",
    "\n",
    "class BatchConverter(object):\n",
    "    \"\"\"Callable to convert an unprocessed (labels + strings) batch to a\n",
    "    processed (labels + tensor) batch.\n",
    "    \"\"\"\n",
    "\n",
    "    def __init__(self, alphabet, truncation_seq_length: int = None):\n",
    "        self.alphabet = alphabet\n",
    "        self.truncation_seq_length = truncation_seq_length\n",
    "\n",
    "    def __call__(self, raw_batch: Sequence[Tuple[str, str]]):\n",
    "        # RoBERTa uses an eos token, while ESM-1 does not.\n",
    "        batch_size = len(raw_batch)\n",
    "        batch_labels, seq_str_list = zip(*raw_batch)\n",
    "        seq_encoded_list = [self.alphabet.encode(seq_str) for seq_str in seq_str_list]\n",
    "        if self.truncation_seq_length:\n",
    "            seq_encoded_list = [seq_str[:self.truncation_seq_length] for seq_str in seq_encoded_list]\n",
    "        max_len = max(len(seq_encoded) for seq_encoded in seq_encoded_list)\n",
    "        tokens = torch.empty(\n",
    "            (\n",
    "                batch_size,\n",
    "                max_len + int(self.alphabet.prepend_bos) + int(self.alphabet.append_eos),\n",
    "            ),\n",
    "            dtype=torch.int64,\n",
    "        )\n",
    "        tokens.fill_(self.alphabet.padding_idx)\n",
    "        labels = []\n",
    "        strs = []\n",
    "\n",
    "        for i, (label, seq_str, seq_encoded) in enumerate(\n",
    "            zip(batch_labels, seq_str_list, seq_encoded_list)\n",
    "        ):\n",
    "            labels.append(label)\n",
    "            strs.append(seq_str)\n",
    "            if self.alphabet.prepend_bos:\n",
    "                tokens[i, 0] = self.alphabet.cls_idx\n",
    "            seq = torch.tensor(seq_encoded, dtype=torch.int64)\n",
    "            tokens[\n",
    "                i,\n",
    "                int(self.alphabet.prepend_bos) : len(seq_encoded)\n",
    "                + int(self.alphabet.prepend_bos),\n",
    "            ] = seq\n",
    "            if self.alphabet.append_eos:\n",
    "                tokens[i, len(seq_encoded) + int(self.alphabet.prepend_bos)] = self.alphabet.eos_idx\n",
    "\n",
    "        return labels, strs, tokens\n",
    "\n",
    "\n",
    "class CoordBatchConverter(BatchConverter):\n",
    "    def __call__(self, raw_batch: Sequence[Tuple[Sequence, str]], device=None):\n",
    "        \"\"\"\n",
    "        Args:\n",
    "            raw_batch: List of tuples (coords, confidence, seq)\n",
    "            In each tuple,\n",
    "                coords: list of floats, shape L x 3 x 3\n",
    "                confidence: list of floats, shape L; or scalar float; or None\n",
    "                seq: string of length L\n",
    "        Returns:\n",
    "            coords: Tensor of shape batch_size x L x 3 x 3\n",
    "            confidence: Tensor of shape batch_size x L\n",
    "            strs: list of strings\n",
    "            tokens: LongTensor of shape batch_size x L\n",
    "            padding_mask: ByteTensor of shape batch_size x L\n",
    "        \"\"\"\n",
    "        self.alphabet.cls_idx = self.alphabet.get_idx(\"<cath>\") \n",
    "        batch = []\n",
    "        for coords, confidence, seq in raw_batch:\n",
    "            if confidence is None:\n",
    "                confidence = 1.\n",
    "            if isinstance(confidence, float) or isinstance(confidence, int):\n",
    "                confidence = [float(confidence)] * len(coords)\n",
    "            if seq is None:\n",
    "                seq = 'X' * len(coords)\n",
    "            batch.append(((coords, confidence), seq))\n",
    "\n",
    "        coords_and_confidence, strs, tokens = super().__call__(batch)\n",
    "\n",
    "        # pad beginning and end of each protein due to legacy reasons\n",
    "        coords = [\n",
    "            F.pad(torch.tensor(cd), (0, 0, 0, 0, 1, 1), value=np.inf)\n",
    "            for cd, _ in coords_and_confidence\n",
    "        ]\n",
    "        confidence = [\n",
    "            F.pad(torch.tensor(cf), (1, 1), value=-1.)\n",
    "            for _, cf in coords_and_confidence\n",
    "        ]\n",
    "        coords = self.collate_dense_tensors(coords, pad_v=np.nan)\n",
    "        confidence = self.collate_dense_tensors(confidence, pad_v=-1.)\n",
    "        if device is not None:\n",
    "            coords = coords.to(device)\n",
    "            confidence = confidence.to(device)\n",
    "            tokens = tokens.to(device)\n",
    "        padding_mask = torch.isnan(coords[:,:,0,0])\n",
    "        coord_mask = torch.isfinite(coords.sum(-2).sum(-1))\n",
    "        confidence = confidence * coord_mask + (-1.) * padding_mask\n",
    "        return coords, confidence, strs, tokens, padding_mask\n",
    "\n",
    "    def from_lists(self, coords_list, confidence_list=None, seq_list=None, device=None):\n",
    "        \"\"\"\n",
    "        Args:\n",
    "            coords_list: list of length batch_size, each item is a list of\n",
    "            floats in shape L x 3 x 3 to describe a backbone\n",
    "            confidence_list: one of\n",
    "                - None, default to highest confidence\n",
    "                - list of length batch_size, each item is a scalar\n",
    "                - list of length batch_size, each item is a list of floats of\n",
    "                    length L to describe the confidence scores for the backbone\n",
    "                    with values between 0. and 1.\n",
    "            seq_list: either None or a list of strings\n",
    "        Returns:\n",
    "            coords: Tensor of shape batch_size x L x 3 x 3\n",
    "            confidence: Tensor of shape batch_size x L\n",
    "            strs: list of strings\n",
    "            tokens: LongTensor of shape batch_size x L\n",
    "            padding_mask: ByteTensor of shape batch_size x L\n",
    "        \"\"\"\n",
    "        batch_size = len(coords_list)\n",
    "        if confidence_list is None:\n",
    "            confidence_list = [None] * batch_size\n",
    "        if seq_list is None:\n",
    "            seq_list = [None] * batch_size\n",
    "        raw_batch = zip(coords_list, confidence_list, seq_list)\n",
    "        return self.__call__(raw_batch, device)\n",
    "\n",
    "    @staticmethod\n",
    "    def collate_dense_tensors(samples, pad_v):\n",
    "        \"\"\"\n",
    "        Takes a list of tensors with the following dimensions:\n",
    "            [(d_11,       ...,           d_1K),\n",
    "             (d_21,       ...,           d_2K),\n",
    "             ...,\n",
    "             (d_N1,       ...,           d_NK)]\n",
    "        and stack + pads them into a single tensor of:\n",
    "        (N, max_i=1,N { d_i1 }, ..., max_i=1,N {diK})\n",
    "        \"\"\"\n",
    "        if len(samples) == 0:\n",
    "            return torch.Tensor()\n",
    "        if len(set(x.dim() for x in samples)) != 1:\n",
    "            raise RuntimeError(\n",
    "                f\"Samples has varying dimensions: {[x.dim() for x in samples]}\"\n",
    "            )\n",
    "        (device,) = tuple(set(x.device for x in samples))  # assumes all on same device\n",
    "        max_shape = [max(lst) for lst in zip(*[x.shape for x in samples])]\n",
    "        result = torch.empty(\n",
    "            len(samples), *max_shape, dtype=samples[0].dtype, device=device\n",
    "        )\n",
    "        result.fill_(pad_v)\n",
    "        for i in range(len(samples)):\n",
    "            result_i = result[i]\n",
    "            t = samples[i]\n",
    "            result_i[tuple(slice(0, k) for k in t.shape)] = t\n",
    "        return result"
   ]
  },
  {
   "cell_type": "code",
   "execution_count": null,
   "metadata": {},
   "outputs": [],
   "source": [
    "def marginalize(model, coords, native_seq, restr_alphabet, alphabet_esm, i):\n",
    "    \"\"\" This gives the normalizing factor at different positions\"\"\"\n",
    "    if native_seq[i] not in restr_alphabet:\n",
    "        raise ValueError(\"Error! Character is not in the resitricted dataset.\")\n",
    "    ## I want to calculate the probability for the restricted dataset \n",
    "    norm = 0\n",
    "    for char in restr_alphabet:\n",
    "        mutated_seq = list(native_seq)\n",
    "        mutated_seq[0] = char\n",
    "        mutated_seq = \"\".join(mutated_seq)\n",
    "        res = esm.inverse_folding.util.score_sequence(model, alphabet_esm, coords, mutated_seq)[0]\n",
    "        norm += np.exp(res)\n",
    "    return norm\n",
    "\n",
    "    \n",
    "\n",
    "def get_loss_esm(model, restr_alphabet, alphabet_esm, coords, native_seq):\n",
    "    N = coords.shape[0]\n",
    "    part = 0\n",
    "    for i in range(N):\n",
    "        norm = marginalize(model, coords, native_seq, restr_alphabet, alphabet_esm, i)\n",
    "        part += np.exp(esm.inverse_folding.util.score_sequence(model, alphabet_esm, coords, native_seq)[0])/norm\n",
    "    return part/N"
   ]
  },
  {
   "cell_type": "code",
   "execution_count": 30,
   "metadata": {},
   "outputs": [
    {
     "name": "stdout",
     "output_type": "stream",
     "text": [
      "X\n",
      "B\n",
      "U\n",
      "Z\n",
      "O\n",
      ".\n"
     ]
    }
   ],
   "source": [
    "ab = 'ACDEFGHIKLMNPQRSTVWY-'\n",
    "for letter in alphabet.standard_toks:\n",
    "    if letter not in ab:\n",
    "        print(letter)"
   ]
  },
  {
   "cell_type": "code",
   "execution_count": 13,
   "metadata": {},
   "outputs": [],
   "source": [
    "#alphabet.all_toks"
   ]
  },
  {
   "cell_type": "code",
   "execution_count": 77,
   "metadata": {},
   "outputs": [],
   "source": [
    "import torch.nn.functional as F"
   ]
  },
  {
   "cell_type": "code",
   "execution_count": null,
   "metadata": {},
   "outputs": [],
   "source": [
    "model, alphabet = pretrained.esm_if1_gvp4_t16_142M_UR50() \n",
    "model.eval();"
   ]
  },
  {
   "cell_type": "code",
   "execution_count": null,
   "metadata": {},
   "outputs": [],
   "source": [
    "ab = 'ACDEFGHIKLMNPQRSTVWY-'\n",
    "marginalize(model, coords, ab, alphabet, 0)"
   ]
  },
  {
   "cell_type": "code",
   "execution_count": 45,
   "metadata": {},
   "outputs": [],
   "source": [
    "batch_converter = CoordBatchConverter(alphabet)\n",
    "batch = [(coords, None, native_seq)]\n",
    "## Tokens is the numerical sequence representation of the native sequences!\n",
    "coords, confidence, strs, tokens, padding_mask = batch_converter(batch)"
   ]
  },
  {
   "cell_type": "markdown",
   "metadata": {},
   "source": [
    "## We now want to calculate the pseudo likelihood for the esm model"
   ]
  },
  {
   "cell_type": "code",
   "execution_count": null,
   "metadata": {},
   "outputs": [],
   "source": [
    "fname3 = 'EEHEE_rd3_0037.pdb'\n",
    "pdb_folder3 = '/Data/InverseFoldingData/aan-designed-pdbs/rd3'\n",
    "fpath3 = os.path.join(pdb_folder3, fname3)\n",
    "\n",
    "structure =  load_structure(fpath3)\n",
    "coords, native_seq = extract_coords_from_structure(structure)\n",
    "rep = esm.inverse_folding.util.get_encoder_output(model, alphabet, coords)\n",
    "\n",
    "rep_padded = pad_sequence(rep.unsqueeze(0), batch_first=True, padding_value=0.0)\n",
    "padding_mask = torch.zeros((1, rep_padded.shape[1]), dtype=torch.bool)"
   ]
  },
  {
   "cell_type": "code",
   "execution_count": null,
   "metadata": {},
   "outputs": [],
   "source": []
  },
  {
   "cell_type": "code",
   "execution_count": 67,
   "metadata": {},
   "outputs": [],
   "source": [
    "mutated_seq = list(native_seq)\n",
    "mutated_seq[0] = 'X'\n",
    "mutated_seq = \"\".join(mutated_seq)"
   ]
  },
  {
   "cell_type": "code",
   "execution_count": 68,
   "metadata": {},
   "outputs": [
    {
     "data": {
      "text/plain": [
       "'XTIKVNGQEYTVPLSPEQAAKAAKKRWPDYEVQIHGNTVKVTR'"
      ]
     },
     "execution_count": 68,
     "metadata": {},
     "output_type": "execute_result"
    }
   ],
   "source": [
    "mutated_seq"
   ]
  },
  {
   "cell_type": "code",
   "execution_count": 69,
   "metadata": {},
   "outputs": [
    {
     "data": {
      "text/plain": [
       "'TTIKVNGQEYTVPLSPEQAAKAAKKRWPDYEVQIHGNTVKVTR'"
      ]
     },
     "execution_count": 69,
     "metadata": {},
     "output_type": "execute_result"
    }
   ],
   "source": [
    "native_seq"
   ]
  },
  {
   "cell_type": "code",
   "execution_count": 49,
   "metadata": {},
   "outputs": [],
   "source": [
    "ab = 'ACDEFGHIKLMNPQRSTVWY-'\n",
    "for ac in native_seq:\n",
    "    if ac not in ab:\n",
    "        print(ac)"
   ]
  },
  {
   "cell_type": "code",
   "execution_count": 46,
   "metadata": {},
   "outputs": [],
   "source": [
    "prev_output_tokens = tokens[:, :-1]\n",
    "target = tokens[:, 1:]\n",
    "target_padding_mask = (target == alphabet.padding_idx)\n",
    "logits, _ = model.forward(coords, padding_mask, confidence, prev_output_tokens)\n",
    "loss = F.cross_entropy(logits, target, reduction='none')\n",
    "loss = loss[0].detach().numpy()\n",
    "target_padding_mask = target_padding_mask[0].numpy()"
   ]
  },
  {
   "cell_type": "code",
   "execution_count": 62,
   "metadata": {},
   "outputs": [
    {
     "data": {
      "text/plain": [
       "tensor([[33, 11, 11, 12, 15,  7, 17,  6, 16,  9, 19, 11,  7, 14,  4,  8, 14,  9,\n",
       "         16,  5,  5, 15,  5,  5, 15, 15, 10, 22, 14, 13, 19,  9,  7, 16, 12, 21,\n",
       "          6, 17, 11,  7, 15,  7, 11]])"
      ]
     },
     "execution_count": 62,
     "metadata": {},
     "output_type": "execute_result"
    }
   ],
   "source": [
    "prev_output_tokens"
   ]
  },
  {
   "cell_type": "code",
   "execution_count": 64,
   "metadata": {},
   "outputs": [
    {
     "data": {
      "text/plain": [
       "tensor([[11, 11, 12, 15,  7, 17,  6, 16,  9, 19, 11,  7, 14,  4,  8, 14,  9, 16,\n",
       "          5,  5, 15,  5,  5, 15, 15, 10, 22, 14, 13, 19,  9,  7, 16, 12, 21,  6,\n",
       "         17, 11,  7, 15,  7, 11, 10]])"
      ]
     },
     "execution_count": 64,
     "metadata": {},
     "output_type": "execute_result"
    }
   ],
   "source": [
    "target = tokens[:, 1:]\n",
    "target"
   ]
  },
  {
   "cell_type": "code",
   "execution_count": 91,
   "metadata": {},
   "outputs": [
    {
     "data": {
      "text/plain": [
       "44"
      ]
     },
     "execution_count": 91,
     "metadata": {},
     "output_type": "execute_result"
    }
   ],
   "source": [
    "len(tokens[0])"
   ]
  },
  {
   "cell_type": "code",
   "execution_count": 65,
   "metadata": {},
   "outputs": [],
   "source": [
    "logits, _ = model.forward(coords, padding_mask, confidence, prev_output_tokens)"
   ]
  },
  {
   "cell_type": "code",
   "execution_count": 76,
   "metadata": {},
   "outputs": [
    {
     "data": {
      "text/plain": [
       "tensor([-0.8052,  0.8779,  4.2694,  0.3729,  1.0794, -0.3205, -0.6565,  0.8230,\n",
       "        -0.9357, -0.5373, -0.2297, -0.6499, -0.8553, -0.5040, -1.4133, -1.3378,\n",
       "         1.9648, -0.0313, -1.7673], grad_fn=<SelectBackward0>)"
      ]
     },
     "execution_count": 76,
     "metadata": {},
     "output_type": "execute_result"
    }
   ],
   "source": [
    "logits[0, 4:23, 0]"
   ]
  },
  {
   "cell_type": "code",
   "execution_count": 26,
   "metadata": {},
   "outputs": [],
   "source": [
    "#alphabet.all_toks[4:27]"
   ]
  },
  {
   "cell_type": "code",
   "execution_count": 96,
   "metadata": {},
   "outputs": [],
   "source": [
    "ab = 'ACDEFGHIKLMNPQRSTVWY-'\n",
    "default_char = '-'"
   ]
  },
  {
   "cell_type": "code",
   "execution_count": 94,
   "metadata": {},
   "outputs": [],
   "source": [
    "from collections import defaultdict"
   ]
  },
  {
   "cell_type": "code",
   "execution_count": 97,
   "metadata": {},
   "outputs": [],
   "source": [
    "default_index = ab.index(default_char)\n",
    "aa_index = defaultdict(lambda: default_index, {ab[i]: i for i in range(len(ab))})\n",
    "tokens2=torch.Tensor([aa_index[c] for c in str(native_seq) if c.isupper() or c == '-'])"
   ]
  },
  {
   "cell_type": "code",
   "execution_count": 98,
   "metadata": {},
   "outputs": [
    {
     "data": {
      "text/plain": [
       "tensor([16., 16.,  7.,  8., 17., 11.,  5., 13.,  3., 19., 16., 17., 12.,  9.,\n",
       "        15., 12.,  3., 13.,  0.,  0.,  8.,  0.,  0.,  8.,  8., 14., 18., 12.,\n",
       "         2., 19.,  3., 17., 13.,  7.,  6.,  5., 11., 16., 17.,  8., 17., 16.,\n",
       "        14.])"
      ]
     },
     "execution_count": 98,
     "metadata": {},
     "output_type": "execute_result"
    }
   ],
   "source": [
    "tokens2"
   ]
  },
  {
   "cell_type": "code",
   "execution_count": 99,
   "metadata": {},
   "outputs": [
    {
     "data": {
      "text/plain": [
       "tensor([[33, 11, 11, 12, 15,  7, 17,  6, 16,  9, 19, 11,  7, 14,  4,  8, 14,  9,\n",
       "         16,  5,  5, 15,  5,  5, 15, 15, 10, 22, 14, 13, 19,  9,  7, 16, 12, 21,\n",
       "          6, 17, 11,  7, 15,  7, 11, 10]])"
      ]
     },
     "execution_count": 99,
     "metadata": {},
     "output_type": "execute_result"
    }
   ],
   "source": [
    "tokens"
   ]
  }
 ],
 "metadata": {
  "kernelspec": {
   "display_name": "Python 3.9.13 ('InvFolding')",
   "language": "python",
   "name": "python3"
  },
  "language_info": {
   "codemirror_mode": {
    "name": "ipython",
    "version": 3
   },
   "file_extension": ".py",
   "mimetype": "text/x-python",
   "name": "python",
   "nbconvert_exporter": "python",
   "pygments_lexer": "ipython3",
   "version": "3.9.13 (main, Aug 25 2022, 23:26:10) \n[GCC 11.2.0]"
  },
  "orig_nbformat": 4,
  "vscode": {
   "interpreter": {
    "hash": "03d8b451b8fdc532a54f23be046d4bcc8dafe2ef49a4f04a10424f9541af615f"
   }
  }
 },
 "nbformat": 4,
 "nbformat_minor": 2
}
