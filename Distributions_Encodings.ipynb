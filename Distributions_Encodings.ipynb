{
 "cells": [
  {
   "cell_type": "markdown",
   "metadata": {},
   "source": [
    "In this Notebook I will try to study the frequencies of values for the encodings in the different positions. This study is aimed to understand what is a sensible level of noise to put to these encdoings values if one wants to do so. Ideally we want to put random Gaussian noise with a standard deviation roughly equal to $5\\%$ or $10\\%$ of the means of the deviations for the training set. Maybe then do one that depends on the position also? Actually we cannot since different proteins encodings have different lenghts."
   ]
  },
  {
   "cell_type": "code",
   "execution_count": 39,
   "metadata": {},
   "outputs": [],
   "source": [
    "from encoded_protein_dataset import EncodedProteinDataset, collate_fn, get_embedding\n",
    "from pseudolikelihood import get_npll\n",
    "import torch\n",
    "import numpy as np\n",
    "import os\n",
    "import time\n",
    "import matplotlib.pyplot as plt\n",
    "from torch.utils.data import DataLoader, RandomSampler\n",
    "from potts_decoder import PottsDecoder\n",
    "from functools import partial\n",
    "from tqdm import tqdm\n",
    "\n"
   ]
  },
  {
   "cell_type": "code",
   "execution_count": 2,
   "metadata": {},
   "outputs": [],
   "source": [
    "train_dataset = EncodedProteinDataset('/Data/InverseFoldingData/msas/train', '/Data/InverseFoldingData/structure_encodings')"
   ]
  },
  {
   "cell_type": "code",
   "execution_count": 8,
   "metadata": {},
   "outputs": [
    {
     "data": {
      "text/plain": [
       "torch.Size([133, 512])"
      ]
     },
     "execution_count": 8,
     "metadata": {},
     "output_type": "execute_result"
    }
   ],
   "source": [
    "train_dataset[0][1].shape"
   ]
  },
  {
   "cell_type": "code",
   "execution_count": 10,
   "metadata": {},
   "outputs": [
    {
     "data": {
      "text/plain": [
       "torch.Size([133])"
      ]
     },
     "execution_count": 10,
     "metadata": {},
     "output_type": "execute_result"
    }
   ],
   "source": [
    "torch.std(train_dataset[0][1], axis=1).shape"
   ]
  },
  {
   "cell_type": "code",
   "execution_count": 15,
   "metadata": {},
   "outputs": [],
   "source": [
    "stds = torch.zeros(len(train_dataset))\n",
    "iterator=0\n",
    "for input in train_dataset:\n",
    "    stds[iterator] = torch.mean(torch.std(input[1], axis=1))\n",
    "    iterator+=1"
   ]
  },
  {
   "cell_type": "code",
   "execution_count": 19,
   "metadata": {},
   "outputs": [
    {
     "data": {
      "image/png": "[encoded data removed]",
      "text/plain": [
       "<Figure size 640x480 with 1 Axes>"
      ]
     },
     "metadata": {},
     "output_type": "display_data"
    }
   ],
   "source": [
    "plt.hist(stds, density=True);"
   ]
  },
  {
   "cell_type": "markdown",
   "metadata": {},
   "source": [
    "Seems that the deviation for different elements in the training dataset is not significant, and thus selecting a single value is a reasonable thing to do. Is this also sensible across the different dimensions of the encoding dimension?"
   ]
  },
  {
   "cell_type": "markdown",
   "metadata": {},
   "source": []
  },
  {
   "cell_type": "code",
   "execution_count": 21,
   "metadata": {},
   "outputs": [],
   "source": [
    "stds2 = torch.zeros(len(train_dataset), 512)\n",
    "iterator=0\n",
    "for input in train_dataset:\n",
    "    stds2[iterator, ::] = torch.std(input[1], axis=0)\n",
    "    iterator+=1\n",
    "stds2 = torch.mean(stds2, axis=0)"
   ]
  },
  {
   "cell_type": "code",
   "execution_count": 23,
   "metadata": {},
   "outputs": [
    {
     "data": {
      "image/png": "[encoded data removed]",
      "text/plain": [
       "<Figure size 640x480 with 1 Axes>"
      ]
     },
     "metadata": {},
     "output_type": "display_data"
    }
   ],
   "source": [
    "plt.hist(stds2);"
   ]
  },
  {
   "cell_type": "markdown",
   "metadata": {},
   "source": [
    "Here seems a little more problematic, but I do not think it is worthy of a different approach for different positions in the encoding vector"
   ]
  },
  {
   "cell_type": "markdown",
   "metadata": {},
   "source": [
    "I will now try the next idea, but I am not sure is completly sensible. I will train the model for a single epoch and use the weights found there. Infact since the the _projection_ layer is initialized to $0$, I don't think we can use the Potts Decoder out of the box. "
   ]
  },
  {
   "cell_type": "code",
   "execution_count": 37,
   "metadata": {},
   "outputs": [],
   "source": [
    "batch_structure_size = 4   ### I think with empty GPU we can hgo up to 10\n",
    "perc_subset_test = 0.1     ## During the training, for every dataset available we select a random 10% of its samples\n",
    "batch_msa_size = 16\n",
    "q = 21 ##isn't always 21\n",
    "collate_fn = partial(collate_fn, q=q, batch_msa_size=batch_msa_size)\n",
    "train_loader = DataLoader(train_dataset, batch_size=batch_structure_size, collate_fn=collate_fn, shuffle=True)"
   ]
  },
  {
   "cell_type": "code",
   "execution_count": 43,
   "metadata": {},
   "outputs": [
    {
     "name": "stderr",
     "output_type": "stream",
     "text": [
      "update_step: 100: 100%|██████████| 100/100 [00:15<00:00,  6.57it/s]\n"
     ]
    }
   ],
   "source": [
    "decoder = None\n",
    "embedding = None\n",
    "torch.cuda.empty_cache()\n",
    "\n",
    "seed = 0\n",
    "torch.random.manual_seed(seed)\n",
    "np.random.seed(seed)\n",
    "\n",
    "\n",
    "input_encoding_dim = train_dataset.encoding_dim\n",
    "param_embed_dim = 512\n",
    "n_param_heads = 4\n",
    "d_model = 128\n",
    "n_heads = 2\n",
    "n_layers = 2\n",
    "## Check before running which is the GPU which is free the most and put it as the running device\n",
    "device = 2\n",
    "eta = 1e-3\n",
    "dropout = 0,0\n",
    "\n",
    "decoder = PottsDecoder(q, n_layers, d_model, input_encoding_dim, param_embed_dim, n_heads, n_param_heads)\n",
    "decoder.to(device)\n",
    "embedding = get_embedding(q)\n",
    "embedding.to(device)\n",
    "\n",
    "optimizer = torch.optim.Adam(decoder.parameters(), lr=0.0001)\n",
    "\n",
    "def get_loss(decoder, inputs, eta):\n",
    "    \"\"\"eta is the multiplicative term in front of the penalized negative pseudo-log-likelihood\"\"\"\n",
    "    msas, encodings, padding_mask  = [input.to(device) for input in inputs]\n",
    "    B, M, N = msas.shape\n",
    "    print(f\"device:{device}\")\n",
    "    couplings, fields = decoder(encodings, padding_mask)\n",
    "\n",
    "    # embed and reshape to (B, M, N*q)\n",
    "    msas_embedded = embedding(msas.type(torch.int)).view(B, M, -1)\n",
    "\n",
    "    # get npll\n",
    "    npll = get_npll(msas_embedded, couplings, fields, N, q)\n",
    "\n",
    "\n",
    "    padding_mask_inv = (~padding_mask)\n",
    "\n",
    "    # multiply with the padding mask to filter non-existing residues (this is probably not necessary)       \n",
    "    npll = npll * padding_mask_inv.unsqueeze(1)\n",
    "    penalty = eta*(torch.sum(couplings**2) + torch.sum(fields**2))\n",
    "\n",
    "    # the padding mask does not contain the msa dimension so we need to multiply by M\n",
    "    npll_mean = torch.sum(npll) / (M * torch.sum(padding_mask_inv))\n",
    "\n",
    "    return npll_mean + penalty ##we can just add the penalty since we have set already to 0 couplings and fields of padded elements\n",
    "\n",
    "\n",
    "iterator=1\n",
    "update_steps = 100\n",
    "decoder.train()\n",
    "with tqdm(total = update_steps) as pbar:\n",
    "    update_step = 0\n",
    "    for inputs in train_loader:\n",
    "        update_step+=1\n",
    "        #print(f\"We are at: {iterator*batch_structure_size/len(train_dataset)}%\", end=\"\\r\")\n",
    "        train_batch_loss = get_loss(decoder, inputs, eta)    ## get the current loss for the batch\n",
    "        optimizer.zero_grad()                           ## set previous dragients to 0\n",
    "        train_batch_loss.backward()                     ## Get gradients\n",
    "        optimizer.step()                                ## Do a step of GD\n",
    "        iterator+=1\n",
    "        ## Here we append the lossess in the different batches within the same epoch\n",
    "        pbar.set_description(f'update_step: {update_step}')#, GPU total memory: {check_gpu_mem().values[device, 0]}, GPU used: {check_gpu_mem().values[device, 1]}')\n",
    "        pbar.update(1)\n",
    "        if update_step >= update_steps:\n",
    "            break"
   ]
  },
  {
   "cell_type": "code",
   "execution_count": 48,
   "metadata": {},
   "outputs": [
    {
     "ename": "ZeroDivisionError",
     "evalue": "division by zero",
     "output_type": "error",
     "traceback": [
      "\u001b[0;31m---------------------------------------------------------------------------\u001b[0m",
      "\u001b[0;31mZeroDivisionError\u001b[0m                         Traceback (most recent call last)",
      "\u001b[1;32m/home/silval/InverseFolding/InverseFolding_git/Distributions_Encodings.ipynb Cell 16\u001b[0m in \u001b[0;36m<cell line: 1>\u001b[0;34m()\u001b[0m\n\u001b[0;32m----> <a href='vscode-notebook-cell://ssh-remote%2B130.192.212.180/home/silval/InverseFolding/InverseFolding_git/Distributions_Encodings.ipynb#X30sdnNjb2RlLXJlbW90ZQ%3D%3D?line=0'>1</a>\u001b[0m \u001b[39m1\u001b[39;49m\u001b[39m/\u001b[39;49m\u001b[39m0\u001b[39;49m\n",
      "\u001b[0;31mZeroDivisionError\u001b[0m: division by zero"
     ]
    }
   ],
   "source": [
    "#1/0"
   ]
  },
  {
   "cell_type": "code",
   "execution_count": 45,
   "metadata": {},
   "outputs": [],
   "source": [
    "#import gc\n",
    "#decoder = None\n",
    "#embedding = None\n",
    "#gc.collect()\n",
    "#torch.cuda.empty_cache()"
   ]
  },
  {
   "cell_type": "code",
   "execution_count": 58,
   "metadata": {},
   "outputs": [],
   "source": [
    "def get_loss(decoder, inputs, eta):\n",
    "    \"\"\"eta is the multiplicative term in front of the penalized negative pseudo-log-likelihood\"\"\"\n",
    "    msas, encodings, padding_mask  = [input.to(device) for input in inputs]\n",
    "    B, M, N = msas.shape\n",
    "    #print(f\"device:{device}\")\n",
    "    couplings, fields = decoder(encodings, padding_mask)\n",
    "\n",
    "    # embed and reshape to (B, M, N*q)\n",
    "    msas_embedded = embedding(msas.type(torch.int)).view(B, M, -1)\n",
    "\n",
    "    # get npll\n",
    "    npll = get_npll(msas_embedded, couplings, fields, N, q)\n",
    "\n",
    "\n",
    "    padding_mask_inv = (~padding_mask)\n",
    "\n",
    "    # multiply with the padding mask to filter non-existing residues (this is probably not necessary)       \n",
    "    npll = npll * padding_mask_inv.unsqueeze(1)\n",
    "    penalty = eta*(torch.sum(couplings**2) + torch.sum(fields**2))\n",
    "\n",
    "    # the padding mask does not contain the msa dimension so we need to multiply by M\n",
    "    npll_mean = torch.sum(npll) / (M * torch.sum(padding_mask_inv))\n",
    "\n",
    "    return npll_mean + penalty"
   ]
  },
  {
   "cell_type": "code",
   "execution_count": 59,
   "metadata": {},
   "outputs": [
    {
     "name": "stdout",
     "output_type": "stream",
     "text": [
      "I am at index:338\r"
     ]
    },
    {
     "ename": "KeyboardInterrupt",
     "evalue": "",
     "output_type": "error",
     "traceback": [
      "\u001b[0;31m---------------------------------------------------------------------------\u001b[0m",
      "\u001b[0;31mKeyboardInterrupt\u001b[0m                         Traceback (most recent call last)",
      "\u001b[1;32m/home/silval/InverseFolding/InverseFolding_git/Distributions_Encodings.ipynb Cell 19\u001b[0m in \u001b[0;36m<cell line: 11>\u001b[0;34m()\u001b[0m\n\u001b[1;32m     <a href='vscode-notebook-cell://ssh-remote%2B130.192.212.180/home/silval/InverseFolding/InverseFolding_git/Distributions_Encodings.ipynb#X32sdnNjb2RlLXJlbW90ZQ%3D%3D?line=10'>11</a>\u001b[0m \u001b[39mfor\u001b[39;00m \u001b[39minput\u001b[39m \u001b[39min\u001b[39;00m train_loader:\n\u001b[1;32m     <a href='vscode-notebook-cell://ssh-remote%2B130.192.212.180/home/silval/InverseFolding/InverseFolding_git/Distributions_Encodings.ipynb#X32sdnNjb2RlLXJlbW90ZQ%3D%3D?line=11'>12</a>\u001b[0m     \u001b[39mprint\u001b[39m(\u001b[39mf\u001b[39m\u001b[39m\"\u001b[39m\u001b[39mI am at index:\u001b[39m\u001b[39m{\u001b[39;00midx\u001b[39m}\u001b[39;00m\u001b[39m\"\u001b[39m, end\u001b[39m=\u001b[39m\u001b[39m\"\u001b[39m\u001b[39m\\r\u001b[39;00m\u001b[39m\"\u001b[39m)\n\u001b[0;32m---> <a href='vscode-notebook-cell://ssh-remote%2B130.192.212.180/home/silval/InverseFolding/InverseFolding_git/Distributions_Encodings.ipynb#X32sdnNjb2RlLXJlbW90ZQ%3D%3D?line=12'>13</a>\u001b[0m     nppl[idx] \u001b[39m=\u001b[39m get_loss(decoder, \u001b[39minput\u001b[39;49m, eta) \n\u001b[1;32m     <a href='vscode-notebook-cell://ssh-remote%2B130.192.212.180/home/silval/InverseFolding/InverseFolding_git/Distributions_Encodings.ipynb#X32sdnNjb2RlLXJlbW90ZQ%3D%3D?line=13'>14</a>\u001b[0m     idx\u001b[39m+\u001b[39m\u001b[39m=\u001b[39m\u001b[39m1\u001b[39m\n",
      "\u001b[1;32m/home/silval/InverseFolding/InverseFolding_git/Distributions_Encodings.ipynb Cell 19\u001b[0m in \u001b[0;36mget_loss\u001b[0;34m(decoder, inputs, eta)\u001b[0m\n\u001b[1;32m     <a href='vscode-notebook-cell://ssh-remote%2B130.192.212.180/home/silval/InverseFolding/InverseFolding_git/Distributions_Encodings.ipynb#X32sdnNjb2RlLXJlbW90ZQ%3D%3D?line=16'>17</a>\u001b[0m \u001b[39m# multiply with the padding mask to filter non-existing residues (this is probably not necessary)       \u001b[39;00m\n\u001b[1;32m     <a href='vscode-notebook-cell://ssh-remote%2B130.192.212.180/home/silval/InverseFolding/InverseFolding_git/Distributions_Encodings.ipynb#X32sdnNjb2RlLXJlbW90ZQ%3D%3D?line=17'>18</a>\u001b[0m npll \u001b[39m=\u001b[39m npll \u001b[39m*\u001b[39m padding_mask_inv\u001b[39m.\u001b[39munsqueeze(\u001b[39m1\u001b[39m)\n\u001b[0;32m---> <a href='vscode-notebook-cell://ssh-remote%2B130.192.212.180/home/silval/InverseFolding/InverseFolding_git/Distributions_Encodings.ipynb#X32sdnNjb2RlLXJlbW90ZQ%3D%3D?line=18'>19</a>\u001b[0m penalty \u001b[39m=\u001b[39m eta\u001b[39m*\u001b[39m(torch\u001b[39m.\u001b[39;49msum(couplings\u001b[39m*\u001b[39;49m\u001b[39m*\u001b[39;49m\u001b[39m2\u001b[39;49m) \u001b[39m+\u001b[39m torch\u001b[39m.\u001b[39msum(fields\u001b[39m*\u001b[39m\u001b[39m*\u001b[39m\u001b[39m2\u001b[39m))\n\u001b[1;32m     <a href='vscode-notebook-cell://ssh-remote%2B130.192.212.180/home/silval/InverseFolding/InverseFolding_git/Distributions_Encodings.ipynb#X32sdnNjb2RlLXJlbW90ZQ%3D%3D?line=20'>21</a>\u001b[0m \u001b[39m# the padding mask does not contain the msa dimension so we need to multiply by M\u001b[39;00m\n\u001b[1;32m     <a href='vscode-notebook-cell://ssh-remote%2B130.192.212.180/home/silval/InverseFolding/InverseFolding_git/Distributions_Encodings.ipynb#X32sdnNjb2RlLXJlbW90ZQ%3D%3D?line=21'>22</a>\u001b[0m npll_mean \u001b[39m=\u001b[39m torch\u001b[39m.\u001b[39msum(npll) \u001b[39m/\u001b[39m (M \u001b[39m*\u001b[39m torch\u001b[39m.\u001b[39msum(padding_mask_inv))\n",
      "\u001b[0;31mKeyboardInterrupt\u001b[0m: "
     ]
    }
   ],
   "source": [
    "collate_fn = partial(collate_fn, q=q, batch_msa_size=batch_msa_size)\n",
    "train_loader = DataLoader(train_dataset, batch_size=1, collate_fn=collate_fn, shuffle=True)\n",
    "nppl = torch.zeros(len(train_dataset))\n",
    "idx=0\n",
    "device='cpu'\n",
    "decoder.to(device)\n",
    "decoder.eval()\n",
    "embedding.to(device)\n",
    "\n",
    "\n",
    "for input in train_loader:\n",
    "    print(f\"I am at index:{idx}\", end=\"\\r\")\n",
    "    nppl[idx] = get_loss(decoder, input, eta) \n",
    "    idx+=1"
   ]
  },
  {
   "cell_type": "code",
   "execution_count": 63,
   "metadata": {},
   "outputs": [
    {
     "data": {
      "image/png": "[encoded data removed]",
      "text/plain": [
       "<Figure size 640x480 with 1 Axes>"
      ]
     },
     "metadata": {},
     "output_type": "display_data"
    }
   ],
   "source": [
    "nppl = nppl[0:idx].detach().numpy()\n",
    "plt.hist(nppl, density=True);"
   ]
  },
  {
   "cell_type": "markdown",
   "metadata": {},
   "source": [
    "I am NOT convinced about this methodology with the model not-trained, I do not see why increasing the noise in the input should make the loss worse."
   ]
  },
  {
   "cell_type": "markdown",
   "metadata": {},
   "source": []
  }
 ],
 "metadata": {
  "kernelspec": {
   "display_name": "Python 3.9.13 64-bit",
   "language": "python",
   "name": "python3"
  },
  "language_info": {
   "codemirror_mode": {
    "name": "ipython",
    "version": 3
   },
   "file_extension": ".py",
   "mimetype": "text/x-python",
   "name": "python",
   "nbconvert_exporter": "python",
   "pygments_lexer": "ipython3",
   "version": "3.9.13"
  },
  "orig_nbformat": 4,
  "vscode": {
   "interpreter": {
    "hash": "f9f85f796d01129d0dd105a088854619f454435301f6ffec2fea96ecbd9be4ac"
   }
  }
 },
 "nbformat": 4,
 "nbformat_minor": 2
}
