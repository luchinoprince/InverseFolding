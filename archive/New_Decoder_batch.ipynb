{
 "cells": [
  {
   "cell_type": "markdown",
   "id": "3806d49d",
   "metadata": {
    "id": "comprehensive-respect"
   },
   "source": [
    "In this notebook I will implementing the new decoder module discussed with _Christoph_. From the encodings given by the __ESM__ encoder we begin by attaching two layers of standard _Multi-Head self-attention_ which we then train by minimising the _pseudo-likelihhod_(find package).\n",
    "Remember that from here we assume to be working with tensors, not graphs anymore. Our hope is that all of the relevant information coming from the graph structure has already been encoded in the embeddings of the encoder."
   ]
  },
  {
   "cell_type": "code",
   "execution_count": 1,
   "id": "9bc54881",
   "metadata": {
    "id": "physical-offense"
   },
   "outputs": [],
   "source": [
    "import torch \n",
    "from torch.nn import TransformerEncoderLayer, Linear\n",
    "from torch import Tensor\n",
    "from torch.nn.functional import one_hot\n",
    "import pickle\n",
    "import os\n",
    "from torch.utils.data import Dataset, DataLoader, RandomSampler, Subset\n",
    "import matplotlib.pyplot as plt\n",
    "import numpy as np\n",
    "#from torch_geometric.loader import DataLoader"
   ]
  },
  {
   "cell_type": "code",
   "execution_count": 107,
   "id": "ec768932",
   "metadata": {
    "id": "e8a2567f-0d56-49a7-a015-d8c250d02fdd"
   },
   "outputs": [],
   "source": [
    "## I think I have to be carefull at the dimensions of the objects\n",
    "class Potts_Decoder(torch.nn.Module):\n",
    "    def __init__(self, n_cat:int, n_layers:int, atten_dim:int, embed_dim:int, n_heads:int, dropout=0.0):\n",
    "        ## We use the init of the superclass Module\n",
    "        super().__init__()\n",
    "        #self.system_size = system_size       ##length of the amino-acid\n",
    "        self.n_cat = n_cat                   ## for proteins this is 21, fix??\n",
    "        self.n_layers = n_layers\n",
    "        self.atten_dim = atten_dim           ## this is the input dimension for the attention layer\n",
    "        self.embed_dim = embed_dim\n",
    "        self.n_heads = n_heads\n",
    "        self.dropout = dropout\n",
    "        \n",
    "        self.attentions = torch.nn.ModuleList()\n",
    "        self.attentions_activated = []\n",
    "        for _ in range(n_layers):\n",
    "            attention_layer = TransformerEncoderLayer(self.atten_dim, self.n_heads,\n",
    "                                                      dropout=self.dropout, batch_first=True)\n",
    "            self.attentions.append(attention_layer)\n",
    "            self.attentions_activated.append(attention_layer)\n",
    "            self.attentions_activated.append(torch.nn.ReLU())\n",
    "        \n",
    "        self.attentions_sequential = torch.nn.Sequential(*self.attentions_activated)\n",
    "        \n",
    "        ## Maybe add a Linear Layer (usually always done)\n",
    "        self.Linear = Linear(self.atten_dim, self.n_cat*self.embed_dim) ##21 is the number of amino-acids + skip character\n",
    "        \n",
    "        \n",
    "        \n",
    "    def forward(self, x, coupling_mask, padding_mask=None):\n",
    "        ## Padding mask is of silve [B, L_max]\n",
    "        ## I have to provide two masks, one for the coupling matrix, one for the padding\n",
    "        ## For the moment suppose a single protein, the batch_size is in the first dimension\n",
    "        ## Here I suppose batch_first\n",
    "        #print(x.shape)\n",
    "        ## I expect to have something like [1, L, 512]\n",
    "        L = x.shape[1]\n",
    "        ## This now, if we have a batch, it is going to be the maximum batch_size\n",
    "\n",
    "        # (L x q x embed_dim)\n",
    "        x = self.attentions_sequential(x, src_key_padding_mask=padding_mask).squeeze()\n",
    "        ## For the moment I suppose to have a single obs\n",
    "        ## We have to output a matrix, not a vector, we hence do the opposite of CNNs\n",
    "        x = self.Linear(x, src_key_padding_mask=padding_mask).reshape(L, self.n_cat, self.embed_dim) ##Not sure we can do this\n",
    "        \n",
    "        #coupling = x.reshape(L, 1, 21, self.embed_dim) @ torch.transpose(x, 1, 2).reshape(1, L, self.embed_dim, 21)\n",
    "        #coupling = torch.transpose(coupling, 1, 2).reshape(L*21, L*21) ##check whether this is correct, looks yes\n",
    "        coupling = torch.flatten(x, end_dim=1) @ torch.flatten(torch.transpose(torch.transpose(x, 2, 0), 1, 2), \n",
    "                                                               start_dim=1)\n",
    "        #print(coupling.shape)\n",
    "        fields = torch.diag(coupling).reshape(L, self.n_cat)\n",
    "        coupling = coupling * mask     ## element-wise product ##still have to be carefull at padding mask...need to be sure is fine\n",
    "        #coupling = 0.5*(coupling + torch.transpose(coupling,0,1))\n",
    "        \n",
    "        ##This recovers the overall coupling matrix\n",
    "        coupling = coupling + torch.transpose(coupling, 0, 1)\n",
    "        #for i in range(L):\n",
    "        #    coupling[i*self.n_cat : (i+1)*self.n_cat, i*self.n_cat : (i+1)*self.n_cat] = 0.0    \n",
    "        \n",
    "        return fields, coupling, padding_mask  #### we have to return the mask\n",
    "    \n",
    "    \n",
    "    \n",
    "def Pseudo_Likelihood(model, data:Tensor, fields:Tensor, coupling:Tensor, padding_mask:Tensor=None, one_hot_input:bool = False) -> Tensor:\n",
    "    seq = data[0]\n",
    "    if not one_hot_input:\n",
    "        data = one_hot(data, num_classes = model.n_cat).float().view(data.shape[0], -1)\n",
    "    if padding_mask is None:\n",
    "        return torch.mean(torch.logsumexp(energy_diffs(model, data, fields, coupling, one_hot_input=True), dim=-1), axis=-1) \n",
    "    else:\n",
    "        energy_diffs, padding_mask = energy_diffs(model, data, fields, coupling, padding_mask=padding_mask, one_hot_input=True)\n",
    "        return np.sum(torch.logsumexp(energy_diffs, dim=-1), axis=-1)/np.sum(padding_mask, axis=-1)\n",
    "               \n",
    "\n",
    "def Local_Fields(model, data: Tensor, fields:Tensor, coupling:Tensor, one_hot_input: bool = False) -> Tensor:\n",
    "    ndata: int = data.shape[0]\n",
    "    system_size = coupling.shape[0]//model.n_cat\n",
    "    if not one_hot_input:\n",
    "        data = one_hot(data, num_classes = model.n_cat).float().view(data.shape[0], -1)\n",
    "    return data.float() @ coupling + fields.T.reshape(1, -1).expand(ndata, system_size*model.n_cat) \n",
    "\n",
    "def energy_diffs(model, data: Tensor, fields:Tensor, coupling:Tensor, padding_mask:Tensor = None, one_hot_input: bool = False) -> Tensor:\n",
    "\n",
    "    ndata: int = data.shape[0]\n",
    "    system_size = coupling.shape[0]//model.n_cat\n",
    "    if not one_hot_input:\n",
    "        data = one_hot(data, num_classes = model.n_cat).float().view(data.shape[0], -1)\n",
    "    ## We extract the local fields vector\n",
    "    local_fields: Tensor = Local_Fields(model, data, fields, coupling, one_hot_input=True)\n",
    "    \n",
    "    ## torch.mul is element-wise product\n",
    "    local_fields_with_deltas: Tensor = torch.mul(local_fields, data)\n",
    "    local_fields_with_deltas = local_fields_with_deltas.reshape(ndata, system_size, model.n_cat)\n",
    "    local_fields_true: Tensor = torch.sum(local_fields_with_deltas, axis=-1)\n",
    "    local_fields_true = local_fields_true.unsqueeze(-1).expand(ndata, system_size, model.n_cat)\n",
    "    energy_diffs: Tensor = local_fields_true - local_fields.reshape(ndata, system_size, model.n_cat) \n",
    "    if padding_mask is None:\n",
    "        return -1*energy_diffs\n",
    "    else:\n",
    "        energy_diffs = energy_diffs*padding_mask        ##Element-wise product, does it broadcast automatically?\n",
    "        return (-1*energy_diffs, padding_mask)\n",
    "\n",
    "def energy_diffs_position(model, position: int, data: Tensor, fields:Tensor, coupling:Tensor, one_hot_input: bool = False) -> Tensor:\n",
    "\n",
    "    if not one_hot_input:\n",
    "        data = one_hot(data, num_classes = model.n_cat).float().view(data.shape[0], -1)\n",
    "\n",
    "    energy_diffs: Tensor = energy_diffs(model, data, fields, coupling, one_hot_input=True)\n",
    "    ##position is the amino acid position \n",
    "    return energy_diffs[:, position]"
   ]
  },
  {
   "cell_type": "code",
   "execution_count": 108,
   "id": "9dc81547",
   "metadata": {
    "id": "quantitative-boating"
   },
   "outputs": [],
   "source": [
    "def load_obj(file):\n",
    "    with open(file, 'rb') as f:\n",
    "        return pickle.load(f)"
   ]
  },
  {
   "cell_type": "code",
   "execution_count": 109,
   "id": "5ac0ddb2",
   "metadata": {
    "id": "right-energy"
   },
   "outputs": [],
   "source": [
    "letter_to_num = {'C': 4, 'D': 3, 'S': 15, 'Q': 5, 'K': 11, 'I': 9,\n",
    "                       'P': 14, 'T': 16, 'F': 13, 'A': 0, 'G': 7, 'H': 8,\n",
    "                       'E': 6, 'L': 10, 'R': 1, 'W': 17, 'V': 19, \n",
    "                       'N': 2, 'Y': 18, 'M': 12, 'X':20}\n",
    "# 'X' I think is -\n",
    "## got this conversion from GVP github.\n",
    "##This seems very very odd."
   ]
  },
  {
   "cell_type": "code",
   "execution_count": 110,
   "id": "bf6a8f0a",
   "metadata": {
    "id": "11c6a823-d7a5-4317-ba30-322d5ac314ef"
   },
   "outputs": [],
   "source": [
    "class Encoded_Proteins(Dataset):\n",
    "    def __init__(self, path_dir, transform=None, target_transform=None):\n",
    "        self.path_dir = path_dir\n",
    "        self.transform = transform\n",
    "        self.target_transform = target_transform\n",
    "\n",
    "    def __len__(self):\n",
    "        return len(os.listdir(path_dir))\n",
    "\n",
    "    def __getitem__(self, idx):\n",
    "        #protein_path = self.path_dir + '/CATH_430_' + str(idx) \n",
    "        protein_file = os.path.join(self.path_dir, os.listdir(self.path_dir)[idx])\n",
    "        d = load_obj(protein_file)\n",
    "        encoded_protein = d['Encoded_Protein']\n",
    "        #native_seq = d['Native_Seq']\n",
    "        num_seq = d['Num_Seq']\n",
    "        if self.transform:\n",
    "            encoded_protein = self.transform(encoded_protein)\n",
    "        if self.target_transform:\n",
    "            native_seq = self.target_transform(native_seq)\n",
    "        return encoded_protein, num_seq"
   ]
  },
  {
   "cell_type": "code",
   "execution_count": 111,
   "id": "fce6a5f9",
   "metadata": {
    "id": "2f885dac-9721-4975-9fc6-4738a248ffd3"
   },
   "outputs": [],
   "source": [
    "def default_collate(batch):\n",
    "    \"\"\"\n",
    "    Fill in\n",
    "    \"\"\"\n",
    "    #item = batch[0]\n",
    "    #print(item)\n",
    "    \n",
    "    data_x = [item[0] for item in batch]\n",
    "    data_y = [item[1] for item in batch]\n",
    "    # each element is of size (1, h*, w*). where (h*, w*) changes from mask to another.\n",
    "    ## data_y is already numerical\n",
    "    return data_x, data_y\n"
   ]
  },
  {
   "cell_type": "markdown",
   "id": "e3703d35",
   "metadata": {},
   "source": [
    "Let us study the distribution of lengths for proteins inside the folder to assess if padding is sensible."
   ]
  },
  {
   "cell_type": "code",
   "execution_count": 112,
   "id": "e2d10840",
   "metadata": {},
   "outputs": [
    {
     "name": "stdout",
     "output_type": "stream",
     "text": [
      "We are at iteration: 3\r"
     ]
    }
   ],
   "source": [
    "#path_dir = \"C:/Users/Lucas/Desktop/Encoded_Proteins\"\n",
    "path_dir = \"./Encoded_Proteins_Toy\"\n",
    "lengths = np.zeros(len(os.listdir(path_dir)[1:5]))\n",
    "idx = 0\n",
    "for file in os.listdir(path_dir)[1:5]:\n",
    "    print(f\"We are at iteration: {idx}\", end=\"\\r\")\n",
    "    fpath = os.path.join(path_dir, file)\n",
    "    d = load_obj(fpath)\n",
    "    lengths[idx] = len(d['Native_Seq'])\n",
    "    idx+=1\n",
    "    "
   ]
  },
  {
   "cell_type": "code",
   "execution_count": 113,
   "id": "e507a506",
   "metadata": {},
   "outputs": [
    {
     "data": {
      "text/plain": [
       "(array([2., 1., 0., 0., 0., 0., 0., 0., 0., 1.]),\n",
       " array([ 57. ,  78.2,  99.4, 120.6, 141.8, 163. , 184.2, 205.4, 226.6,\n",
       "        247.8, 269. ]),\n",
       " <BarContainer object of 10 artists>)"
      ]
     },
     "execution_count": 113,
     "metadata": {},
     "output_type": "execute_result"
    },
    {
     "data": {
      "image/png": "[encoded data removed]",
      "text/plain": [
       "<Figure size 432x288 with 1 Axes>"
      ]
     },
     "metadata": {
      "needs_background": "light"
     },
     "output_type": "display_data"
    }
   ],
   "source": [
    "plt.hist(lengths)"
   ]
  },
  {
   "cell_type": "code",
   "execution_count": 114,
   "id": "b9d65a2f",
   "metadata": {},
   "outputs": [
    {
     "data": {
      "text/plain": [
       "121.5"
      ]
     },
     "execution_count": 114,
     "metadata": {},
     "output_type": "execute_result"
    }
   ],
   "source": [
    "np.mean(lengths)"
   ]
  },
  {
   "cell_type": "code",
   "execution_count": 115,
   "id": "0561d766",
   "metadata": {},
   "outputs": [
    {
     "data": {
      "text/plain": [
       "269.0"
      ]
     },
     "execution_count": 115,
     "metadata": {},
     "output_type": "execute_result"
    }
   ],
   "source": [
    "np.max(lengths)"
   ]
  },
  {
   "cell_type": "code",
   "execution_count": 116,
   "id": "d038c9ec",
   "metadata": {},
   "outputs": [
    {
     "data": {
      "text/plain": [
       "0.0"
      ]
     },
     "execution_count": 116,
     "metadata": {},
     "output_type": "execute_result"
    }
   ],
   "source": [
    "np.sum(lengths>512)/31878 * 100"
   ]
  },
  {
   "cell_type": "code",
   "execution_count": 117,
   "id": "0afc745a",
   "metadata": {},
   "outputs": [
    {
     "data": {
      "text/plain": [
       "0"
      ]
     },
     "execution_count": 117,
     "metadata": {},
     "output_type": "execute_result"
    }
   ],
   "source": [
    "np.sum(lengths > 1024)"
   ]
  },
  {
   "cell_type": "markdown",
   "id": "d4cf2a41",
   "metadata": {},
   "source": [
    "We have $4$ sequences over 1024, and $0.36\\%$ over 512. We can do what Christoph suggested of subsampling."
   ]
  },
  {
   "cell_type": "code",
   "execution_count": 120,
   "id": "1daa6aec",
   "metadata": {},
   "outputs": [
    {
     "ename": "TypeError",
     "evalue": "forward() got an unexpected keyword argument 'src_key_padding_mask'",
     "output_type": "error",
     "traceback": [
      "\u001b[0;31m---------------------------------------------------------------------------\u001b[0m",
      "\u001b[0;31mTypeError\u001b[0m                                 Traceback (most recent call last)",
      "\u001b[0;32m<ipython-input-120-31c83f6bfd09>\u001b[0m in \u001b[0;36m<module>\u001b[0;34m\u001b[0m\n\u001b[1;32m     26\u001b[0m \u001b[0mmask\u001b[0m\u001b[0;34m:\u001b[0m \u001b[0mTensor\u001b[0m \u001b[0;34m=\u001b[0m \u001b[0mtorch\u001b[0m\u001b[0;34m.\u001b[0m\u001b[0mnn\u001b[0m\u001b[0;34m.\u001b[0m\u001b[0mParameter\u001b[0m\u001b[0;34m(\u001b[0m\u001b[0mmask\u001b[0m\u001b[0;34m,\u001b[0m \u001b[0mrequires_grad\u001b[0m\u001b[0;34m=\u001b[0m\u001b[0;32mFalse\u001b[0m\u001b[0;34m)\u001b[0m\u001b[0;34m.\u001b[0m\u001b[0mto\u001b[0m\u001b[0;34m(\u001b[0m\u001b[0mdevice\u001b[0m\u001b[0;34m)\u001b[0m\u001b[0;34m\u001b[0m\u001b[0;34m\u001b[0m\u001b[0m\n\u001b[1;32m     27\u001b[0m \u001b[0;31m##We have to change how we save the output... necessarely\u001b[0m\u001b[0;34m\u001b[0m\u001b[0;34m\u001b[0m\u001b[0;34m\u001b[0m\u001b[0m\n\u001b[0;32m---> 28\u001b[0;31m \u001b[0mfields\u001b[0m\u001b[0;34m,\u001b[0m \u001b[0mcouplings\u001b[0m \u001b[0;34m=\u001b[0m \u001b[0mdecoder\u001b[0m\u001b[0;34m(\u001b[0m\u001b[0mdata_x\u001b[0m\u001b[0;34m,\u001b[0m \u001b[0mmask\u001b[0m\u001b[0;34m)\u001b[0m\u001b[0;34m\u001b[0m\u001b[0;34m\u001b[0m\u001b[0m\n\u001b[0m\u001b[1;32m     29\u001b[0m \u001b[0;31m#fields, couplings = decoder(data_x)\u001b[0m\u001b[0;34m\u001b[0m\u001b[0;34m\u001b[0m\u001b[0;34m\u001b[0m\u001b[0m\n\u001b[1;32m     30\u001b[0m \u001b[0;31m#seq_vals=torch.zeros(len(data_y), dtype=int)\u001b[0m\u001b[0;34m\u001b[0m\u001b[0;34m\u001b[0m\u001b[0;34m\u001b[0m\u001b[0m\n",
      "\u001b[0;32m~/opt/anaconda3/lib/python3.8/site-packages/torch/nn/modules/module.py\u001b[0m in \u001b[0;36m_call_impl\u001b[0;34m(self, *input, **kwargs)\u001b[0m\n\u001b[1;32m   1128\u001b[0m         if not (self._backward_hooks or self._forward_hooks or self._forward_pre_hooks or _global_backward_hooks\n\u001b[1;32m   1129\u001b[0m                 or _global_forward_hooks or _global_forward_pre_hooks):\n\u001b[0;32m-> 1130\u001b[0;31m             \u001b[0;32mreturn\u001b[0m \u001b[0mforward_call\u001b[0m\u001b[0;34m(\u001b[0m\u001b[0;34m*\u001b[0m\u001b[0minput\u001b[0m\u001b[0;34m,\u001b[0m \u001b[0;34m**\u001b[0m\u001b[0mkwargs\u001b[0m\u001b[0;34m)\u001b[0m\u001b[0;34m\u001b[0m\u001b[0;34m\u001b[0m\u001b[0m\n\u001b[0m\u001b[1;32m   1131\u001b[0m         \u001b[0;31m# Do not call functions when jit is used\u001b[0m\u001b[0;34m\u001b[0m\u001b[0;34m\u001b[0m\u001b[0;34m\u001b[0m\u001b[0m\n\u001b[1;32m   1132\u001b[0m         \u001b[0mfull_backward_hooks\u001b[0m\u001b[0;34m,\u001b[0m \u001b[0mnon_full_backward_hooks\u001b[0m \u001b[0;34m=\u001b[0m \u001b[0;34m[\u001b[0m\u001b[0;34m]\u001b[0m\u001b[0;34m,\u001b[0m \u001b[0;34m[\u001b[0m\u001b[0;34m]\u001b[0m\u001b[0;34m\u001b[0m\u001b[0;34m\u001b[0m\u001b[0m\n",
      "\u001b[0;32m<ipython-input-107-6052383988ad>\u001b[0m in \u001b[0;36mforward\u001b[0;34m(self, x, coupling_mask, padding_mask)\u001b[0m\n\u001b[1;32m     39\u001b[0m \u001b[0;34m\u001b[0m\u001b[0m\n\u001b[1;32m     40\u001b[0m         \u001b[0;31m# (L x q x embed_dim)\u001b[0m\u001b[0;34m\u001b[0m\u001b[0;34m\u001b[0m\u001b[0;34m\u001b[0m\u001b[0m\n\u001b[0;32m---> 41\u001b[0;31m         \u001b[0mx\u001b[0m \u001b[0;34m=\u001b[0m \u001b[0mself\u001b[0m\u001b[0;34m.\u001b[0m\u001b[0mattentions_sequential\u001b[0m\u001b[0;34m(\u001b[0m\u001b[0mx\u001b[0m\u001b[0;34m,\u001b[0m \u001b[0msrc_key_padding_mask\u001b[0m\u001b[0;34m=\u001b[0m\u001b[0mpadding_mask\u001b[0m\u001b[0;34m)\u001b[0m\u001b[0;34m.\u001b[0m\u001b[0msqueeze\u001b[0m\u001b[0;34m(\u001b[0m\u001b[0;34m)\u001b[0m\u001b[0;34m\u001b[0m\u001b[0;34m\u001b[0m\u001b[0m\n\u001b[0m\u001b[1;32m     42\u001b[0m         \u001b[0;31m## For the moment I suppose to have a single obs\u001b[0m\u001b[0;34m\u001b[0m\u001b[0;34m\u001b[0m\u001b[0;34m\u001b[0m\u001b[0m\n\u001b[1;32m     43\u001b[0m         \u001b[0;31m## We have to output a matrix, not a vector, we hence do the opposite of CNNs\u001b[0m\u001b[0;34m\u001b[0m\u001b[0;34m\u001b[0m\u001b[0;34m\u001b[0m\u001b[0m\n",
      "\u001b[0;32m~/opt/anaconda3/lib/python3.8/site-packages/torch/nn/modules/module.py\u001b[0m in \u001b[0;36m_call_impl\u001b[0;34m(self, *input, **kwargs)\u001b[0m\n\u001b[1;32m   1128\u001b[0m         if not (self._backward_hooks or self._forward_hooks or self._forward_pre_hooks or _global_backward_hooks\n\u001b[1;32m   1129\u001b[0m                 or _global_forward_hooks or _global_forward_pre_hooks):\n\u001b[0;32m-> 1130\u001b[0;31m             \u001b[0;32mreturn\u001b[0m \u001b[0mforward_call\u001b[0m\u001b[0;34m(\u001b[0m\u001b[0;34m*\u001b[0m\u001b[0minput\u001b[0m\u001b[0;34m,\u001b[0m \u001b[0;34m**\u001b[0m\u001b[0mkwargs\u001b[0m\u001b[0;34m)\u001b[0m\u001b[0;34m\u001b[0m\u001b[0;34m\u001b[0m\u001b[0m\n\u001b[0m\u001b[1;32m   1131\u001b[0m         \u001b[0;31m# Do not call functions when jit is used\u001b[0m\u001b[0;34m\u001b[0m\u001b[0;34m\u001b[0m\u001b[0;34m\u001b[0m\u001b[0m\n\u001b[1;32m   1132\u001b[0m         \u001b[0mfull_backward_hooks\u001b[0m\u001b[0;34m,\u001b[0m \u001b[0mnon_full_backward_hooks\u001b[0m \u001b[0;34m=\u001b[0m \u001b[0;34m[\u001b[0m\u001b[0;34m]\u001b[0m\u001b[0;34m,\u001b[0m \u001b[0;34m[\u001b[0m\u001b[0;34m]\u001b[0m\u001b[0;34m\u001b[0m\u001b[0;34m\u001b[0m\u001b[0m\n",
      "\u001b[0;31mTypeError\u001b[0m: forward() got an unexpected keyword argument 'src_key_padding_mask'"
     ]
    }
   ],
   "source": [
    "n_cat:int = 21\n",
    "n_layers:int=2\n",
    "atten_dim:int=512\n",
    "embed_dim:int=5\n",
    "n_heads:int=16\n",
    "batch_size:int=4\n",
    "#dataloader = DataLoader(dataset, batch_size=batch_size, collate_fn=default_collate, shuffle=True)\n",
    "\n",
    "#decoder = Potts_Decoder(system_size, n_cat, n_layers, atten_dim, embed_dim, n_heads).to(device)\n",
    "lr = 0.001\n",
    "\n",
    "logging = []\n",
    "#device='cuda'\n",
    "device='cpu'\n",
    "#optimizer = torch.optim.Adam(decoder.parameters(), lr=lr)\n",
    "decoder = Potts_Decoder(n_cat, n_layers, atten_dim, embed_dim, n_heads).to(device)\n",
    "\n",
    "\n",
    "data_x = d['Encoded_Protein'].reshape((1, 269, 512))\n",
    "data_y = d['Num_Seq']\n",
    "\n",
    "system_size=data_x.shape[1]\n",
    "mask: Tensor = torch.triu(torch.ones(system_size*decoder.n_cat, system_size*decoder.n_cat, dtype=bool), 1)  \n",
    "for i in range(system_size):\n",
    "    mask[i*n_cat : (i+1)*n_cat, i*n_cat : (i+1)*n_cat] = 0              \n",
    "mask: Tensor = torch.nn.Parameter(mask, requires_grad=False).to(device)\n",
    "##We have to change how we save the output... necessarely\n",
    "fields, couplings = decoder(data_x, mask)\n",
    "#fields, couplings = decoder(data_x)\n",
    "#seq_vals=torch.zeros(len(data_y), dtype=int)\n",
    "#for char,idx in zip(data_y, range(len(data_y))):\n",
    "#    seq_vals[idx] = letter_to_num[char]\n",
    "hot = one_hot(data_y, num_classes=decoder.n_cat)\n",
    "hot = torch.flatten(hot).unsqueeze(dim=0).to(device)\n",
    "#print(system_size)"
   ]
  },
  {
   "cell_type": "code",
   "execution_count": 130,
   "id": "b80a905b",
   "metadata": {},
   "outputs": [
    {
     "ename": "TypeError",
     "evalue": "forward() got an unexpected keyword argument 'src_key_padding_mask'",
     "output_type": "error",
     "traceback": [
      "\u001b[0;31m---------------------------------------------------------------------------\u001b[0m",
      "\u001b[0;31mTypeError\u001b[0m                                 Traceback (most recent call last)",
      "\u001b[0;32m<ipython-input-130-a33d8628aab5>\u001b[0m in \u001b[0;36m<module>\u001b[0;34m\u001b[0m\n\u001b[1;32m      1\u001b[0m \u001b[0mlayer\u001b[0m \u001b[0;34m=\u001b[0m \u001b[0mtorch\u001b[0m\u001b[0;34m.\u001b[0m\u001b[0mnn\u001b[0m\u001b[0;34m.\u001b[0m\u001b[0mSequential\u001b[0m\u001b[0;34m(\u001b[0m\u001b[0;34m*\u001b[0m\u001b[0;34m[\u001b[0m\u001b[0mTransformerEncoderLayer\u001b[0m\u001b[0;34m(\u001b[0m\u001b[0matten_dim\u001b[0m\u001b[0;34m,\u001b[0m \u001b[0mn_heads\u001b[0m\u001b[0;34m,\u001b[0m \u001b[0mdropout\u001b[0m\u001b[0;34m=\u001b[0m\u001b[0;36m0.1\u001b[0m\u001b[0;34m,\u001b[0m \u001b[0mbatch_first\u001b[0m\u001b[0;34m=\u001b[0m\u001b[0;32mTrue\u001b[0m\u001b[0;34m)\u001b[0m\u001b[0;34m]\u001b[0m\u001b[0;34m*\u001b[0m\u001b[0;36m2\u001b[0m\u001b[0;34m)\u001b[0m\u001b[0;34m\u001b[0m\u001b[0;34m\u001b[0m\u001b[0m\n\u001b[0;32m----> 2\u001b[0;31m \u001b[0mlayer\u001b[0m\u001b[0;34m.\u001b[0m\u001b[0mforward\u001b[0m\u001b[0;34m(\u001b[0m\u001b[0mdata_x\u001b[0m\u001b[0;34m,\u001b[0m \u001b[0msrc_key_padding_mask\u001b[0m\u001b[0;34m=\u001b[0m\u001b[0;32mNone\u001b[0m\u001b[0;34m)\u001b[0m\u001b[0;34m\u001b[0m\u001b[0;34m\u001b[0m\u001b[0m\n\u001b[0m",
      "\u001b[0;31mTypeError\u001b[0m: forward() got an unexpected keyword argument 'src_key_padding_mask'"
     ]
    }
   ],
   "source": [
    "layer = torch.nn.Sequential(*[TransformerEncoderLayer(atten_dim, n_heads, dropout=0.1, batch_first=True)]*2)\n",
    "layer.forward(data_x, src_key_padding_mask=None)\n",
    "\n",
    "## How to pass src_key_padding_mask when we have a nn.Sequential???"
   ]
  },
  {
   "cell_type": "code",
   "execution_count": 129,
   "id": "ad0d8dc4",
   "metadata": {},
   "outputs": [
    {
     "data": {
      "text/plain": [
       "Sequential(\n",
       "  (0): TransformerEncoderLayer(\n",
       "    (self_attn): MultiheadAttention(\n",
       "      (out_proj): NonDynamicallyQuantizableLinear(in_features=512, out_features=512, bias=True)\n",
       "    )\n",
       "    (linear1): Linear(in_features=512, out_features=2048, bias=True)\n",
       "    (dropout): Dropout(p=0.1, inplace=False)\n",
       "    (linear2): Linear(in_features=2048, out_features=512, bias=True)\n",
       "    (norm1): LayerNorm((512,), eps=1e-05, elementwise_affine=True)\n",
       "    (norm2): LayerNorm((512,), eps=1e-05, elementwise_affine=True)\n",
       "    (dropout1): Dropout(p=0.1, inplace=False)\n",
       "    (dropout2): Dropout(p=0.1, inplace=False)\n",
       "  )\n",
       "  (1): TransformerEncoderLayer(\n",
       "    (self_attn): MultiheadAttention(\n",
       "      (out_proj): NonDynamicallyQuantizableLinear(in_features=512, out_features=512, bias=True)\n",
       "    )\n",
       "    (linear1): Linear(in_features=512, out_features=2048, bias=True)\n",
       "    (dropout): Dropout(p=0.1, inplace=False)\n",
       "    (linear2): Linear(in_features=2048, out_features=512, bias=True)\n",
       "    (norm1): LayerNorm((512,), eps=1e-05, elementwise_affine=True)\n",
       "    (norm2): LayerNorm((512,), eps=1e-05, elementwise_affine=True)\n",
       "    (dropout1): Dropout(p=0.1, inplace=False)\n",
       "    (dropout2): Dropout(p=0.1, inplace=False)\n",
       "  )\n",
       ")"
      ]
     },
     "execution_count": 129,
     "metadata": {},
     "output_type": "execute_result"
    }
   ],
   "source": []
  },
  {
   "cell_type": "code",
   "execution_count": 23,
   "id": "77efdc72",
   "metadata": {},
   "outputs": [
    {
     "data": {
      "text/plain": [
       "torch.Size([1, 269, 512])"
      ]
     },
     "execution_count": 23,
     "metadata": {},
     "output_type": "execute_result"
    }
   ],
   "source": [
    "data_x.shape"
   ]
  },
  {
   "cell_type": "code",
   "execution_count": 29,
   "id": "8b799aed",
   "metadata": {},
   "outputs": [],
   "source": [
    "res = energy_diffs(decoder, hot, fields, couplings, one_hot_input=True)"
   ]
  },
  {
   "cell_type": "code",
   "execution_count": 34,
   "id": "ad9921dd",
   "metadata": {},
   "outputs": [
    {
     "data": {
      "text/plain": [
       "tensor([ -0.0000,  23.3927,  15.1612, -64.7930, -39.7287, -72.9019,  11.9301,\n",
       "         -9.1051, -12.5873,  27.2541,   4.0941, -62.8168, -20.7636,  -2.0990,\n",
       "        -37.6164,   7.0877,  62.4991, -65.0751, -23.8281, -26.2913,  29.7830],\n",
       "       grad_fn=<DiagBackward0>)"
      ]
     },
     "execution_count": 34,
     "metadata": {},
     "output_type": "execute_result"
    }
   ],
   "source": [
    "res[0].diag()"
   ]
  },
  {
   "cell_type": "code",
   "execution_count": 36,
   "id": "b6b39676",
   "metadata": {},
   "outputs": [],
   "source": [
    "prev = one_hot(data_y, num_classes=decoder.n_cat)"
   ]
  },
  {
   "cell_type": "code",
   "execution_count": 68,
   "id": "082adb16",
   "metadata": {},
   "outputs": [],
   "source": [
    "#torch.argmax(prev[7])"
   ]
  },
  {
   "cell_type": "code",
   "execution_count": null,
   "id": "c0256388",
   "metadata": {},
   "outputs": [],
   "source": []
  },
  {
   "cell_type": "code",
   "execution_count": 73,
   "id": "42227f6d",
   "metadata": {
    "id": "2c7748d1-d62c-46c1-8477-815dcb70b0d1"
   },
   "outputs": [],
   "source": [
    "############ PATH FOR PERSONAL COMPUTER ################\n",
    "path_dir = \"./Encoded_Proteins_Toy\"\n",
    "\n",
    "########### PATH FOR OFFICE COMPUTER #################\n",
    "#path_dir = \"C:/Users/lucas/Desktop/Encoded_Proteins_Toy\"\n",
    "\n",
    "########## PATH FOR GOOGLE COLAB ####################\n",
    "#path_dir = \"./sample_data/Encoded_Proteins_Toy\"\n",
    "\n",
    "\n",
    "#dataloader = DataLoader(dataset, batch_size=4, collate_fn=default_collate, shuffle=True)"
   ]
  },
  {
   "cell_type": "code",
   "execution_count": 76,
   "id": "e48ee199",
   "metadata": {
    "id": "7cc413a2-39e6-438d-9d86-ac043c6d5cac"
   },
   "outputs": [
    {
     "name": "stdout",
     "output_type": "stream",
     "text": [
      "1321\n"
     ]
    }
   ],
   "source": [
    "dataset = Encoded_Proteins(path_dir)\n",
    "print(len(dataset))\n",
    "dataset_train = Subset(dataset, np.arange(100))\n",
    "dataset_test = Subset(dataset, np.arange(start=100, stop=148))\n",
    "dataloader_train = DataLoader(dataset_train, collate_fn=default_collate, batch_size=4, shuffle=True)\n",
    "dataloader_test = DataLoader(dataset_test, collate_fn=default_collate, batch_size=4, shuffle=True)"
   ]
  },
  {
   "cell_type": "code",
   "execution_count": 77,
   "id": "942553c8",
   "metadata": {
    "colab": {
     "base_uri": "https://localhost:8080/"
    },
    "id": "zt2R19QcwivD",
    "outputId": "bd079e12-74b4-46d2-cbbb-04ea37449a1f"
   },
   "outputs": [
    {
     "data": {
      "text/plain": [
       "25"
      ]
     },
     "execution_count": 77,
     "metadata": {},
     "output_type": "execute_result"
    }
   ],
   "source": [
    "len(dataloader_train) ### I have 250 batches of size 4 each"
   ]
  },
  {
   "cell_type": "code",
   "execution_count": null,
   "id": "9b605204",
   "metadata": {
    "id": "TfdIAtrXEtts"
   },
   "outputs": [],
   "source": []
  },
  {
   "cell_type": "code",
   "execution_count": null,
   "id": "b0c77e9f",
   "metadata": {
    "id": "e6cf3cc2-f699-4698-891e-f985fce10c8b"
   },
   "outputs": [],
   "source": [
    "#dataset_train[1][1].shape"
   ]
  },
  {
   "cell_type": "code",
   "execution_count": 81,
   "id": "7d9b6a34",
   "metadata": {
    "colab": {
     "base_uri": "https://localhost:8080/"
    },
    "id": "8ca1157b-7d93-48b7-bd41-5c41266caaf6",
    "outputId": "bf7abfdd-73a0-44bf-d638-b22e6d556440",
    "tags": []
   },
   "outputs": [
    {
     "name": "stdout",
     "output_type": "stream",
     "text": [
      "We are at epoch:100, loss is:73.11790138483047\r"
     ]
    }
   ],
   "source": [
    "#system_size:int = data.shape[0]\n",
    "n_cat:int = 21\n",
    "n_layers:int=2\n",
    "atten_dim:int=512\n",
    "embed_dim:int=5\n",
    "n_heads:int=16\n",
    "batch_size:int=4\n",
    "#dataloader = DataLoader(dataset, batch_size=batch_size, collate_fn=default_collate, shuffle=True)\n",
    "\n",
    "#decoder = Potts_Decoder(system_size, n_cat, n_layers, atten_dim, embed_dim, n_heads).to(device)\n",
    "lr = 0.001\n",
    "\n",
    "logging = []\n",
    "#device='cuda'\n",
    "device='cpu'\n",
    "#optimizer = torch.optim.Adam(decoder.parameters(), lr=lr)\n",
    "decoder = Potts_Decoder(n_cat, n_layers, atten_dim, embed_dim, n_heads).to(device)\n",
    "optimizer = torch.optim.Adam(decoder.parameters(), lr=lr)\n",
    "loss_f = Pseudo_Likelihood\n",
    "\n",
    "losses_train = []\n",
    "losses_test = []\n",
    "\n",
    "num_epochs = 100\n",
    "\n",
    "## Set the decoder to training mode\n",
    "for epoch in range(1, num_epochs + 1):\n",
    "    decoder.train()\n",
    "    total_loss = 0\n",
    "    iterator=0\n",
    "    for data_xs, data_ys in dataloader_train:\n",
    "        print(f\"iterator:{iterator}\", end=\"\\r\")\n",
    "        iterator+=1\n",
    "        for data_x, data_y in zip(data_xs, data_ys):\n",
    "            data_x = data_x.unsqueeze(0).to(device)\n",
    "            system_size=data_x.shape[1]\n",
    "            mask: Tensor = torch.triu(torch.ones(system_size*decoder.n_cat, system_size*decoder.n_cat, dtype=bool), 1)  \n",
    "            for i in range(system_size):\n",
    "                mask[i*n_cat : (i+1)*n_cat, i*n_cat : (i+1)*n_cat] = 0              \n",
    "            mask: Tensor = torch.nn.Parameter(mask, requires_grad=False).to(device)\n",
    "            ##We have to change how we save the output... necessarely\n",
    "            fields, couplings = decoder(data_x, mask)\n",
    "            #fields, couplings = decoder(data_x)\n",
    "            #seq_vals=torch.zeros(len(data_y), dtype=int)\n",
    "            #for char,idx in zip(data_y, range(len(data_y))):\n",
    "            #    seq_vals[idx] = letter_to_num[char]\n",
    "            hot = one_hot(data_y, num_classes=decoder.n_cat)\n",
    "            hot = torch.flatten(hot).unsqueeze(dim=0).to(device)\n",
    "            #print(system_size)\n",
    "\n",
    "            loss = loss_f(decoder, hot, fields, couplings, one_hot_input=True)/batch_size\n",
    "            total_loss += float(loss)\n",
    "            loss.backward()\n",
    "        optimizer.step()\n",
    "    losses_train.append(total_loss)\n",
    "    print(f\"We are at epoch:{epoch}, loss is:{total_loss}\", end=\"\\r\")\n",
    "    optimizer.zero_grad()\n",
    "    \n",
    "    \n",
    "    #################################### TESTING #########################################\n",
    "    total_loss_test = 0\n",
    "    #losses_test = []\n",
    "    decoder.eval()\n",
    "    for data_xs, data_ys in dataloader_test:\n",
    "        for data_x, data_y in zip(data_xs, data_ys):\n",
    "            data_x = data_x.unsqueeze(0).to(device)\n",
    "            system_size=data_x.shape[1]\n",
    "            mask: Tensor = torch.triu(torch.ones(system_size*decoder.n_cat, system_size*decoder.n_cat, dtype=bool), 1)  \n",
    "            for i in range(system_size):\n",
    "                mask[i*n_cat : (i+1)*n_cat, i*n_cat : (i+1)*n_cat] = 0              \n",
    "            mask: Tensor = torch.nn.Parameter(mask, requires_grad=False).to(device)\n",
    "            ##We have to change how we save the output... necessarely\n",
    "            fields, couplings = decoder(data_x, mask)\n",
    "            #fields, couplings = decoder(data_x)\n",
    "            #seq_vals=torch.zeros(len(data_y), dtype=int)\n",
    "            #for char,idx in zip(data_y, range(len(data_y))):\n",
    "            #    seq_vals[idx] = letter_to_num[char]\n",
    "            hot = one_hot(data_y, num_classes=decoder.n_cat)\n",
    "            hot = torch.flatten(hot).unsqueeze(dim=0).to(device)\n",
    "            #print(system_size)\n",
    "\n",
    "            loss = loss_f(decoder, hot, fields, couplings, one_hot_input=True)/batch_size\n",
    "            total_loss_test += float(loss)\n",
    "    \n",
    "    losses_test.append(total_loss_test)\n",
    "    #train_acc = test(train_loader)\n",
    "    #test_acc = test(test_loader)\n",
    "    #logging.append({\"Epoch\": epoch, \"value\": total_loss, \"kind\": \"Loss\"})\n",
    "    #logging.append({\"Epoch\": epoch, \"value\": train_acc, \"kind\": \"Train_acc\"})\n",
    "    #logging.append({\"Epoch\": epoch, \"value\": test_acc, \"kind\": \"Test\"})\n"
   ]
  },
  {
   "cell_type": "code",
   "execution_count": null,
   "id": "453902ce",
   "metadata": {
    "id": "cd88501e-375d-417e-96e3-03fde6f109f0"
   },
   "outputs": [],
   "source": [
    "import matplotlib.pyplot as plt"
   ]
  },
  {
   "cell_type": "code",
   "execution_count": null,
   "id": "240a69c0",
   "metadata": {
    "colab": {
     "base_uri": "https://localhost:8080/",
     "height": 282
    },
    "id": "Pq6x6R5y2yKw",
    "outputId": "7fcdd452-96df-4126-cf81-7c180a1edccc"
   },
   "outputs": [
    {
     "data": {
      "text/plain": [
       "[<matplotlib.lines.Line2D at 0x7f2e141e4a50>]"
      ]
     },
     "execution_count": 30,
     "metadata": {},
     "output_type": "execute_result"
    },
    {
     "data": {
      "image/png": "[encoded data removed]",
      "text/plain": [
       "<Figure size 432x288 with 1 Axes>"
      ]
     },
     "metadata": {
      "needs_background": "light"
     },
     "output_type": "display_data"
    }
   ],
   "source": [
    "plt.plot(losses_train)"
   ]
  },
  {
   "cell_type": "code",
   "execution_count": null,
   "id": "8fe555be",
   "metadata": {
    "colab": {
     "base_uri": "https://localhost:8080/"
    },
    "id": "idrTLft92z4Y",
    "outputId": "4a102e9b-0ee7-4af9-ca87-27f4dd136935"
   },
   "outputs": [
    {
     "data": {
      "text/plain": [
       "[34.974768579006195]"
      ]
     },
     "execution_count": 32,
     "metadata": {},
     "output_type": "execute_result"
    }
   ],
   "source": [
    "losses_test"
   ]
  },
  {
   "cell_type": "markdown",
   "id": "56d29590",
   "metadata": {
    "id": "c2Qugpho225-"
   },
   "source": [
    "## LET US TRY TO BUILD A NEW LOADER\n",
    "- This loader has to be able to deal with batches which first patches to a common dimension and then returns them patched.\n",
    "- We have to make sure patched parts are ignored from the algorithm."
   ]
  },
  {
   "cell_type": "code",
   "execution_count": 42,
   "id": "a0bcc551",
   "metadata": {},
   "outputs": [
    {
     "name": "stdout",
     "output_type": "stream",
     "text": [
      "Object `tensor.detach()` not found.\n"
     ]
    }
   ],
   "source": [
    "?tensor.detach()"
   ]
  },
  {
   "cell_type": "code",
   "execution_count": 57,
   "id": "7eac8905",
   "metadata": {},
   "outputs": [],
   "source": [
    "path_dir = \"./Encoded_Proteins_Toy\"\n",
    "fname = os.listdir(path_dir)[0:2]\n",
    "fpath1 = os.path.join(path_dir, fname[0])\n",
    "d1 = load_obj(fpath1)\n",
    "\n",
    "fpath2 = os.path.join(path_dir, fname[1])\n",
    "d2 = load_obj(fpath2)\n",
    "## This just auxualiry\n",
    "d_list = [d1, d2]"
   ]
  },
  {
   "cell_type": "code",
   "execution_count": 77,
   "id": "f880540b",
   "metadata": {},
   "outputs": [],
   "source": [
    "## This function is supposed to batch to a common dimension. You also have to batch the output!!!!\n",
    "def parse_batch(batch):\n",
    "    ## Here batch has to be an iterable of proteins structures\n",
    "    B = len(batch)\n",
    "    ## Maybe not maximum?\n",
    "    L_max = max([len(b['Num_Seq']) for b in batch])\n",
    "    #X = np.zeros([B, L_max, 4, 3], dtype=np.float32)\n",
    "    #S = np.zeros([B, L_max], dtype=np.int32)\n",
    "    X = torch.zeros([B, L_max, 512], dtype=torch.float32)\n",
    "    S = torch.zeros([B, L_max], dtype=torch.int8)\n",
    "    \n",
    "    for i, b in enumerate(batch):\n",
    "        l = len(b['Native_Seq'])\n",
    "        x = b['Encoded_Protein'].detach().numpy()\n",
    "\n",
    "        X[i] = torch.tensor(np.pad(x, [[0, L_max-l], [0,0]], 'constant', constant_values=(np.nan, )))\n",
    "        S[i, :l] = b['Num_Seq'] ## Do we leave to 0 all the other values?\n",
    "            \n",
    "    isnan = torch.isnan(X)\n",
    "    mask = torch.isfinite(torch.sum(X, axis=2)) #.astype(torch.bool)\n",
    "    X[isnan] = 0.\n",
    "    X = torch.nan_to_num(X)\n",
    "    \n",
    "    return X, S, mask\n",
    "\n",
    "## This function is supposed to batch to a common dimension. You also have to batch the output!!!!\n",
    "class DynamicLoader(): \n",
    "    def __init__(self, dataset, batch_size=3000, shuffle=True): \n",
    "        self.dataset = dataset\n",
    "        self.batch_size = batch_size\n",
    "        self.shuffle = shuffle\n",
    "        \n",
    "    def batch(self):\n",
    "        dataset = self.dataset\n",
    "        lengths = [len(b['seq']) for b in dataset]\n",
    "\n",
    "        clusters, batch = [], []\n",
    "        for ix in np.argsort(lengths):\n",
    "            size = lengths[ix]\n",
    "            if size * (len(batch) + 1) <= self.batch_size:\n",
    "                batch.append(ix)\n",
    "            else:\n",
    "                if len(batch) > 0: clusters.append(batch)\n",
    "                batch = [ix]\n",
    "        if len(batch) > 0:\n",
    "            clusters.append(batch)\n",
    "        self.clusters = clusters\n",
    "        print(len(clusters), 'batches', len(dataset), 'structures')\n",
    "\n",
    "    def __iter__(self):\n",
    "        self.batch()\n",
    "        if self.shuffle: np.random.shuffle(self.clusters)\n",
    "        N = len(self.clusters)\n",
    "        for b_idx in self.clusters[:N]:\n",
    "            batch = [self.dataset[i] for i in b_idx]\n",
    "            yield parse_batch(batch)"
   ]
  },
  {
   "cell_type": "code",
   "execution_count": 78,
   "id": "c5c34842",
   "metadata": {},
   "outputs": [],
   "source": [
    "import time"
   ]
  },
  {
   "cell_type": "code",
   "execution_count": 81,
   "id": "5256bee0",
   "metadata": {},
   "outputs": [
    {
     "name": "stdout",
     "output_type": "stream",
     "text": [
      "0.005121946334838867\n"
     ]
    }
   ],
   "source": [
    "start = time.time()\n",
    "X, S, mask = parse_batch(d_list)\n",
    "print(time.time()-start)"
   ]
  },
  {
   "cell_type": "code",
   "execution_count": 64,
   "id": "d430404b",
   "metadata": {},
   "outputs": [],
   "source": [
    "#X"
   ]
  },
  {
   "cell_type": "code",
   "execution_count": 62,
   "id": "fc6c5d90",
   "metadata": {},
   "outputs": [
    {
     "data": {
      "text/plain": [
       "83"
      ]
     },
     "execution_count": 62,
     "metadata": {},
     "output_type": "execute_result"
    }
   ],
   "source": [
    "len(d2['Native_Seq'])"
   ]
  },
  {
   "cell_type": "markdown",
   "id": "7568584a",
   "metadata": {},
   "source": [
    "Code for Homologous sequences by Christoph"
   ]
  },
  {
   "cell_type": "markdown",
   "id": "4e118e73",
   "metadata": {},
   "source": [
    "#/bin/bash\n",
    "\n",
    "\n",
    "cathfile=$1\n",
    "maxcon=100\n",
    "\n",
    "for id in $(awk -F'|' '/>/{split($3, a, \"/\"); pdb=substr(a[1], 1, 4); chain=substr(a[1], 5, 1); printf \"%s_%s\\n\",pdb,chain}' cath-dataset-nonredundant-S20.fa | head -n 1000); do\n",
    "\taws s3 cp --no-sign-request s3://openfold/pdb/${id}/a3m/uniref90_hits.a3m ./${id}.a3m &\n",
    "\tn=$(jobs -p | wc -l)\n",
    "    \tif [[ $n -ge $maxcon ]]; then\n",
    "        \techo \"waiting for jobs to finish ($n running)\"\n",
    "        \tsleep 1\n",
    "\tfi\n",
    "done"
   ]
  },
  {
   "cell_type": "code",
   "execution_count": 106,
   "id": "22e00172",
   "metadata": {},
   "outputs": [
    {
     "data": {
      "text/plain": [
       "\u001b[0;31mSignature:\u001b[0m\n",
       "\u001b[0mTransformerEncoderLayer\u001b[0m\u001b[0;34m.\u001b[0m\u001b[0mforward\u001b[0m\u001b[0;34m(\u001b[0m\u001b[0;34m\u001b[0m\n",
       "\u001b[0;34m\u001b[0m    \u001b[0mself\u001b[0m\u001b[0;34m,\u001b[0m\u001b[0;34m\u001b[0m\n",
       "\u001b[0;34m\u001b[0m    \u001b[0msrc\u001b[0m\u001b[0;34m:\u001b[0m \u001b[0mtorch\u001b[0m\u001b[0;34m.\u001b[0m\u001b[0mTensor\u001b[0m\u001b[0;34m,\u001b[0m\u001b[0;34m\u001b[0m\n",
       "\u001b[0;34m\u001b[0m    \u001b[0msrc_mask\u001b[0m\u001b[0;34m:\u001b[0m \u001b[0mUnion\u001b[0m\u001b[0;34m[\u001b[0m\u001b[0mtorch\u001b[0m\u001b[0;34m.\u001b[0m\u001b[0mTensor\u001b[0m\u001b[0;34m,\u001b[0m \u001b[0mNoneType\u001b[0m\u001b[0;34m]\u001b[0m \u001b[0;34m=\u001b[0m \u001b[0;32mNone\u001b[0m\u001b[0;34m,\u001b[0m\u001b[0;34m\u001b[0m\n",
       "\u001b[0;34m\u001b[0m    \u001b[0msrc_key_padding_mask\u001b[0m\u001b[0;34m:\u001b[0m \u001b[0mUnion\u001b[0m\u001b[0;34m[\u001b[0m\u001b[0mtorch\u001b[0m\u001b[0;34m.\u001b[0m\u001b[0mTensor\u001b[0m\u001b[0;34m,\u001b[0m \u001b[0mNoneType\u001b[0m\u001b[0;34m]\u001b[0m \u001b[0;34m=\u001b[0m \u001b[0;32mNone\u001b[0m\u001b[0;34m,\u001b[0m\u001b[0;34m\u001b[0m\n",
       "\u001b[0;34m\u001b[0m\u001b[0;34m)\u001b[0m \u001b[0;34m->\u001b[0m \u001b[0mtorch\u001b[0m\u001b[0;34m.\u001b[0m\u001b[0mTensor\u001b[0m\u001b[0;34m\u001b[0m\u001b[0;34m\u001b[0m\u001b[0m\n",
       "\u001b[0;31mDocstring:\u001b[0m\n",
       "Pass the input through the encoder layer.\n",
       "\n",
       "Args:\n",
       "    src: the sequence to the encoder layer (required).\n",
       "    src_mask: the mask for the src sequence (optional).\n",
       "    src_key_padding_mask: the mask for the src keys per batch (optional).\n",
       "\n",
       "Shape:\n",
       "    see the docs in Transformer class.\n",
       "\u001b[0;31mFile:\u001b[0m      ~/opt/anaconda3/lib/python3.8/site-packages/torch/nn/modules/transformer.py\n",
       "\u001b[0;31mType:\u001b[0m      function\n"
      ]
     },
     "metadata": {},
     "output_type": "display_data"
    }
   ],
   "source": [
    "?TransformerEncoderLayer.forward"
   ]
  },
  {
   "cell_type": "code",
   "execution_count": null,
   "id": "d4697a65",
   "metadata": {},
   "outputs": [],
   "source": []
  }
 ],
 "metadata": {
  "accelerator": "GPU",
  "colab": {
   "collapsed_sections": [],
   "name": "New_Decoder.ipynb",
   "provenance": []
  },
  "gpuClass": "standard",
  "kernelspec": {
   "display_name": "Python 3.9.13 64-bit",
   "language": "python",
   "name": "python3"
  },
  "language_info": {
   "codemirror_mode": {
    "name": "ipython",
    "version": 3
   },
   "file_extension": ".py",
   "mimetype": "text/x-python",
   "name": "python",
   "nbconvert_exporter": "python",
   "pygments_lexer": "ipython3",
   "version": "3.9.13"
  },
  "vscode": {
   "interpreter": {
    "hash": "f9f85f796d01129d0dd105a088854619f454435301f6ffec2fea96ecbd9be4ac"
   }
  }
 },
 "nbformat": 4,
 "nbformat_minor": 5
}
