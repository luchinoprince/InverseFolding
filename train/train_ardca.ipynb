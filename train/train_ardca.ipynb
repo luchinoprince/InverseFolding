{
 "cells": [
  {
   "attachments": {},
   "cell_type": "markdown",
   "metadata": {},
   "source": [
    "## In this notebook I will try to train the model  which gives rise to the arDCA. We can keep the loss the same, as the pseudo likelihood for this model coincides with the true likelihood(I think)."
   ]
  },
  {
   "cell_type": "code",
   "execution_count": 1,
   "metadata": {},
   "outputs": [],
   "source": [
    "import numpy as np\n",
    "import matplotlib.pyplot as plt\n",
    "import os, sys\n",
    "\n",
    "\n",
    "sys.path.insert(1, \"./../util\")\n",
    "sys.path.insert(1, \"./../model\")\n",
    "from encoded_protein_dataset_new import get_embedding, EncodedProteinDataset_new, collate_fn_new#, dynamic_collate_fn\n",
    "from pseudolikelihood import get_npll2, get_npll, get_npll3\n",
    "import torch, torchvision\n",
    "from torch.nn.utils import clip_grad_norm_\n",
    "from potts_decoder import PottsDecoder\n",
    "from torch.utils.data import DataLoader, RandomSampler\n",
    "from functools import partial\n",
    "import biotite.structure\n",
    "from biotite.structure.io import pdbx, pdb\n",
    "from biotite.structure.residues import get_residues\n",
    "from biotite.structure import filter_backbone\n",
    "from biotite.structure import get_chains\n",
    "from biotite.sequence import ProteinSequence\n",
    "from typing import Sequence, Tuple, List\n",
    "import scipy\n",
    "from tqdm import tqdm\n",
    "import pandas as pd\n",
    "import csv\n",
    "import time\n",
    "from torch.utils.tensorboard import SummaryWriter\n",
    "\n",
    "#import pytorch_warmup as warmup\n",
    "from torch.optim.lr_scheduler import ReduceLROnPlateau, MultiStepLR\n",
    "\n",
    "##TURIN HPC\n",
    "#sys.path.insert(1, \"/Data/silva/esm/\")\n",
    "\n",
    "## EUROPA\n",
    "#sys.path.insert(1, \"/home/lucasilva/esm/\")\n",
    "\n",
    "##Lucas computer\n",
    "sys.path.insert(1, \"/home/luchinoprince/Dropbox/Old_OneDrive/Phd/Second_year/research/Feinauer/esm/\")\n",
    "import esm\n",
    "#from esm.inverse_folding import util\n",
    "import esm.pretrained as pretrained\n",
    "from ioutils import read_fasta, read_encodings\n",
    "from torch.nn.utils.rnn import pad_sequence\n",
    "from collections import defaultdict\n",
    "from Bio import SeqIO\n",
    "\n",
    "from dynamic_loader import dynamic_collate_fn, dynamic_cluster"
   ]
  },
  {
   "cell_type": "code",
   "execution_count": 2,
   "metadata": {},
   "outputs": [
    {
     "name": "stdout",
     "output_type": "stream",
     "text": [
      "Counter is:288 length data:287\r"
     ]
    },
    {
     "name": "stderr",
     "output_type": "stream",
     "text": [
      "/home/luchinoprince/Dropbox/Old_OneDrive/Phd/Second_year/research/Feinauer/Inverse_Folding/train/./../util/encoded_protein_dataset_new.py:59: UserWarning: To copy construct from a tensor, it is recommended to use sourceTensor.clone().detach() or sourceTensor.clone().detach().requires_grad_(True), rather than torch.tensor(sourceTensor).\n",
      "  encodings = torch.tensor(read_encodings(encoding_path, trim=False))\n"
     ]
    },
    {
     "name": "stdout",
     "output_type": "stream",
     "text": [
      "/media/luchinoprince/b1715ef3-045d-4bdf-b216-c211472fb5a2/Data/InverseFolding/structure_encodings/1vwxh02.encodings.pt Mismatch in dimension, skipping /home/luchinoprince/split2/train/1vwxh02_train.a3m.pt\n",
      "/media/luchinoprince/b1715ef3-045d-4bdf-b216-c211472fb5a2/Data/InverseFolding/structure_encodings/3o58E00.encodings.pt Mismatch in dimension, skipping /home/luchinoprince/split2/train/3o58E00_train.a3m.pt\n",
      "/media/luchinoprince/b1715ef3-045d-4bdf-b216-c211472fb5a2/Data/InverseFolding/structure_encodings/2wc7A01.encodings.pt Mismatch in dimension, skipping /home/luchinoprince/split2/train/2wc7A01_train.a3m.pt\n",
      "/media/luchinoprince/b1715ef3-045d-4bdf-b216-c211472fb5a2/Data/InverseFolding/structure_encodings/1vwxP00.encodings.pt Mismatch in dimension, skipping /home/luchinoprince/split2/train/1vwxP00_train.a3m.pt\n",
      "/media/luchinoprince/b1715ef3-045d-4bdf-b216-c211472fb5a2/Data/InverseFolding/structure_encodings/1vwxG01.encodings.pt Mismatch in dimension, skipping /home/luchinoprince/split2/train/1vwxG01_train.a3m.pt\n",
      "No encoding file found for MSA file:  1vwxg01_train.a3m.pt\n",
      "/media/luchinoprince/b1715ef3-045d-4bdf-b216-c211472fb5a2/Data/InverseFolding/structure_encodings/3nskB00.encodings.pt Mismatch in dimension, skipping /home/luchinoprince/split2/train/3nskB00_train.a3m.pt\n",
      "/media/luchinoprince/b1715ef3-045d-4bdf-b216-c211472fb5a2/Data/InverseFolding/structure_encodings/1dosA00.encodings.pt Mismatch in dimension, skipping /home/luchinoprince/split2/train/1dosA00_train.a3m.pt\n",
      "/media/luchinoprince/b1715ef3-045d-4bdf-b216-c211472fb5a2/Data/InverseFolding/structure_encodings/1ivnA00.encodings.pt Mismatch in dimension, skipping /home/luchinoprince/split2/train/1ivnA00_train.a3m.pt\n",
      "No encoding file found for MSA file:  3o58e00_train.a3m.pt\n",
      "No encoding file found for MSA file:  1vwxp00_train.a3m.pt\n",
      "No encoding file found for MSA file:  1vwxH02_train.a3m.pt\n",
      "No encoding file found for MSA file:  3o58e00_test.a3m.pt\n",
      "No encoding file found for MSA file:  1vwxg01_test.a3m.pt\n",
      "/media/luchinoprince/b1715ef3-045d-4bdf-b216-c211472fb5a2/Data/InverseFolding/structure_encodings/1vwxP00.encodings.pt Mismatch in dimension, skipping /home/luchinoprince/split2/test/sequence/1vwxP00_test.a3m.pt\n",
      "/media/luchinoprince/b1715ef3-045d-4bdf-b216-c211472fb5a2/Data/InverseFolding/structure_encodings/1dosA00.encodings.pt Mismatch in dimension, skipping /home/luchinoprince/split2/test/sequence/1dosA00_test.a3m.pt\n",
      "/media/luchinoprince/b1715ef3-045d-4bdf-b216-c211472fb5a2/Data/InverseFolding/structure_encodings/3nskB00.encodings.pt Mismatch in dimension, skipping /home/luchinoprince/split2/test/sequence/3nskB00_test.a3m.pt\n",
      "/media/luchinoprince/b1715ef3-045d-4bdf-b216-c211472fb5a2/Data/InverseFolding/structure_encodings/2wc7A01.encodings.pt Mismatch in dimension, skipping /home/luchinoprince/split2/test/sequence/2wc7A01_test.a3m.pt\n",
      "/media/luchinoprince/b1715ef3-045d-4bdf-b216-c211472fb5a2/Data/InverseFolding/structure_encodings/1vwxh02.encodings.pt Mismatch in dimension, skipping /home/luchinoprince/split2/test/sequence/1vwxh02_test.a3m.pt\n",
      "No encoding file found for MSA file:  1vwxH02_test.a3m.pt\n",
      "/media/luchinoprince/b1715ef3-045d-4bdf-b216-c211472fb5a2/Data/InverseFolding/structure_encodings/1vwxG01.encodings.pt Mismatch in dimension, skipping /home/luchinoprince/split2/test/sequence/1vwxG01_test.a3m.pt\n",
      "No encoding file found for MSA file:  1vwxp00_test.a3m.pt\n",
      "/media/luchinoprince/b1715ef3-045d-4bdf-b216-c211472fb5a2/Data/InverseFolding/structure_encodings/3o58E00.encodings.pt Mismatch in dimension, skipping /home/luchinoprince/split2/test/sequence/3o58E00_test.a3m.pt\n",
      "/media/luchinoprince/b1715ef3-045d-4bdf-b216-c211472fb5a2/Data/InverseFolding/structure_encodings/1ivnA00.encodings.pt Mismatch in dimension, skipping /home/luchinoprince/split2/test/sequence/1ivnA00_test.a3m.pt\n",
      "/media/luchinoprince/b1715ef3-045d-4bdf-b216-c211472fb5a2/Data/InverseFolding/structure_encodings/4xhyA00.encodings.pt Mismatch in dimension, skipping /home/luchinoprince/split2/test/structure/4xhyA00.a3m.pt\n",
      "/media/luchinoprince/b1715ef3-045d-4bdf-b216-c211472fb5a2/Data/InverseFolding/structure_encodings/1nthA00.encodings.pt Mismatch in dimension, skipping /home/luchinoprince/split2/test/superfamily/1nthA00.a3m.pt\n",
      "/media/luchinoprince/b1715ef3-045d-4bdf-b216-c211472fb5a2/Data/InverseFolding/structure_encodings/1mdcA00.encodings.pt Mismatch in dimension, skipping /home/luchinoprince/split2/test/superfamily/1mdcA00.a3m.pt\n",
      "Counter is:2679 length data:2671\r"
     ]
    }
   ],
   "source": [
    "### IDEA: MSAS PROCEDURE CAN GIVE DIFFERENT OUTPUT SHAPES? ASK\n",
    "max_msas = None\n",
    "#msa_dir = \"/media/luchinoprince/b1715ef3-045d-4bdf-b216-c211472fb5a2/Data/InverseFolding/msas/\"\n",
    "msa_dir = \"/home/luchinoprince/split2/\"\n",
    "#encoding_dir =\"/media/luchinoce/split2/\"\n",
    "encoding_dir =\"/media/luchinoprince/b1715ef3-045d-4bdf-b216-c211472fb5a2/Data/InverseFolding/structure_encodings/\"\n",
    "\n",
    "train_dataset = EncodedProteinDataset_new(os.path.join(msa_dir, 'train'), encoding_dir, noise=0.02, max_msas=max_msas)          ## Default value of noise used\n",
    "sequence_test_dataset = EncodedProteinDataset_new(os.path.join(msa_dir, 'test/sequence'), encoding_dir, noise=0.0, max_msas=max_msas)\n",
    "structure_test_dataset = EncodedProteinDataset_new(os.path.join(msa_dir, 'test/structure'), encoding_dir, noise=0.0, max_msas=max_msas)\n",
    "superfamily_test_dataset = EncodedProteinDataset_new(os.path.join(msa_dir, 'test/superfamily'), encoding_dir, noise=0.0, max_msas=max_msas)\n"
   ]
  },
  {
   "cell_type": "code",
   "execution_count": 3,
   "metadata": {},
   "outputs": [],
   "source": [
    "batch_structure_size_train = 1### I think with empty GPU we can go up to 16 easily\n",
    "batch_structure_size=16\n",
    "perc_subset_test = 1.0     ## During the training, for every dataset available we select a random 10% of its samples\n",
    "batch_msa_size = 128 ### old is 32, original is 16\n",
    "q = 21 ##isn't always 21\n",
    "#dynamic_collate_fn\n",
    "\n",
    "collate_fn = partial(dynamic_collate_fn, q=q, batch_size=batch_structure_size, batch_msa_size=batch_msa_size)\n",
    "train_loader = DataLoader(train_dataset, batch_size=batch_structure_size_train, collate_fn=collate_fn, shuffle=True,\n",
    "num_workers=1, pin_memory=True)\n",
    "\n",
    "\n",
    "sequence_test_loader = DataLoader(sequence_test_dataset, batch_size=batch_structure_size, collate_fn=collate_fn, shuffle=False, \n",
    "num_workers=4, pin_memory=True, sampler=RandomSampler(sequence_test_dataset, replacement=True, num_samples=int(0.1*len(sequence_test_dataset))))\n",
    "\n",
    "structure_test_loader = DataLoader(structure_test_dataset, batch_size=batch_structure_size, collate_fn=collate_fn, shuffle=False, \n",
    "num_workers=4, pin_memory=True, sampler=RandomSampler(structure_test_dataset, replacement=True, num_samples=int(perc_subset_test*len(structure_test_dataset))))\n",
    "\n",
    "superfamily_test_loader = DataLoader(superfamily_test_dataset, batch_size=batch_structure_size, collate_fn=collate_fn, shuffle=False, \n",
    "num_workers=4, pin_memory=True, sampler=RandomSampler(superfamily_test_dataset, replacement=True, num_samples=int(perc_subset_test*len(superfamily_test_dataset))))"
   ]
  },
  {
   "cell_type": "code",
   "execution_count": 4,
   "metadata": {},
   "outputs": [
    {
     "data": {
      "text/plain": [
       "Embedding(22, 21)"
      ]
     },
     "execution_count": 4,
     "metadata": {},
     "output_type": "execute_result"
    }
   ],
   "source": [
    "decoder = None\n",
    "embedding = None\n",
    "torch.cuda.empty_cache()\n",
    "\n",
    "seed = 24877\n",
    "torch.random.manual_seed(seed)\n",
    "np.random.seed(seed)\n",
    "\n",
    "\n",
    "\n",
    "update_steps = 2100000 #525000                                      ##Usual values are update steps=10^5, test_steps=10^2\n",
    "test_steps = 70000 #17500\n",
    "bk_iter = False                                                  ## This tells us how ofter we save a model(default values is every ten-thousand updates)\n",
    "#n_epochs = update_steps//(len(train_dataset)//batch_structure_size)   ## the other update steps will be used for \"partial epochs\", I want to save the last complet epoch\n",
    "#print(f\"With update_steps:{update_steps} we will do {n_epochs} full epochs\")\n",
    "\n",
    "input_encoding_dim = 512\n",
    "param_embed_dim = 512\n",
    "n_param_heads = 48\n",
    "d_model = 512 ##old 512\n",
    "n_heads = 8 ## old 8\n",
    "n_layers = 6\n",
    "## Check before running which is the GPU which is free the most and put it as the running device\n",
    "device = 0        ## DON'T SET TO ONE OTHER THAN IN SPECIAL SPECIAL OCCASIONS, VERY NOISYYYYY!\n",
    "dropout = 0.1\n",
    "\n",
    "decoder = PottsDecoder(q, n_layers, d_model, input_encoding_dim, param_embed_dim, n_heads, n_param_heads, dropout=dropout)\n",
    "decoder.to(device)\n",
    "embedding = get_embedding(q)\n",
    "embedding.to(device)"
   ]
  },
  {
   "attachments": {},
   "cell_type": "markdown",
   "metadata": {},
   "source": [
    "## HERE I USE THE OLD INEFFICIENT FORM FOR THE LOSS"
   ]
  },
  {
   "cell_type": "code",
   "execution_count": 6,
   "metadata": {},
   "outputs": [],
   "source": [
    "def get_loss(decoder, inputs, eta_J, eta_h):\n",
    "    \"\"\"eta is the multiplicative term in front of the penalized negative pseudo-log-likelihood\"\"\"\n",
    "    msas, encodings, padding_mask  = [input.to(device) for input in inputs]\n",
    "    B, M, N = msas.shape\n",
    "    #print(f\"encodings' shape{encodings.shape}, padding mask:{padding_mask.shape}\")\n",
    "    couplings, fields = decoder.forward_ardca(encodings, padding_mask)\n",
    "    # embed and reshape to (B, M, N*q)\n",
    "    msas_embedded = embedding(msas).view(B, M, -1)\n",
    "\n",
    "    # get npll\n",
    "    npll = get_npll3(msas_embedded, couplings, fields, N, q)\n",
    "    padding_mask_inv = (~padding_mask)\n",
    "\n",
    "    # multiply with the padding mask to filter non-existing residues (this is probably not necessary)       \n",
    "    #npll = npll * padding_mask_inv.unsqueeze(1)\n",
    "    npll = npll.reshape((B,M,-1)) * padding_mask_inv.unsqueeze(1)\n",
    "    penalty = eta_J*(torch.sum(couplings**2))/B + eta_h*(torch.sum(fields**2))/B\n",
    "\n",
    "    # the padding mask does not contain the msa dimension so we need to multiply by M\n",
    "    npll_mean = torch.sum(npll) / (M * torch.sum(padding_mask_inv))\n",
    "    loss_penalty = npll_mean + penalty\n",
    "    return loss_penalty, npll_mean.item() \n",
    "\n",
    "\n",
    "def get_loss_loader(decoder, loader, eta_J, eta_h):\n",
    "    decoder.eval()\n",
    "    losses = []\n",
    "    #with torch.no_grad():\n",
    "    for effective_batch_size, inputs_packed in loader:\n",
    "        npll_full = 0\n",
    "        for inputs in inputs_packed:\n",
    "            mini_batch_size = inputs[0].shape[0]\n",
    "            #_, npll = get_loss_indep(decoder, inputs, eta_J, eta_h) ## For independent model without couplings\n",
    "            _, npll = get_loss(decoder, inputs, eta_J, eta_h)\n",
    "            npll_full += npll*mini_batch_size/effective_batch_size\n",
    "        losses.append(npll_full)\n",
    "            #del inputs\n",
    "    \n",
    "    return np.mean(losses)\n",
    "\n",
    "def train(decoder, inputs_packed, eta_J, eta_h, optimizer, scaler):\n",
    "    effective_batch_size = inputs_packed[0]\n",
    "    loss_penalty_full = 0\n",
    "    train_loss_full = 0\n",
    "    optimizer.zero_grad(set_to_none=True)                           ## set previous gradients to 0\n",
    "    with torch.cuda.amp.autocast():  ## autocasting mixed precision\n",
    "        for inputs in inputs_packed[1]:\n",
    "            mini_batch_size = inputs[0].shape[0]\n",
    "            #loss_penalty, train_batch_loss = get_loss_indep(decoder, inputs, eta_J, eta_h)    ## get the current loss for the batch this is for the independent training\n",
    "            loss_penalty, train_batch_loss = get_loss(decoder, inputs, eta_J, eta_h)\n",
    "            loss_penalty = loss_penalty * mini_batch_size/effective_batch_size\n",
    "            train_batch_loss = train_batch_loss * mini_batch_size/effective_batch_size\n",
    "            #loss_penalty.backward()                         ## Get gradients\n",
    "            scaler.scale(loss_penalty).backward()\n",
    "            loss_penalty_full += loss_penalty.detach()\n",
    "            train_loss_full += train_batch_loss\n",
    "    \n",
    "    \n",
    "    scaler.step(optimizer)\n",
    "    scaler.update()\n",
    "    #optimizer.step()   \n",
    "\n",
    "    return loss_penalty_full, train_loss_full\n",
    "\n",
    "def train_stable(decoder, inputs_packed, eta_J, eta_h, optimizer, scaler):\n",
    "    \"\"\"This training does not use an autoscaler/mixed precision.\"\"\"\n",
    "    effective_batch_size = inputs_packed[0]\n",
    "    loss_penalty_full = 0\n",
    "    train_loss_full = 0\n",
    "    optimizer.zero_grad(set_to_none=True)                           ## set previous gradients to 0\n",
    "    #with torch.cuda.amp.autocast():  ## autocasting mixed precision\n",
    "    for inputs in inputs_packed[1]:\n",
    "        mini_batch_size = inputs[0].shape[0]\n",
    "        #loss_penalty, train_batch_loss = get_loss_indep(decoder, inputs, eta_J, eta_h)    ## get the current loss for the batch this is for the independent training\n",
    "        loss_penalty, train_batch_loss = get_loss(decoder, inputs, eta_J, eta_h)\n",
    "        loss_penalty = loss_penalty * mini_batch_size/effective_batch_size\n",
    "        train_batch_loss = train_batch_loss * mini_batch_size/effective_batch_size\n",
    "        loss_penalty.backward()                         ## Get gradients\n",
    "        #scaler.scale(loss_penalty).backward()\n",
    "        loss_penalty_full += loss_penalty.detach()\n",
    "        train_loss_full += train_batch_loss\n",
    "    \n",
    "    \n",
    "    #scaler.step(optimizer)\n",
    "    #scaler.update()\n",
    "    optimizer.step()   \n",
    "\n",
    "    return loss_penalty_full, train_loss_full"
   ]
  },
  {
   "cell_type": "code",
   "execution_count": 7,
   "metadata": {},
   "outputs": [
    {
     "name": "stderr",
     "output_type": "stream",
     "text": [
      "update_step: 577731, epoch: 25.72  train: 2.14, sequence: 2.76, structure: 2.74, superfamily: 2.74:  28%|██▊       | 577731/2100000 [6:11:11<16:18:03, 25.94it/s]  \n"
     ]
    },
    {
     "ename": "KeyboardInterrupt",
     "evalue": "",
     "output_type": "error",
     "traceback": [
      "\u001b[0;31m---------------------------------------------------------------------------\u001b[0m",
      "\u001b[0;31mKeyboardInterrupt\u001b[0m                         Traceback (most recent call last)",
      "Cell \u001b[0;32mIn[7], line 34\u001b[0m\n\u001b[1;32m     31\u001b[0m \u001b[39mfor\u001b[39;00m inputs_packed \u001b[39min\u001b[39;00m train_loader:\n\u001b[1;32m     32\u001b[0m     decoder\u001b[39m.\u001b[39mtrain()\n\u001b[0;32m---> 34\u001b[0m     loss_penalty, train_batch_loss \u001b[39m=\u001b[39m train(decoder, inputs_packed, eta_J, eta_h, optimizer, scaler)\n\u001b[1;32m     35\u001b[0m     loss_penalty\u001b[39m.\u001b[39mdetach()\n\u001b[1;32m     36\u001b[0m     \u001b[39m#optimizer.step()                                ## Do a step of GD\u001b[39;00m\n",
      "Cell \u001b[0;32mIn[6], line 50\u001b[0m, in \u001b[0;36mtrain\u001b[0;34m(decoder, inputs_packed, eta_J, eta_h, optimizer, scaler)\u001b[0m\n\u001b[1;32m     48\u001b[0m mini_batch_size \u001b[39m=\u001b[39m inputs[\u001b[39m0\u001b[39m]\u001b[39m.\u001b[39mshape[\u001b[39m0\u001b[39m]\n\u001b[1;32m     49\u001b[0m \u001b[39m#loss_penalty, train_batch_loss = get_loss_indep(decoder, inputs, eta_J, eta_h)    ## get the current loss for the batch this is for the independent training\u001b[39;00m\n\u001b[0;32m---> 50\u001b[0m loss_penalty, train_batch_loss \u001b[39m=\u001b[39m get_loss(decoder, inputs, eta_J, eta_h)\n\u001b[1;32m     51\u001b[0m loss_penalty \u001b[39m=\u001b[39m loss_penalty \u001b[39m*\u001b[39m mini_batch_size\u001b[39m/\u001b[39meffective_batch_size\n\u001b[1;32m     52\u001b[0m train_batch_loss \u001b[39m=\u001b[39m train_batch_loss \u001b[39m*\u001b[39m mini_batch_size\u001b[39m/\u001b[39meffective_batch_size\n",
      "Cell \u001b[0;32mIn[6], line 6\u001b[0m, in \u001b[0;36mget_loss\u001b[0;34m(decoder, inputs, eta_J, eta_h)\u001b[0m\n\u001b[1;32m      4\u001b[0m B, M, N \u001b[39m=\u001b[39m msas\u001b[39m.\u001b[39mshape\n\u001b[1;32m      5\u001b[0m \u001b[39m#print(f\"encodings' shape{encodings.shape}, padding mask:{padding_mask.shape}\")\u001b[39;00m\n\u001b[0;32m----> 6\u001b[0m couplings, fields \u001b[39m=\u001b[39m decoder\u001b[39m.\u001b[39;49mforward_ardca(encodings, padding_mask)\n\u001b[1;32m      7\u001b[0m \u001b[39m# embed and reshape to (B, M, N*q)\u001b[39;00m\n\u001b[1;32m      8\u001b[0m msas_embedded \u001b[39m=\u001b[39m embedding(msas)\u001b[39m.\u001b[39mview(B, M, \u001b[39m-\u001b[39m\u001b[39m1\u001b[39m)\n",
      "File \u001b[0;32m~/Dropbox/Old_OneDrive/Phd/Second_year/research/Feinauer/Inverse_Folding/train/./../model/potts_decoder.py:280\u001b[0m, in \u001b[0;36mPottsDecoder.forward_ardca\u001b[0;34m(self, encodings, padding_mask)\u001b[0m\n\u001b[1;32m    278\u001b[0m param_embeddings \u001b[39m=\u001b[39m \u001b[39mself\u001b[39m\u001b[39m.\u001b[39moutput_linear(param_embeddings)\n\u001b[1;32m    279\u001b[0m \u001b[39m#with profiler.record_function(\"Get params\"):\u001b[39;00m\n\u001b[0;32m--> 280\u001b[0m couplings, fields \u001b[39m=\u001b[39m \u001b[39mself\u001b[39;49m\u001b[39m.\u001b[39;49m_get_params_ardca(param_embeddings, N, padding_mask)\n\u001b[1;32m    282\u001b[0m \u001b[39mreturn\u001b[39;00m couplings, fields\n",
      "File \u001b[0;32m~/Dropbox/Old_OneDrive/Phd/Second_year/research/Feinauer/Inverse_Folding/train/./../model/potts_decoder.py:247\u001b[0m, in \u001b[0;36mPottsDecoder._get_params_ardca\u001b[0;34m(self, param_embeddings, N, padding_mask)\u001b[0m\n\u001b[1;32m    245\u001b[0m \u001b[39m# create mask for couplings\u001b[39;00m\n\u001b[1;32m    246\u001b[0m t \u001b[39m=\u001b[39m torch\u001b[39m.\u001b[39mones(\u001b[39mself\u001b[39m\u001b[39m.\u001b[39mq, \u001b[39mself\u001b[39m\u001b[39m.\u001b[39mq)\n\u001b[0;32m--> 247\u001b[0m mask_couplings \u001b[39m=\u001b[39m (\u001b[39m1\u001b[39;49m \u001b[39m-\u001b[39;49m torch\u001b[39m.\u001b[39;49mblock_diag(\u001b[39m*\u001b[39;49m([t] \u001b[39m*\u001b[39;49m N)))\u001b[39m.\u001b[39;49mto(couplings\u001b[39m.\u001b[39;49mdevice)\n\u001b[1;32m    248\u001b[0m mask_couplings\u001b[39m.\u001b[39mrequires_grad \u001b[39m=\u001b[39m \u001b[39mFalse\u001b[39;00m\n\u001b[1;32m    250\u001b[0m couplings \u001b[39m=\u001b[39m couplings \u001b[39m*\u001b[39m mask_couplings\n",
      "\u001b[0;31mKeyboardInterrupt\u001b[0m: "
     ]
    }
   ],
   "source": [
    "#summary_writer = SummaryWriter(log_dir='runs/indep_model')#log_dir=logdir)\n",
    "summary_writer = SummaryWriter()\n",
    "layout = {\n",
    "    \"metrics\": {\n",
    "        \"loss\": [\"Multiline\", [\"loss/train\", \"loss/sequence\", \"loss/structure\", \"loss/superfamily\"]],}\n",
    "}\n",
    "summary_writer.add_custom_scalars(layout)\n",
    "\n",
    "## Let us also save the hyperparameters\n",
    "#with summary_writer as w:\n",
    "import warnings\n",
    "warnings.filterwarnings(\"ignore\")\n",
    "lr = 2.5*1e-4#3.5e-4\n",
    "optimizer = torch.optim.AdamW(decoder.parameters(), lr=lr)\n",
    "eta_J = 0.0#1e-4#2.15e-6\n",
    "eta_h = 0.0#1e-4#6.51e-4\n",
    "\n",
    "\n",
    "hyperparams = {'lr':lr, 'eta_J':eta_J, 'eta_h':eta_h, 'batch_size':batch_structure_size, 'batch_msa_size':batch_msa_size, 'n_param_heads':n_param_heads, 'n_layers':n_layers, \n",
    "                'dropout':dropout, 'param_embed_dim':param_embed_dim, 'n_heads': n_heads}\n",
    "\n",
    "start = time.time()\n",
    "scaler = torch.cuda.amp.GradScaler()\n",
    "with tqdm(total = update_steps) as pbar: ##This is used to have the nice loading bar while training\n",
    "    train_loss = 0\n",
    "    update_step = 0\n",
    "    max_gpu=0\n",
    "    train_batch_losses = []\n",
    "    epoch = 0.0\n",
    "    while update_step < update_steps:\n",
    "        for inputs_packed in train_loader:\n",
    "            decoder.train()\n",
    "\n",
    "            loss_penalty, train_batch_loss = train(decoder, inputs_packed, eta_J, eta_h, optimizer, scaler)\n",
    "            loss_penalty.detach()\n",
    "            #optimizer.step()                                ## Do a step of GD\n",
    "            update_step += 1                                ## Increase update step (the update steps will count also different batches within the same epoch)\n",
    "            epoch = update_step / len(train_loader)\n",
    "            \n",
    "            train_batch_losses.append(train_batch_loss) ## Here we append the lossess in the different batches within the same epoch\n",
    "            \n",
    "            ## We want to keep track of the test loss not at every batch, too costrly otherwise. Usually set to once every 100.\n",
    "            if (update_step  == 1) or (epoch % 5 == 0):\n",
    "                #check_aux = train_batch_losses.copy()\n",
    "                #print(check_aux)\n",
    "                train_loss = np.mean(train_batch_losses)\n",
    "                with torch.no_grad():\n",
    "                    #print(\"beginning first test\")\n",
    "                    sequence_test_loss = get_loss_loader(decoder, sequence_test_loader, eta_J, eta_h)\n",
    "                    #print(\"Completed first test\")\n",
    "                    structure_test_loss = get_loss_loader(decoder, structure_test_loader, eta_J, eta_h)\n",
    "                    #print(\"Completed second test\")\n",
    "                    superfamily_test_loss = get_loss_loader(decoder, superfamily_test_loader, eta_J, eta_h)\n",
    "                    #print(\"Completed third test\")\n",
    "\n",
    "                summary_writer.add_scalar('loss/train', train_loss, update_step)\n",
    "                summary_writer.add_scalar('loss/sequence', sequence_test_loss, update_step)\n",
    "                summary_writer.add_scalar('loss/structure', structure_test_loss, update_step)\n",
    "                summary_writer.add_scalar('loss/superfamily', superfamily_test_loss, update_step)\n",
    "\n",
    "                ## UNCOMMENT THIS!\n",
    "                train_batch_losses = []\n",
    "\n",
    "        \n",
    "            pbar.set_description(f'update_step: {update_step}, epoch: {epoch:.2f}  train: {train_loss:.2f}, sequence: {sequence_test_loss:.2f}, structure: {structure_test_loss:.2f}, superfamily: {superfamily_test_loss:.2f}')\n",
    "            pbar.update(1)\n",
    "            \n",
    "print(f\"It took {time.time()-start} seconds\")\n",
    "save_metrics = {'loss/train': train_loss, 'loss/sequence': sequence_test_loss, \n",
    "'loss/structure': structure_test_loss, 'loss/superfamily': superfamily_test_loss}\n",
    "summary_writer.add_hparams(hyperparams, save_metrics)\n",
    "summary_writer.close()"
   ]
  },
  {
   "cell_type": "code",
   "execution_count": 10,
   "metadata": {},
   "outputs": [],
   "source": [
    "check=0\n",
    "for inputs_packed in train_loader:\n",
    "    for inputs in inputs_packed[1]:\n",
    "        check+=1\n",
    "        #decoder.train()\n",
    "        #loss_penalty, train_batch_loss = train(decoder, inputs_packed, eta_J, eta_h, optimizer, scaler)\n",
    "        msas, encodings, padding_mask  = [input.to(device) for input in inputs]\n",
    "        B, M, N = msas.shape\n",
    "        #print(f\"encodings' shape{encodings.shape}, padding mask:{padding_mask.shape}\")\n",
    "        couplings, fields = decoder.forward_ardca(encodings, padding_mask)\n",
    "        if check>1:\n",
    "            break\n",
    "    if check>1:\n",
    "        break"
   ]
  },
  {
   "cell_type": "code",
   "execution_count": 11,
   "metadata": {},
   "outputs": [],
   "source": [
    "mask = (couplings == 0).to('cpu')"
   ]
  },
  {
   "cell_type": "code",
   "execution_count": 18,
   "metadata": {},
   "outputs": [
    {
     "data": {
      "text/plain": [
       "<matplotlib.image.AxesImage at 0x7fb268258af0>"
      ]
     },
     "execution_count": 18,
     "metadata": {},
     "output_type": "execute_result"
    },
    {
     "data": {
      "image/png": "[encoded data removed]",
      "text/plain": [
       "<Figure size 640x480 with 1 Axes>"
      ]
     },
     "metadata": {},
     "output_type": "display_data"
    }
   ],
   "source": [
    "plt.imshow(mask[0,:,:])"
   ]
  },
  {
   "cell_type": "code",
   "execution_count": 19,
   "metadata": {},
   "outputs": [
    {
     "data": {
      "text/plain": [
       "tensor([-0.0084, -0.0434,  0.0264,  ..., -0.2201, -0.1952,  3.4901],\n",
       "       device='cuda:0', grad_fn=<SliceBackward0>)"
      ]
     },
     "execution_count": 19,
     "metadata": {},
     "output_type": "execute_result"
    }
   ],
   "source": [
    "fields[0,:]"
   ]
  },
  {
   "cell_type": "code",
   "execution_count": 7,
   "metadata": {},
   "outputs": [],
   "source": [
    "bk_dir= '/media/luchinoprince/b1715ef3-045d-4bdf-b216-c211472fb5a2/Data/InverseFolding/Intermediate_Models'\n",
    "fname_par = 'model_11_07_2023_epoch_' + str(94.0)+'_ardca' + '.pt'\n",
    "\n",
    "                ##Arguments of the model, could be inferred\n",
    "args_run = {}\n",
    "args_run['n_layers'] = n_layers\n",
    "args_run['input_encoding_dim'] = input_encoding_dim\n",
    "args_run['param_embed_dim'] = param_embed_dim\n",
    "args_run['n_heads'] = n_heads\n",
    "args_run['n_param_heads'] = n_param_heads\n",
    "args_run['dropout'] = dropout\n",
    "\n",
    "\n",
    "\n",
    "d = {}\n",
    "d['epoch'] = epoch\n",
    "d['update_step'] = update_step\n",
    "d['batch_size'] = batch_structure_size_train\n",
    "d['seed'] = seed\n",
    "d['eta_h'] = eta_h\n",
    "d['eta_J'] = eta_J\n",
    "d['noise'] = 0.02\n",
    "d['args_run'] = args_run\n",
    "d['model_state_dict'] = decoder.state_dict()\n",
    "d['optimizer_state_dict'] = optimizer.state_dict()\n",
    "\n",
    "torch.save(d, os.path.join(bk_dir, fname_par))"
   ]
  }
 ],
 "metadata": {
  "kernelspec": {
   "display_name": "IF",
   "language": "python",
   "name": "python3"
  },
  "language_info": {
   "codemirror_mode": {
    "name": "ipython",
    "version": 3
   },
   "file_extension": ".py",
   "mimetype": "text/x-python",
   "name": "python",
   "nbconvert_exporter": "python",
   "pygments_lexer": "ipython3",
   "version": "3.9.16"
  },
  "orig_nbformat": 4
 },
 "nbformat": 4,
 "nbformat_minor": 2
}
