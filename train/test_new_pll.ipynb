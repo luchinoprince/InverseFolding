{
 "cells": [
  {
   "cell_type": "code",
   "execution_count": 5,
   "metadata": {},
   "outputs": [],
   "source": [
    "import numpy as np\n",
    "#import matplotlib.pyplot as plt\n",
    "import sys\n",
    "sys.path.insert(1, \"./../util/\")\n",
    "sys.path.insert(1, \"./../model/\")\n",
    "from encoded_protein_dataset import EncodedProteinDataset#, collate_fn, get_embedding\n",
    "from encoded_protein_dataset_new import get_embedding, EncodedProteinDataset_new, collate_fn_new\n",
    "from pseudolikelihood import get_npll, get_npll_new, get_npll2\n",
    "import torch, torchvision\n",
    "from torch.nn.utils import clip_grad_norm_\n",
    "from potts_decoder import PottsDecoder\n",
    "from torch.utils.data import DataLoader, RandomSampler\n",
    "from functools import partial\n",
    "import biotite.structure\n",
    "from biotite.structure.io import pdbx, pdb\n",
    "from biotite.structure.residues import get_residues\n",
    "from biotite.structure import filter_backbone\n",
    "from biotite.structure import get_chains\n",
    "from biotite.sequence import ProteinSequence\n",
    "from typing import Sequence, Tuple, List\n",
    "import scipy\n",
    "from tqdm import tqdm\n",
    "import pandas as pd\n",
    "import csv\n",
    "import time\n",
    "from torch.utils.tensorboard import SummaryWriter\n",
    "\n",
    "#import pytorch_warmup as warmup\n",
    "from torch.optim.lr_scheduler import ReduceLROnPlateau, MultiStepLR\n",
    "\n",
    "\n",
    "\n",
    "\n",
    "import os\n",
    "##TURIN HPC\n",
    "#sys.path.insert(1, \"/Data/silva/esm/\")\n",
    "\n",
    "## EUROPA\n",
    "#sys.path.insert(1, \"/home/lucasilva/esm/\")\n",
    "\n",
    "##Lucas computer\n",
    "sys.path.insert(1, \"/media/luchinoprince/b1715ef3-045d-4bdf-b216-c211472fb5a2/esm\")\n",
    "import esm\n",
    "#from esm.inverse_folding import util\n",
    "import esm.pretrained as pretrained\n",
    "from ioutils import read_fasta, read_encodings\n",
    "from torch.nn.utils.rnn import pad_sequence\n",
    "from collections import defaultdict\n"
   ]
  },
  {
   "cell_type": "code",
   "execution_count": 12,
   "metadata": {},
   "outputs": [],
   "source": [
    "def check_gpu_mem():\n",
    "    '''\n",
    "    Uses Nvidia's SMI tool to check the current GPU memory usage.\n",
    "    '''\n",
    "    \n",
    "    # Run the command line tool and get the results.\n",
    "    buf = os.popen('nvidia-smi --query-gpu=memory.total,memory.used --format=csv')\n",
    "\n",
    "    # Use csv module to read and parse the result.\n",
    "    reader = csv.reader(buf, delimiter=',')\n",
    "\n",
    "    # Use a pandas table just for nice formatting.\n",
    "    df = pd.DataFrame(reader)\n",
    "\n",
    "    # Use the first row as the column headers.\n",
    "    new_header = df.iloc[0] #grab the first row for the header\n",
    "    df = df[1:] #take the data less the header row\n",
    "    df.columns = new_header #set the header row as the df header\n",
    "\n",
    "    # Display the formatted table.\n",
    "    #display(df)\n",
    "\n",
    "    return df"
   ]
  },
  {
   "cell_type": "code",
   "execution_count": 13,
   "metadata": {},
   "outputs": [],
   "source": [
    "B=3\n",
    "N=6\n",
    "q=21\n",
    "M=2\n",
    "\n",
    "encodings = torch.randn((B, N, 512))\n",
    "#encodings = 0.1 * torch.ones((B, N, 512))\n",
    "msas = torch.randint(low=0, high=21, size=(B,M,N))\n",
    "\n",
    "embeddings = get_embedding(q)\n",
    "msas_embedded = embeddings(msas)\n",
    "padding_mask = torch.zeros(size=(B, N),dtype=bool)\n",
    "#padding_mask = torch.randint(low=0, high=2, size=(B,N), dtype=bool)\n",
    "padding_mask_inv = (~padding_mask)\n",
    "\n",
    "input_encoding_dim = 512\n",
    "q=21\n",
    "param_embed_dim = 512\n",
    "n_param_heads = 4\n",
    "d_model = 128\n",
    "n_heads = 2\n",
    "n_layers = 2\n",
    "device = 0\n",
    "eta = 1e-3\n",
    "dropout = 0.0\n",
    "\n",
    "device=1\n",
    "\n",
    "\n",
    "decoder = PottsDecoder(q, n_layers, d_model, input_encoding_dim, param_embed_dim, n_heads, n_param_heads, dropout=dropout)\n",
    "\n",
    "model_path = 'D:/Data/InverseFolding/Intermediate_Models/parameters_seed_0_batch_size_4_nheads_2_d_128_nparheads_4_dropout_0.1_eta_0.001_update_3000000_noise_0.02'\n",
    "decoder.load_state_dict(torch.load(model_path, map_location='cpu'))\n",
    "decoder.eval();\n"
   ]
  },
  {
   "cell_type": "code",
   "execution_count": 14,
   "metadata": {},
   "outputs": [],
   "source": [
    "param_embeddings, fields = decoder.forward_new(encodings, padding_mask)\n",
    "#fields"
   ]
  },
  {
   "cell_type": "code",
   "execution_count": 15,
   "metadata": {},
   "outputs": [
    {
     "data": {
      "text/plain": [
       "torch.Size([3, 2, 6, 21])"
      ]
     },
     "execution_count": 15,
     "metadata": {},
     "output_type": "execute_result"
    }
   ],
   "source": [
    "msas_embedded.shape"
   ]
  },
  {
   "cell_type": "code",
   "execution_count": 16,
   "metadata": {},
   "outputs": [
    {
     "data": {
      "text/plain": [
       "torch.Size([3, 4, 6, 21])"
      ]
     },
     "execution_count": 16,
     "metadata": {},
     "output_type": "execute_result"
    }
   ],
   "source": [
    "param_embeddings.shape"
   ]
  },
  {
   "cell_type": "code",
   "execution_count": 17,
   "metadata": {},
   "outputs": [],
   "source": [
    "msas_embedded = msas_embedded.view(B,M,N,q)\n",
    "param_embeddings, fields = decoder.forward_new(encodings, padding_mask)\n",
    "#param_embeddings = 1.0 * torch.ones(param_embeddings.shape)\n",
    "npll2= get_npll2(msas_embedded, param_embeddings, fields, N, q)\n",
    "\n",
    "Q = torch.einsum('bkuia, buhia->bkhia', \n",
    "                    param_embeddings.unsqueeze(2), param_embeddings.unsqueeze(1)).sum(axis=-1).sum(axis=-1)\n",
    "\n",
    "## Later implement with einsum\n",
    "## First multiplication: (B, N, q, 1, K) * (B, 1, 1, K, K) = (B, N, q, 1, K)\n",
    "## Second multiplication: (B, N, Q, 1, K) * (B, N, Q, K, 1) = (B, N, Q, 1, 1)\n",
    "## Flatten + Sums: (B, N, Q, 1, 1) --> (B, N, Q) ---> (B)\n",
    "aux = torch.matmul(torch.matmul(param_embeddings.permute((0,2,3,1)).unsqueeze(-2), Q.unsqueeze(1).unsqueeze(1)),\n",
    "                        param_embeddings.permute((0,2,3,1)).unsqueeze(-1)).flatten(2,4).sum(axis=-1).sum(axis=-1)\n",
    "## Again we don't need any reegeneering for fields, penalty is wrong\n",
    "penalty2 = eta*(aux - (param_embeddings**2).sum(axis=1).sum(axis=-1).sum(axis=-1) + torch.sum(fields**2))/B\n",
    "npll2 = npll2 * padding_mask_inv.unsqueeze(1)\n",
    "#loss2 = torch.sum(npll2)/(M*torch.sum(padding_mask_inv))\n"
   ]
  },
  {
   "cell_type": "code",
   "execution_count": 18,
   "metadata": {},
   "outputs": [
    {
     "data": {
      "text/plain": [
       "tensor([-4.7525e-05, -1.0270e-04, -3.3078e-05], grad_fn=<DivBackward0>)"
      ]
     },
     "execution_count": 18,
     "metadata": {},
     "output_type": "execute_result"
    }
   ],
   "source": [
    "penalty2"
   ]
  },
  {
   "cell_type": "code",
   "execution_count": 19,
   "metadata": {},
   "outputs": [],
   "source": [
    "## New penalty implementation, which is much easier\n",
    "\n",
    "Q2 = torch.einsum('bkuia, buhia->bkhia', \n",
    "                    param_embeddings.unsqueeze(2), param_embeddings.unsqueeze(1)).sum(axis=-1)\n",
    "\n",
    "penalty_new = eta*(torch.sum(torch.sum(Q2,axis=-1)**2) - torch.sum(Q2**2) + torch.sum(fields**2))/B"
   ]
  },
  {
   "cell_type": "code",
   "execution_count": 20,
   "metadata": {},
   "outputs": [
    {
     "data": {
      "text/plain": [
       "tensor(7.1347e-05, grad_fn=<DivBackward0>)"
      ]
     },
     "execution_count": 20,
     "metadata": {},
     "output_type": "execute_result"
    }
   ],
   "source": [
    "penalty_new"
   ]
  },
  {
   "cell_type": "code",
   "execution_count": 21,
   "metadata": {},
   "outputs": [
    {
     "data": {
      "text/plain": [
       "tensor([0.0414, 0.0865, 0.0211], grad_fn=<SumBackward1>)"
      ]
     },
     "execution_count": 21,
     "metadata": {},
     "output_type": "execute_result"
    }
   ],
   "source": [
    "aux"
   ]
  },
  {
   "cell_type": "code",
   "execution_count": 22,
   "metadata": {},
   "outputs": [
    {
     "data": {
      "text/plain": [
       "tensor(1.0412, grad_fn=<SumBackward0>)"
      ]
     },
     "execution_count": 22,
     "metadata": {},
     "output_type": "execute_result"
    }
   ],
   "source": [
    "(param_embeddings**2).sum(axis=1).sum()"
   ]
  },
  {
   "cell_type": "code",
   "execution_count": 23,
   "metadata": {},
   "outputs": [
    {
     "data": {
      "text/plain": [
       "torch.Size([3, 2, 6, 21])"
      ]
     },
     "execution_count": 23,
     "metadata": {},
     "output_type": "execute_result"
    }
   ],
   "source": [
    "msas_embedded.shape"
   ]
  },
  {
   "cell_type": "code",
   "execution_count": 24,
   "metadata": {},
   "outputs": [],
   "source": [
    "couplings, fields = decoder(encodings, padding_mask)\n",
    "#couplings, fields = decoder._get_params(param_embeddings.reshape(B,4,N,q), N, padding_mask)\n",
    "fields_zero = torch.zeros(fields.shape)\n",
    "\n",
    "npll = get_npll(msas_embedded.reshape(B,M,N*q), couplings, fields, N, q)\n",
    "padding_mask_inv = (~padding_mask)\n",
    "\n",
    "# multiply with the padding mask to filter non-existing residues (this is probably not necessary)       \n",
    "npll = npll * padding_mask_inv.unsqueeze(1)\n",
    "penalty = eta*(torch.sum(couplings**2) + torch.sum(fields**2))/B\n",
    "#npll = npll * padding_mask_inv.unsqueeze(1)\n",
    "#loss = torch.sum(npll) / (M * torch.sum(padding_mask_inv))"
   ]
  },
  {
   "cell_type": "code",
   "execution_count": 25,
   "metadata": {},
   "outputs": [
    {
     "data": {
      "text/plain": [
       "torch.Size([4, 128, 128])"
      ]
     },
     "execution_count": 25,
     "metadata": {},
     "output_type": "execute_result"
    }
   ],
   "source": [
    "decoder.P.shape"
   ]
  },
  {
   "cell_type": "code",
   "execution_count": 26,
   "metadata": {},
   "outputs": [
    {
     "data": {
      "text/plain": [
       "tensor(0.0002, grad_fn=<SubBackward0>)"
      ]
     },
     "execution_count": 26,
     "metadata": {},
     "output_type": "execute_result"
    }
   ],
   "source": [
    "penalty - penalty_new"
   ]
  },
  {
   "cell_type": "code",
   "execution_count": 27,
   "metadata": {},
   "outputs": [
    {
     "data": {
      "text/plain": [
       "tensor([[[3.0768, 3.0074, 3.0138, 3.0193, 3.0852, 3.0382],\n",
       "         [3.0508, 3.0664, 3.0141, 3.0615, 3.0573, 3.0913]],\n",
       "\n",
       "        [[3.0679, 3.0469, 3.0676, 3.0537, 3.0669, 3.0142],\n",
       "         [3.0711, 2.9423, 3.0888, 3.0356, 3.0901, 3.0915]],\n",
       "\n",
       "        [[2.9672, 3.0382, 2.9788, 3.0473, 3.1011, 3.0270],\n",
       "         [3.0552, 3.0466, 3.0649, 2.9964, 3.0657, 3.0218]]],\n",
       "       grad_fn=<MulBackward0>)"
      ]
     },
     "execution_count": 27,
     "metadata": {},
     "output_type": "execute_result"
    }
   ],
   "source": [
    "npll"
   ]
  },
  {
   "cell_type": "code",
   "execution_count": null,
   "metadata": {},
   "outputs": [
    {
     "data": {
      "text/plain": [
       "tensor([[[3.0310, 3.0544, 3.0617, 3.0262, 3.0674, 3.0377],\n",
       "         [3.0331, 3.0161, 3.0642, 2.9928, 3.0638, 3.0494]],\n",
       "\n",
       "        [[3.0599, 3.0818, 3.0402, 3.0463, 3.0558, 3.0441],\n",
       "         [2.9705, 3.0692, 3.0361, 3.0679, 2.9936, 3.0498]],\n",
       "\n",
       "        [[3.0473, 3.0396, 3.0709, 3.0523, 3.0688, 3.0024],\n",
       "         [3.0891, 3.0557, 2.9659, 3.0878, 3.0186, 2.9629]]],\n",
       "       grad_fn=<MulBackward0>)"
      ]
     },
     "execution_count": 16,
     "metadata": {},
     "output_type": "execute_result"
    }
   ],
   "source": [
    "npll2"
   ]
  },
  {
   "cell_type": "code",
   "execution_count": null,
   "metadata": {},
   "outputs": [
    {
     "data": {
      "text/plain": [
       "tensor(5.8326e-05, grad_fn=<DivBackward0>)"
      ]
     },
     "execution_count": 10,
     "metadata": {},
     "output_type": "execute_result"
    }
   ],
   "source": [
    "penalty"
   ]
  },
  {
   "cell_type": "code",
   "execution_count": null,
   "metadata": {},
   "outputs": [
    {
     "data": {
      "text/plain": [
       "torch.Size([4])"
      ]
     },
     "execution_count": 12,
     "metadata": {},
     "output_type": "execute_result"
    }
   ],
   "source": [
    "penalty2"
   ]
  },
  {
   "attachments": {},
   "cell_type": "markdown",
   "metadata": {},
   "source": [
    "## Let ut test another thing."
   ]
  },
  {
   "cell_type": "code",
   "execution_count": 76,
   "metadata": {},
   "outputs": [],
   "source": [
    "d_model = 512\n",
    "n_param_heads = 24\n",
    "N = 100\n",
    "B=2\n",
    "\n",
    "input = torch.randn((B, N, d_model))\n",
    "module = torch.nn.modules.Linear(d_model, d_model*n_param_heads, bias = False)\n",
    "\n",
    "output1 = module(input)\n",
    "\n",
    "P = module.weight.reshape(n_param_heads, d_model, d_model)\n",
    "\n",
    "output2 = (P.unsqueeze(0).unsqueeze(2) @ input.unsqueeze(1).unsqueeze(4)).squeeze()\n",
    "\n",
    "\n"
   ]
  },
  {
   "cell_type": "code",
   "execution_count": 17,
   "metadata": {},
   "outputs": [
    {
     "data": {
      "text/plain": [
       "tensor([[ 0.5280,  0.1547, -0.0513],\n",
       "        [ 0.5419,  0.2455,  0.7675],\n",
       "        [-0.3611, -0.0354,  0.1045]], grad_fn=<SliceBackward0>)"
      ]
     },
     "execution_count": 17,
     "metadata": {},
     "output_type": "execute_result"
    }
   ],
   "source": [
    "output1.reshape(B, N, n_param_heads, d_model).transpose(1,2)[1,0,1:4,1:4]"
   ]
  },
  {
   "cell_type": "code",
   "execution_count": 18,
   "metadata": {},
   "outputs": [
    {
     "data": {
      "text/plain": [
       "tensor([[ 0.5280,  0.1547, -0.0513],\n",
       "        [ 0.5419,  0.2455,  0.7675],\n",
       "        [-0.3611, -0.0354,  0.1045]], grad_fn=<SliceBackward0>)"
      ]
     },
     "execution_count": 18,
     "metadata": {},
     "output_type": "execute_result"
    }
   ],
   "source": [
    "output2[1,0,1:4,1:4]"
   ]
  },
  {
   "cell_type": "markdown",
   "metadata": {},
   "source": [
    "## Yes they are the same"
   ]
  },
  {
   "attachments": {},
   "cell_type": "markdown",
   "metadata": {},
   "source": [
    "## Let us test the MLP module now"
   ]
  },
  {
   "cell_type": "code",
   "execution_count": 46,
   "metadata": {},
   "outputs": [],
   "source": [
    "from torchvision.ops import MLP\n",
    "from torch.nn.modules import LayerNorm"
   ]
  },
  {
   "cell_type": "code",
   "execution_count": 83,
   "metadata": {},
   "outputs": [],
   "source": [
    "in_channels = 512\n",
    "hidden_channels = [512]\n",
    "norm_layer = LayerNorm\n",
    "dropout=0.1\n",
    "mlp_layer = MLP(in_channels=512, hidden_channels=hidden_channels, \n",
    "norm_layer=norm_layer, dropout=dropout)\n"
   ]
  },
  {
   "cell_type": "code",
   "execution_count": 84,
   "metadata": {},
   "outputs": [
    {
     "data": {
      "text/plain": [
       "<bound method Module.modules of MLP(\n",
       "  (0): Linear(in_features=512, out_features=512, bias=True)\n",
       "  (1): Dropout(p=0.1, inplace=True)\n",
       ")>"
      ]
     },
     "execution_count": 84,
     "metadata": {},
     "output_type": "execute_result"
    }
   ],
   "source": [
    "mlp_layer.modules"
   ]
  },
  {
   "cell_type": "code",
   "execution_count": 81,
   "metadata": {},
   "outputs": [],
   "source": [
    "output = mlp_layer(input)"
   ]
  },
  {
   "cell_type": "code",
   "execution_count": 82,
   "metadata": {},
   "outputs": [
    {
     "data": {
      "text/plain": [
       "torch.Size([2, 100, 512])"
      ]
     },
     "execution_count": 82,
     "metadata": {},
     "output_type": "execute_result"
    }
   ],
   "source": [
    "output.shape"
   ]
  },
  {
   "cell_type": "markdown",
   "metadata": {},
   "source": [
    "## From here I test"
   ]
  },
  {
   "cell_type": "code",
   "execution_count": null,
   "metadata": {},
   "outputs": [],
   "source": [
    "B=4\n",
    "N=512\n",
    "q=21\n",
    "M=16\n",
    "\n",
    "encodings = torch.randn((B, N, 512))\n",
    "#encodings = 0.1 * torch.ones((B, N, 512))\n",
    "msas = torch.randint(low=0, high=21, size=(B,M,N))\n",
    "\n",
    "embeddings = get_embedding(q)\n",
    "#msas_embedded = embeddings(msas)\n",
    "#padding_mask = torch.zeros(size=(B, N),dtype=bool)\n",
    "padding_mask = torch.randint(low=0, high=2, size=(B,N), dtype=bool)\n",
    "padding_mask_inv = (~padding_mask)\n",
    "\n",
    "msas_test = torch.randint(low=0, high=21, size=(B,M,N))\n",
    "encodings_test = torch.randn((B, N, 512))\n",
    "padding_mask_test = torch.randint(low=0, high=2, size=(B,N), dtype=bool)\n",
    "padding_mask_inv_test = (~padding_mask_test)\n"
   ]
  },
  {
   "cell_type": "markdown",
   "metadata": {},
   "source": [
    "## TOY DATA FOR MEMORY BENCHMARK"
   ]
  },
  {
   "cell_type": "code",
   "execution_count": null,
   "metadata": {},
   "outputs": [],
   "source": [
    "inputs_loader = [(msas, encodings, padding_mask)]\n",
    "inputs_test_loader = [(msas_test, encodings_test, padding_mask_test)]"
   ]
  },
  {
   "cell_type": "markdown",
   "metadata": {},
   "source": [
    "## REAL DATA"
   ]
  },
  {
   "cell_type": "code",
   "execution_count": 6,
   "metadata": {},
   "outputs": [
    {
     "name": "stdout",
     "output_type": "stream",
     "text": [
      "Counter is:28 length data:28\r"
     ]
    },
    {
     "name": "stderr",
     "output_type": "stream",
     "text": [
      "/home/luchinoprince/Dropbox/Old_OneDrive/Phd/Second_year/research/Feinauer/InverseFolding/train/./../util/encoded_protein_dataset_new.py:57: UserWarning: To copy construct from a tensor, it is recommended to use sourceTensor.clone().detach() or sourceTensor.clone().detach().requires_grad_(True), rather than torch.tensor(sourceTensor).\n",
      "  encodings = torch.tensor(read_encodings(encoding_path, trim=False))\n"
     ]
    },
    {
     "name": "stdout",
     "output_type": "stream",
     "text": [
      "Counter is:999 length data:9999\r"
     ]
    }
   ],
   "source": [
    "max_msas = 1000\n",
    "msa_dir = \"/media/luchinoprince/b1715ef3-045d-4bdf-b216-c211472fb5a2/Data/InverseFolding/msas/\"\n",
    "encoding_dir =\"/media/luchinoprince/b1715ef3-045d-4bdf-b216-c211472fb5a2/Data/InverseFolding/structure_encodings/\"\n",
    "\n",
    "\n",
    "## OLD VERSION TOO MEMORY CONSUMING\n",
    "#print(\"I am loading the train and test datasets\")\n",
    "#train_dataset = EncodedProteinDataset(os.path.join(msa_dir, 'train'), encoding_dir, max_msas=max_msas, noise=0.02)          ## Default value of noise used\n",
    "#sequence_test_dataset = EncodedProteinDataset(os.path.join(msa_dir, 'test/sequence'), encoding_dir, noise=0.0, max_msas=max_msas)\n",
    "#structure_test_dataset = EncodedProteinDataset(os.path.join(msa_dir, 'test/structure'), encoding_dir, noise=0.0, max_msas=max_msas)\n",
    "#superfamily_test_dataset = EncodedProteinDataset(os.path.join(msa_dir, 'test/superfamily'), encoding_dir, noise=0.0, max_msas=max_msas)\n",
    "#print(f\"I have loaded the train and test datasets: seq:{len(sequence_test_dataset)}, str:{len(structure_test_dataset)}, super:{len(superfamily_test_dataset)}\")\n",
    "\n",
    "\n",
    "train_dataset = EncodedProteinDataset_new(os.path.join(msa_dir, 'train'), encoding_dir, noise=0.02, max_msas=max_msas)          ## Default value of noise used\n",
    "sequence_test_dataset = EncodedProteinDataset_new(os.path.join(msa_dir, 'test/sequence'), encoding_dir, noise=0.0, max_msas=max_msas)\n",
    "structure_test_dataset = EncodedProteinDataset_new(os.path.join(msa_dir, 'test/structure'), encoding_dir, noise=0.0, max_msas=max_msas)\n",
    "superfamily_test_dataset = EncodedProteinDataset_new(os.path.join(msa_dir, 'test/superfamily'), encoding_dir, noise=0.0, max_msas=max_msas)\n"
   ]
  },
  {
   "cell_type": "code",
   "execution_count": 7,
   "metadata": {},
   "outputs": [
    {
     "name": "stdout",
     "output_type": "stream",
     "text": [
      "I have loaded the train and test datasets: train:1000, seq:1000, struc:1000, super:1000\n"
     ]
    }
   ],
   "source": [
    "print(f\"I have loaded the train and test datasets: train:{len(train_dataset)}, seq:{len(sequence_test_dataset)}, struc:{len(structure_test_dataset)}, super:{len(superfamily_test_dataset)}\")"
   ]
  },
  {
   "cell_type": "code",
   "execution_count": 8,
   "metadata": {},
   "outputs": [],
   "source": [
    "batch_structure_size = 20   ### I think with empty GPU we can hgo up to 10\n",
    "perc_subset_test = 1.0     ## During the training, for every dataset available we select a random 10% of its samples. Now moved to 100% due to noise in evaluation metrics\n",
    "batch_msa_size = 16\n",
    "q = 21                      ##isn't always 21??\n",
    "collate_fn = partial(collate_fn_new, q=q, batch_msa_size=batch_msa_size)\n",
    "\n",
    "train_loader = DataLoader(train_dataset, batch_size=batch_structure_size, collate_fn=collate_fn, shuffle=True)#, num_workers=3)\n",
    "sequence_test_loader = DataLoader(sequence_test_dataset, batch_size=batch_structure_size, collate_fn=collate_fn, shuffle=False, \n",
    "sampler=RandomSampler(sequence_test_dataset, replacement=True, num_samples=int(perc_subset_test*len(sequence_test_dataset)/10)))#, num_workers=3)\n",
    "\n",
    "structure_test_loader = DataLoader(structure_test_dataset, batch_size=batch_structure_size, collate_fn=collate_fn, shuffle=False, \n",
    "sampler=RandomSampler(structure_test_dataset, replacement=True, num_samples=int(perc_subset_test*len(structure_test_dataset))))#, num_workers=3)\n",
    "\n",
    "superfamily_test_loader = DataLoader(superfamily_test_dataset, batch_size=batch_structure_size, collate_fn=collate_fn, shuffle=False, \n",
    "sampler=RandomSampler(superfamily_test_dataset, replacement=True, num_samples=int(perc_subset_test*len(superfamily_test_dataset))))#, num_workers=3)"
   ]
  },
  {
   "cell_type": "code",
   "execution_count": 9,
   "metadata": {},
   "outputs": [
    {
     "data": {
      "text/plain": [
       "50.0"
      ]
     },
     "execution_count": 9,
     "metadata": {},
     "output_type": "execute_result"
    }
   ],
   "source": [
    "len(train_dataset)/batch_structure_size"
   ]
  },
  {
   "attachments": {},
   "cell_type": "markdown",
   "metadata": {},
   "source": [
    "With batch size equal to $32$ we do an epoch every roughly 700 update steps, let us check the evaluation metrics every $10$ epochs, hence roughly every $7k$ update steps on the full test dataset(not for the sequence train dataset which is huge). This should give clearer plots. "
   ]
  },
  {
   "cell_type": "code",
   "execution_count": 10,
   "metadata": {},
   "outputs": [
    {
     "name": "stdout",
     "output_type": "stream",
     "text": [
      "512\n",
      "512\n"
     ]
    },
    {
     "data": {
      "text/plain": [
       "Embedding(22, 21)"
      ]
     },
     "execution_count": 10,
     "metadata": {},
     "output_type": "execute_result"
    }
   ],
   "source": [
    "decoder = None\n",
    "embedding = None\n",
    "torch.cuda.empty_cache()\n",
    "\n",
    "seed = 82477\n",
    "torch.random.manual_seed(seed)\n",
    "np.random.seed(seed)\n",
    "\n",
    "\n",
    "\n",
    "update_steps = 7000                                      ##Usual values are update steps=10^5, test_steps=10^2\n",
    "test_steps = 700\n",
    "bk_iter = False                                                  ## This tells us how ofter we save a model(default values is every ten-thousand updates)\n",
    "#n_epochs = update_steps//(len(train_dataset)//batch_structure_size)   ## the other update steps will be used for \"partial epochs\", I want to save the last complet epoch\n",
    "#print(f\"With update_steps:{update_steps} we will do {n_epochs} full epochs\")\n",
    "\n",
    "input_encoding_dim = 512\n",
    "param_embed_dim = 512\n",
    "n_param_heads = 48\n",
    "d_model = 512 ##old 512\n",
    "n_heads = 8 ## old 8\n",
    "n_layers = 6\n",
    "## Check before running which is the GPU which is free the most and put it as the running device\n",
    "device = 0        ## DON'T SET TO ONE OTHER THAN IN SPECIAL SPECIAL OCCASIONS, VERY NOISYYYYY!\n",
    "dropout = 0.1\n",
    "\n",
    "decoder = PottsDecoder(q, n_layers, d_model, input_encoding_dim, param_embed_dim, n_heads, n_param_heads, dropout=dropout)\n",
    "decoder.to(device)\n",
    "embedding = get_embedding(q)\n",
    "embedding.to(device)\n",
    "\n",
    "#lr_scheduler = torch.optim.lr_scheduler.CosineAnnealingLR(optimizer, T_max=update_steps)\n",
    "#warmup_scheduler = warmup.UntunedLinearWarmup(optimizer)\n",
    "\n",
    "\n"
   ]
  },
  {
   "cell_type": "code",
   "execution_count": 6,
   "metadata": {},
   "outputs": [],
   "source": [
    "#!nvidia-smi"
   ]
  },
  {
   "cell_type": "code",
   "execution_count": 11,
   "metadata": {},
   "outputs": [],
   "source": [
    "def get_loss_new(decoder, inputs, eta):\n",
    "    \"\"\"eta is the multiplicative term in front of the penalized negative pseudo-log-likelihood\"\"\"\n",
    "    msas, encodings, padding_mask  = [input.to(device) for input in inputs]\n",
    "    B, M, N = msas.shape\n",
    "    #print(f\"encodings' shape{encodings.shape}, padding mask:{padding_mask.shape}\")\n",
    "    param_embeddings, fields = decoder.forward_new(encodings, padding_mask)\n",
    "    msas_embedded = embedding(msas)\n",
    "\n",
    "    # get npll\n",
    "    npll = get_npll2(msas_embedded, param_embeddings, fields, N, q)\n",
    "    padding_mask_inv = (~padding_mask)\n",
    "    # multiply with the padding mask to filter non-existing residues (this is probably not necessary)       \n",
    "    npll = npll * padding_mask_inv.unsqueeze(1)\n",
    "    npll_mean = torch.sum(npll) / (M * torch.sum(padding_mask_inv))\n",
    "    \n",
    "    Q = torch.einsum('bkuia, buhia->bkhia', \n",
    "                param_embeddings.unsqueeze(2), param_embeddings.unsqueeze(1)).sum(axis=-1)\n",
    "    penalty = eta*(torch.sum(torch.sum(Q,axis=-1)**2) - torch.sum(Q**2) + torch.sum(fields**2))/B\n",
    "    loss_penalty = npll_mean + penalty\n",
    "    return loss_penalty, npll_mean.item() \n",
    "\n",
    "def get_loss(decoder, inputs, eta):\n",
    "    \"\"\"eta is the multiplicative term in front of the penalized negative pseudo-log-likelihood\"\"\"\n",
    "    msas, encodings, padding_mask  = [input.to(device) for input in inputs]\n",
    "    B, M, N = msas.shape\n",
    "    #print(f\"encodings' shape{encodings.shape}, padding mask:{padding_mask.shape}\")\n",
    "    couplings, fields = decoder(encodings, padding_mask)\n",
    "\n",
    "    # embed and reshape to (B, M, N*q)\n",
    "    msas_embedded = embedding(msas).view(B, M, -1)\n",
    "\n",
    "    # get npll\n",
    "    npll = get_npll(msas_embedded, couplings, fields, N, q)\n",
    "    padding_mask_inv = (~padding_mask)\n",
    "\n",
    "    # multiply with the padding mask to filter non-existing residues (this is probably not necessary)       \n",
    "    npll = npll * padding_mask_inv.unsqueeze(1)\n",
    "    penalty = eta*(torch.sum(couplings**2) + torch.sum(fields**2))/B\n",
    "\n",
    "    # the padding mask does not contain the msa dimension so we need to multiply by M\n",
    "    npll_mean = torch.sum(npll) / (M * torch.sum(padding_mask_inv))\n",
    "    loss_penalty = npll_mean + penalty\n",
    "    return loss_penalty, npll_mean.item() \n",
    "    #return loss_penalty\n",
    "\n",
    "def get_loss_loader(decoder, loader, eta):\n",
    "\n",
    "    decoder.eval()\n",
    "    losses = 0\n",
    "    iterator = 0\n",
    "    with torch.no_grad():\n",
    "        for inputs in loader:\n",
    "            iterator+=1\n",
    "            _, npll = get_loss_new(decoder, inputs, eta) \n",
    "            losses+=npll\n",
    "    \n",
    "    return losses/iterator"
   ]
  },
  {
   "attachments": {},
   "cell_type": "markdown",
   "metadata": {},
   "source": [
    "## Let us load the benchmark model that seem to have plateauded in the training."
   ]
  },
  {
   "cell_type": "code",
   "execution_count": null,
   "metadata": {},
   "outputs": [],
   "source": [
    "bk_dir= 'D:/Data/InverseFolding/Intermediate_Models/'\n",
    "fname_par = 'model_04_01_2023.pt'\n",
    "checkpoint = torch.load(os.path.join(bk_dir, fname_par))"
   ]
  },
  {
   "cell_type": "code",
   "execution_count": null,
   "metadata": {},
   "outputs": [],
   "source": [
    "decoder = PottsDecoder(q, n_layers, d_model, input_encoding_dim, param_embed_dim, n_heads, n_param_heads, dropout=dropout)\n",
    "decoder.to(device)\n",
    "\n",
    "decoder.load_state_dict(checkpoint['model_state_dict'])\n",
    "\n",
    "optimizer = torch.optim.AdamW(decoder.parameters(), lr=1e-3)\n",
    "optimizer.load_state_dict(checkpoint['optimizer_state_dict'])"
   ]
  },
  {
   "cell_type": "code",
   "execution_count": null,
   "metadata": {},
   "outputs": [],
   "source": [
    "optimizer.param_groups[0]['lr'] = 1e-4 ##change the learning rate!"
   ]
  },
  {
   "cell_type": "code",
   "execution_count": null,
   "metadata": {},
   "outputs": [],
   "source": [
    "check=0\n",
    "for inputs in train_loader:\n",
    "    #loss_penalty, train_batch_loss = get_loss_new(decoder, inputs, eta)  \n",
    "    check+=1\n",
    "    if check>2:\n",
    "        break"
   ]
  },
  {
   "cell_type": "code",
   "execution_count": 22,
   "metadata": {},
   "outputs": [],
   "source": [
    "train_loss = sequence_test_loss = structure_test_loss=superfamily_test_loss = 2.4\n",
    "update_step=2\n",
    "\n",
    "summary_writer = SummaryWriter()#log_dir=logdir)\n",
    "layout = {\n",
    "    \"metrics\": {\n",
    "        \"loss\": [\"Multiline\", [\"loss/train\", \"loss/sequence\", \"loss/structure\", \"loss/superfamily\"]],}\n",
    "}\n",
    "summary_writer.add_custom_scalars(layout)\n",
    "hyperparams = { 'lr':1e-4, 'eta':1e-4, 'batch_size':batch_structure_size, 'n_param_heads':n_param_heads, 'n_layers':n_layers, \n",
    "                'dropout':dropout, 'param_embed_dim':param_embed_dim, 'n_heads': n_heads}\n",
    "for i in range(50):\n",
    "    update_step=i\n",
    "    summary_writer.add_scalar('loss/train', train_loss+i, update_step)\n",
    "    summary_writer.add_scalar('loss/sequence', sequence_test_loss+i, update_step)\n",
    "    summary_writer.add_scalar('loss/structure', structure_test_loss+i, update_step)\n",
    "    summary_writer.add_scalar('loss/superfamily', superfamily_test_loss+i, update_step)\n",
    "\n",
    "    save_metrics = {'loss/train': 100+i, 'loss/sequence': 50+i, 'loss/structure': 12+i, 'loss/superfamily': 14+i}\n",
    "    summary_writer.add_hparams(hyperparams, save_metrics)\n",
    "\n",
    "\n",
    "\n",
    "\n",
    "\n",
    "\n",
    "## Let us also save the hyperparameters\n",
    "#with summary_writer as w:\n",
    "\n",
    "#save_metrics = {'loss/train': 100, 'loss/sequence': 50, 'loss/structure': 12, 'loss/superfamily': 14}\n",
    "#summary_writer.add_hparams(hyperparams, save_metrics)\n",
    "\n",
    "summary_writer.close()\n",
    "\n"
   ]
  },
  {
   "cell_type": "code",
   "execution_count": 37,
   "metadata": {},
   "outputs": [
    {
     "data": {
      "text/plain": [
       "0.0"
      ]
     },
     "execution_count": 37,
     "metadata": {},
     "output_type": "execute_result"
    }
   ],
   "source": [
    "6.0%2"
   ]
  },
  {
   "cell_type": "code",
   "execution_count": 12,
   "metadata": {},
   "outputs": [
    {
     "name": "stderr",
     "output_type": "stream",
     "text": [
      "  0%|          | 0/7000 [00:00<?, ?it/s]/home/luchinoprince/Dropbox/Old_OneDrive/Phd/Second_year/research/Feinauer/InverseFolding/train/./../util/encoded_protein_dataset_new.py:79: UserWarning: To copy construct from a tensor, it is recommended to use sourceTensor.clone().detach() or sourceTensor.clone().detach().requires_grad_(True), rather than torch.tensor(sourceTensor).\n",
      "  encodings = torch.tensor(read_encodings(encoding_path, trim=False))\n",
      "/home/luchinoprince/anaconda3/envs/IF/lib/python3.9/site-packages/torch/nn/modules/transformer.py:544: UserWarning: Converting mask without torch.bool dtype to bool; this will negatively affect performance. Prefer to use a boolean mask directly. (Triggered internally at ../aten/src/ATen/native/transformers/attention.cpp:150.)\n",
      "  return torch._transformer_encoder_layer_fwd(\n",
      "update_step: 251, epoch: 5.02  train: 11.32, sequence: 4.13, structure: 4.44, superfamily: 4.30:   4%|▎         | 251/7000 [00:42<19:11,  5.86it/s]\n"
     ]
    },
    {
     "ename": "KeyboardInterrupt",
     "evalue": "",
     "output_type": "error",
     "traceback": [
      "\u001b[0;31m---------------------------------------------------------------------------\u001b[0m",
      "\u001b[0;31mKeyboardInterrupt\u001b[0m                         Traceback (most recent call last)",
      "Cell \u001b[0;32mIn[12], line 35\u001b[0m\n\u001b[1;32m     32\u001b[0m \u001b[39mfor\u001b[39;00m inputs \u001b[39min\u001b[39;00m train_loader:\n\u001b[1;32m     33\u001b[0m     decoder\u001b[39m.\u001b[39mtrain()\n\u001b[0;32m---> 35\u001b[0m     loss_penalty, train_batch_loss \u001b[39m=\u001b[39m get_loss_new(decoder, inputs, eta)    \u001b[39m## get the current loss for the batch\u001b[39;00m\n\u001b[1;32m     36\u001b[0m     optimizer\u001b[39m.\u001b[39mzero_grad()                           \u001b[39m## set previous gradients to 0\u001b[39;00m\n\u001b[1;32m     37\u001b[0m     loss_penalty\u001b[39m.\u001b[39mbackward()                         \u001b[39m## Get gradients\u001b[39;00m\n",
      "Cell \u001b[0;32mIn[11], line 20\u001b[0m, in \u001b[0;36mget_loss_new\u001b[0;34m(decoder, inputs, eta)\u001b[0m\n\u001b[1;32m     18\u001b[0m penalty \u001b[39m=\u001b[39m eta\u001b[39m*\u001b[39m(torch\u001b[39m.\u001b[39msum(torch\u001b[39m.\u001b[39msum(Q,axis\u001b[39m=\u001b[39m\u001b[39m-\u001b[39m\u001b[39m1\u001b[39m)\u001b[39m*\u001b[39m\u001b[39m*\u001b[39m\u001b[39m2\u001b[39m) \u001b[39m-\u001b[39m torch\u001b[39m.\u001b[39msum(Q\u001b[39m*\u001b[39m\u001b[39m*\u001b[39m\u001b[39m2\u001b[39m) \u001b[39m+\u001b[39m torch\u001b[39m.\u001b[39msum(fields\u001b[39m*\u001b[39m\u001b[39m*\u001b[39m\u001b[39m2\u001b[39m))\u001b[39m/\u001b[39mB\n\u001b[1;32m     19\u001b[0m loss_penalty \u001b[39m=\u001b[39m npll_mean \u001b[39m+\u001b[39m penalty\n\u001b[0;32m---> 20\u001b[0m \u001b[39mreturn\u001b[39;00m loss_penalty, npll_mean\u001b[39m.\u001b[39;49mitem()\n",
      "\u001b[0;31mKeyboardInterrupt\u001b[0m: "
     ]
    }
   ],
   "source": [
    "### Setting up TensorBoard ######\n",
    "#tb_folder = 'dropout_'+ str(args.dropout) + 'noise_' + str(args.noise) +'_new'\n",
    "#tb_folder = 'new_test'\n",
    "#logdir = os.path.join('./runs', tb_folder)\n",
    "#logdir = './runs'\n",
    "#torch.autograd.set_detect_anomaly(True)\n",
    "summary_writer = SummaryWriter()#log_dir=logdir)\n",
    "layout = {\n",
    "    \"metrics\": {\n",
    "        \"loss\": [\"Multiline\", [\"loss/train\", \"loss/sequence\", \"loss/structure\", \"loss/superfamily\"]],}\n",
    "}\n",
    "summary_writer.add_custom_scalars(layout)\n",
    "\n",
    "## Let us also save the hyperparameters\n",
    "#with summary_writer as w:\n",
    "hyperparams = {'lr':1e-4, 'eta':1e-4, 'batch_size':batch_structure_size, 'batch_msa_size':batch_msa_size, 'n_param_heads':n_param_heads, 'n_layers':n_layers, \n",
    "                'dropout':dropout, 'param_embed_dim':param_embed_dim, 'n_heads': n_heads}\n",
    "\n",
    "\n",
    "optimizer = torch.optim.AdamW(decoder.parameters(), lr=1e-4)\n",
    "#scheduler1 = ReduceLROnPlateau(optimizer, 'min', patience=100)\n",
    "#scheduler2 = MultiStepLR(optimizer, milestones=[1000, 2000], gamma = 1/np.sqrt(5))\n",
    "eta = 1e-4\n",
    "start = time.time()\n",
    "with tqdm(total = update_steps) as pbar: ##This is used to have the nice loading bar while training\n",
    "    train_loss = 0\n",
    "    update_step = 0\n",
    "    max_gpu=0\n",
    "    train_batch_losses = []\n",
    "    epoch = 0.0\n",
    "    while update_step < update_steps:\n",
    "        for inputs in train_loader:\n",
    "            decoder.train()\n",
    "\n",
    "            loss_penalty, train_batch_loss = get_loss_new(decoder, inputs, eta)    ## get the current loss for the batch\n",
    "            optimizer.zero_grad()                           ## set previous gradients to 0\n",
    "            loss_penalty.backward()                         ## Get gradients\n",
    "            #clip_grad_norm_(decoder.parameters(), max_norm=2.0, norm_type=2)\n",
    "            loss_penalty.detach()\n",
    "            optimizer.step()                                ## Do a step of GD\n",
    "            update_step += 1                                ## Increase update step (the update steps will count also different batches within the same epoch)\n",
    "            epoch = update_step / len(train_loader)\n",
    "            \n",
    "            train_batch_losses.append(train_batch_loss) ## Here we append the lossess in the different batches within the same epoch\n",
    "\n",
    "            ## We chain two different schedulers, one for the initial stage, and one for the plateau\n",
    "            #scheduler1.step(loss_penalty)\n",
    "            #cheduler2.step()\n",
    "            \n",
    "            ## Better understand the difference between lr_scheduler and warm_scheduler.\n",
    "            #with warmup_scheduler.dampening():\n",
    "            #    lr_scheduler.step()\n",
    "            \n",
    "            ## We want to keep track of the test loss not at every batch, too costrly otherwise. Usually set to once every 100.\n",
    "            #if ((update_step-1) % test_steps == 0) or (update_step == update_steps - 1):\n",
    "            if (update_step  == 1) or (epoch % 10 == 0):\n",
    "                #print(\"I am here\")\n",
    "                #train_loss = np.mean(train_batch_losses)#torch.mean(train_batch_losses)  ##fix this\n",
    "                train_loss = np.mean(train_batch_losses)\n",
    "                summary_writer.add_scalar('loss/train', train_loss, update_step)\n",
    "                #del loss_penalty\n",
    "                #del train_batch_losses\n",
    "                #train_loss=1              \n",
    "                #sequence_test_loss = get_loss_loader(decoder, inputs_test_loader, eta)\n",
    "                sequence_test_loss = get_loss_loader(decoder, sequence_test_loader, eta)\n",
    "                structure_test_loss = get_loss_loader(decoder, structure_test_loader, eta)\n",
    "                superfamily_test_loss = get_loss_loader(decoder, superfamily_test_loader, eta)\n",
    "                #gpu = int((check_gpu_mem().values[device, 1])[1:-4])\n",
    "                #if gpu > max_gpu:\n",
    "                #    max_gpu = gpu\n",
    "                summary_writer.add_scalar('loss/sequence', sequence_test_loss, update_step)\n",
    "                summary_writer.add_scalar('loss/structure', structure_test_loss, update_step)\n",
    "                summary_writer.add_scalar('loss/superfamily', superfamily_test_loss, update_step)\n",
    "\n",
    "                ## UNCOMMENT THIS!\n",
    "                train_batch_losses = []\n",
    "\n",
    "            ##This gives me problem, I had to change the if condition\n",
    "            #pbar.set_description(f'update_step: {update_step}, epoch: {epoch:.2f} train_batch: {train_batch_loss:.2f} train: {train_loss:.2f}, sequence: {sequence_test_loss:.2f}, max_gpu:{max_gpu}')#, GPU total memory: {check_gpu_mem().values[device, 0]}, GPU used: {check_gpu_mem().values[device, 1]}')\n",
    "            pbar.set_description(f'update_step: {update_step}, epoch: {epoch:.2f}  train: {train_loss:.2f}, sequence: {sequence_test_loss:.2f}, structure: {structure_test_loss:.2f}, superfamily: {superfamily_test_loss:.2f}')\n",
    "            pbar.update(1)\n",
    "            \n",
    "print(f\"It took {time.time()-start} seconds\")\n",
    "save_metrics = {'loss/train': train_loss, 'loss/sequence': sequence_test_loss, \n",
    "'loss/structure': structure_test_loss, 'loss/superfamily': superfamily_test_loss}\n",
    "summary_writer.add_hparams(hyperparams, save_metrics)\n",
    "summary_writer.close()"
   ]
  },
  {
   "cell_type": "code",
   "execution_count": null,
   "metadata": {},
   "outputs": [],
   "source": [
    "#decoder.P.bias"
   ]
  },
  {
   "cell_type": "code",
   "execution_count": 57,
   "metadata": {},
   "outputs": [],
   "source": [
    "bk_dir= 'D:/Data/InverseFolding/Intermediate_Models/'\n",
    "fname_par = 'model_17_01_2023.pt'\n",
    "\n",
    "##Arguments of the model, could be inferred\n",
    "args = {}\n",
    "args['n_layers'] = n_layers\n",
    "args['input_encoding_dim'] = input_encoding_dim\n",
    "args['param_embed_dim'] = param_embed_dim\n",
    "args['n_heads'] = n_heads\n",
    "args['n_param_heads'] = n_param_heads\n",
    "args['dropout'] = dropout\n",
    "\n",
    "\n",
    "\n",
    "d = {}\n",
    "d['epoch'] = epoch\n",
    "d['update_step'] = update_step\n",
    "d['batch_size'] = batch_structure_size\n",
    "d['seed'] = seed\n",
    "d['eta'] = eta\n",
    "d['noise'] = 0.02\n",
    "d['args'] = args\n",
    "d['model_state_dict'] = decoder.state_dict()\n",
    "d['optimizer_state_dict'] = optimizer.state_dict()\n",
    "\n",
    "torch.save(d, os.path.join(bk_dir, fname_par))"
   ]
  },
  {
   "cell_type": "code",
   "execution_count": null,
   "metadata": {},
   "outputs": [
    {
     "data": {
      "text/plain": [
       "[<matplotlib.lines.Line2D at 0x1543335ba30>]"
      ]
     },
     "execution_count": 12,
     "metadata": {},
     "output_type": "execute_result"
    },
    {
     "data": {
      "image/png": "[encoded data removed]",
      "text/plain": [
       "<Figure size 640x480 with 1 Axes>"
      ]
     },
     "metadata": {},
     "output_type": "display_data"
    }
   ],
   "source": [
    "plt.plot(train_batch_losses[100:])"
   ]
  },
  {
   "cell_type": "code",
   "execution_count": null,
   "metadata": {},
   "outputs": [
    {
     "data": {
      "text/plain": [
       "2.980251363345555"
      ]
     },
     "execution_count": 15,
     "metadata": {},
     "output_type": "execute_result"
    }
   ],
   "source": [
    "structure_test_loss"
   ]
  },
  {
   "cell_type": "markdown",
   "metadata": {},
   "source": [
    "- MAX GPU old implementation: roughly $11$ Gbs, time to perform $1000$ update steps is $811$ seconds. \n",
    "- MAX GPU new implementation: roughly $2.3$ Gbs, time to perform $1000$ update steps is $70$ seconds."
   ]
  },
  {
   "cell_type": "code",
   "execution_count": null,
   "metadata": {},
   "outputs": [],
   "source": [
    "torch.cuda.empty_cache()"
   ]
  }
 ],
 "metadata": {
  "kernelspec": {
   "display_name": "IF3",
   "language": "python",
   "name": "python3"
  },
  "language_info": {
   "codemirror_mode": {
    "name": "ipython",
    "version": 3
   },
   "file_extension": ".py",
   "mimetype": "text/x-python",
   "name": "python",
   "nbconvert_exporter": "python",
   "pygments_lexer": "ipython3",
   "version": "3.9.16"
  },
  "orig_nbformat": 4,
  "vscode": {
   "interpreter": {
    "hash": "ef468693205e50fc967ab488061515ab821b0c81a84b9cd6a21a9f585a4dae20"
   }
  }
 },
 "nbformat": 4,
 "nbformat_minor": 2
}
